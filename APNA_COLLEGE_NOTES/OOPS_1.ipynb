{
 "cells": [
  {
   "cell_type": "markdown",
   "metadata": {},
   "source": [
    "# CLASS AND OBJECT\n",
    "### CLASS\n",
    "* In Python class is the blue print or the structure.\n",
    "* Classes are created by keyword class.\n",
    "* Attributes are the variables that belong to a class.\n",
    "* Attributes are always public and can be accessed using the dot (.) operator. Eg.: My class.Myattribute\n",
    "### SYNTAX \n",
    "```\n",
    "class ClassName:\n",
    "    # Statement\n",
    "```\n",
    "### OBJECT\n",
    "* Anything make by using class is called the object.\n",
    "### SYNTAX\n",
    "```\n",
    "obj = ClassName()\n",
    "print(obj.atrr)\n",
    "```\n",
    "# EXAMPLE\n",
    "* We are going to make a car, first we have to make the structure of the car, and then we have to start working on making the actual car, here the structure of the car is called the class while the actual car, that is make by using the class is called the object."
   ]
  },
  {
   "cell_type": "code",
   "execution_count": 3,
   "metadata": {},
   "outputs": [
    {
     "name": "stdout",
     "output_type": "stream",
     "text": [
      "<__main__.Student object at 0x000001D8E1DBEA80>\n",
      "Tahir\n",
      "Tahir\n"
     ]
    }
   ],
   "source": [
    "class Student:                      # This is the class.\n",
    "    name = \"Tahir\"                  # The data that is stored in the class in the form of variables is called attribute.\n",
    "    \n",
    "s1 = Student()                      # This is the object.\n",
    "print(s1)\n",
    "\n",
    "s2 = Student()                      # This is the object.\n",
    "print(s2.name)\n",
    "\n",
    "s3 = Student()                      # This is the object.\n",
    "print(s3.name)"
   ]
  },
  {
   "cell_type": "code",
   "execution_count": 11,
   "metadata": {},
   "outputs": [
    {
     "name": "stdout",
     "output_type": "stream",
     "text": [
      "<__main__.Student object at 0x000001D8E1DEE5D0>\n",
      "Adding new student in Database...\n",
      "<__main__.Student object at 0x000001D8E1DEE5D0>\n"
     ]
    }
   ],
   "source": [
    "class Student:\n",
    "    name = \"Tahir\"\n",
    "    def __init__(self):\n",
    "        print(self)\n",
    "        print(\"Adding new student in Database...\")\n",
    "        \n",
    "s1 = Student()            # The use of Parentheses () after the name of class, is used to call the constructor function.\n",
    "print(s1)                        # The constructor function invoke (call) automatically."
   ]
  },
  {
   "cell_type": "code",
   "execution_count": 16,
   "metadata": {},
   "outputs": [
    {
     "name": "stdout",
     "output_type": "stream",
     "text": [
      "Adding new student in Database...\n",
      "Tahir\n",
      "Adding new student in Database...\n",
      "Aqeel\n"
     ]
    }
   ],
   "source": [
    "class Student:\n",
    "    def __init__(self, fullname):\n",
    "        self.name = fullname\n",
    "        print(\"Adding new student in Database...\")\n",
    "    \n",
    "s1 = Student(\"Tahir\")          # The constructor function call with every object every time.\n",
    "print(s1.name)\n",
    "\n",
    "s2 = Student(\"Aqeel\")          # The constructor function call with every object, every time.\n",
    "print(s2.name)"
   ]
  },
  {
   "cell_type": "code",
   "execution_count": 18,
   "metadata": {},
   "outputs": [
    {
     "name": "stdout",
     "output_type": "stream",
     "text": [
      "Adding new student in Database...\n",
      "Tahir 97\n",
      "Adding new student in Database...\n",
      "Aqeel 100\n"
     ]
    }
   ],
   "source": [
    "class Student:\n",
    "    \n",
    "    def __init__(self, name, marks):\n",
    "        self.name = name                              # Here self.name means the name that is going to be create new in the object, while name represents the name in the parameters.\n",
    "        self.marks = marks\n",
    "        print(\"Adding new student in Database...\")\n",
    "        \n",
    "s1 = Student(\"Tahir\", 97)\n",
    "print(s1.name, s1.marks)\n",
    "\n",
    "s2 = Student(\"Aqeel\", 100)\n",
    "print(s2.name, s2.marks)"
   ]
  },
  {
   "cell_type": "code",
   "execution_count": 26,
   "metadata": {},
   "outputs": [
    {
     "name": "stdout",
     "output_type": "stream",
     "text": [
      "Adding new student in Database...\n",
      "Tahir 97\n",
      "Adding new student in Database...\n",
      "Aqeel 100\n"
     ]
    }
   ],
   "source": [
    "class Student:\n",
    "    # Default constructor         (constructors having only one parameter.)\n",
    "    def __init__(self):           # Python create such constructor automatically.\n",
    "        pass\n",
    "    \n",
    "    # Parameterized constructors ( Constructors having more than one parameters.)\n",
    "    def __init__(self, name, marks):\n",
    "        self.name = name\n",
    "        self.marks = marks\n",
    "        print(\"Adding new student in Database...\")\n",
    "        \n",
    "        \n",
    "s1 = Student(\"Tahir\", 97)\n",
    "print(s1.name, s1.marks)\n",
    "\n",
    "s2 = Student(\"Aqeel\", 100)\n",
    "\n",
    "print(s2.name, s2.marks)    "
   ]
  },
  {
   "cell_type": "code",
   "execution_count": 17,
   "metadata": {},
   "outputs": [
    {
     "name": "stdout",
     "output_type": "stream",
     "text": [
      "Adding new student in the Database...\n",
      "Tahir 97\n",
      "ABC College\n"
     ]
    }
   ],
   "source": [
    "class Student:                                                 # In class we define the attributes having alike value, \n",
    "    college_name = \"ABC College\"                               # For instance, in a college the name of all the students is different, but the name of college for all the students is same, so in order to store college name we will use attribute to store the name of college in class.\n",
    "    name = \"Anonymous\"     # Class attribute \n",
    "            \n",
    "    def __init__(self, name, marks):                               # In object we define the attributes having different name, like take the example of students in college, here college name will be store in class as an attribute while the name of students will be store in object as attributes. \n",
    "        self.name = name       # Object attribute > Class attribute\n",
    "        self.marks = marks\n",
    "        print(\"Adding new student in the Database...\")\n",
    "    \n",
    "    \n",
    "    \n",
    "s1 = Student(\"Tahir\", 97)\n",
    "print(s1.name, s1.marks)\n",
    "print(Student.college_name)"
   ]
  },
  {
   "cell_type": "code",
   "execution_count": 4,
   "metadata": {},
   "outputs": [
    {
     "name": "stdout",
     "output_type": "stream",
     "text": [
      "Blue\n",
      "Mercedes\n"
     ]
    }
   ],
   "source": [
    "class Car:                       # This is a class.\n",
    "    color = \"Blue\"\n",
    "    brand = \"Mercedes\"\n",
    "    \n",
    "car1 = Car()                     # This is an object.\n",
    "print(car1.color)              \n",
    "print(car1.brand)"
   ]
  },
  {
   "cell_type": "markdown",
   "metadata": {},
   "source": [
    "# METHODS \n",
    "* In class there are two things:\n",
    "    * Attributes        (Variables) OR (Properties)\n",
    "        * LIKE..CAR color, Car brand....\n",
    "    * Methods are the functions that belong to the object.\n",
    "        * LIKE...How to start the car."
   ]
  },
  {
   "cell_type": "code",
   "execution_count": 31,
   "metadata": {},
   "outputs": [
    {
     "name": "stdout",
     "output_type": "stream",
     "text": [
      "Welcome Student, Tahir\n",
      "97\n"
     ]
    }
   ],
   "source": [
    "class Student:\n",
    "    college_name = \"ABC College\"\n",
    "    \n",
    "    def __init__(self, name, marks):\n",
    "        self.name = name\n",
    "        self.marks = marks\n",
    "\n",
    "    def welcome(self):\n",
    "        print(\"Welcome Student,\", self.name)\n",
    "    \n",
    "    def get_marks(self):\n",
    "        return self.marks\n",
    "\n",
    "s1 = Student(\"Tahir\", 97)\n",
    "s1.welcome()\n",
    "print(s1.get_marks())"
   ]
  },
  {
   "cell_type": "markdown",
   "metadata": {},
   "source": [
    "# PRACTICE QUESTION"
   ]
  },
  {
   "cell_type": "code",
   "execution_count": 37,
   "metadata": {},
   "outputs": [
    {
     "name": "stdout",
     "output_type": "stream",
     "text": [
      "Hi, Tahir Your average score is: 32.666666666666664\n",
      "Hi, Tahir Your average score is: 65.66666666666667\n",
      "Hi, Tahir Your average score is: 99.0\n",
      "Hi, Aqeel Your average score is: 32.666666666666664\n",
      "Hi, Aqeel Your average score is: 65.66666666666667\n",
      "Hi, Aqeel Your average score is: 99.0\n"
     ]
    }
   ],
   "source": [
    "\n",
    "# Create student class that takes name & marks of 3 subjects as arguments in constructor.\n",
    "# Then create a method to print the average.\n",
    "\n",
    "class Student:\n",
    "    def __init__(self, name, marks):\n",
    "        self.name = name\n",
    "        self.marks = marks\n",
    "        \n",
    "    def get_avg(self):\n",
    "        sum = 0\n",
    "        for val in self.marks:\n",
    "            sum += val\n",
    "            print(\"Hi,\", self.name, \"Your average score is:\",sum/3)                  # Here is the indentation error.\n",
    "            \n",
    "s1 = Student(\"Tahir\", [98, 99, 100])\n",
    "s1.get_avg()\n",
    "\n",
    "# Changing the value of \n",
    "\n",
    "s1.name = \"Aqeel\"\n",
    "s1.get_avg()"
   ]
  },
  {
   "cell_type": "code",
   "execution_count": 29,
   "metadata": {},
   "outputs": [
    {
     "name": "stdout",
     "output_type": "stream",
     "text": [
      "Hi Tahir Abbas Your Average Score is:  98.0\n",
      "Hi Aqeel Your Average Score is:  98.0\n"
     ]
    }
   ],
   "source": [
    "class Student:\n",
    "    def __init__(self, name, marks):\n",
    "        self.name = name\n",
    "        self.marks = marks\n",
    "        \n",
    "    def get_avg(self):\n",
    "        sum = 0\n",
    "        for val in self.marks:\n",
    "            sum += val\n",
    "        print(\"Hi\", self.name, \"Your Average Score is: \",sum/3)\n",
    "            \n",
    "        \n",
    "s1 = Student(\"Tahir Abbas\", [97,98, 99])\n",
    "s1.get_avg()\n",
    "\n",
    "# Changing the value of attribute.\n",
    "s1.name = \"Aqeel\"\n",
    "s1.get_avg()\n"
   ]
  },
  {
   "cell_type": "code",
   "execution_count": 41,
   "metadata": {},
   "outputs": [
    {
     "name": "stdout",
     "output_type": "stream",
     "text": [
      "Hi, Tahir Abbas Your Average Scores are:  98.33333333333333\n",
      "HELLO!\n"
     ]
    }
   ],
   "source": [
    "# Use of Static Method\n",
    "\n",
    "class Student:\n",
    "    def __init__(self, name, marks):\n",
    "        self.name = name\n",
    "        self.marks = marks\n",
    "        \n",
    "    @staticmethod  \n",
    "    def hello():\n",
    "        print(\"HELLO!\")\n",
    "        \n",
    "    def get_avg(self):\n",
    "        sum = 0\n",
    "        for val in self.marks:\n",
    "            sum += val\n",
    "        print(\"Hi,\", self.name, \"Your Average Scores are: \", sum/3)\n",
    "        \n",
    "s1 = Student(\"Tahir Abbas\", [98, 98, 99])\n",
    "s1.get_avg()\n",
    "s1.hello()\n"
   ]
  },
  {
   "cell_type": "code",
   "execution_count": 60,
   "metadata": {},
   "outputs": [
    {
     "name": "stdout",
     "output_type": "stream",
     "text": [
      "RS. 20000 was debited.\n",
      "Total Balance = 1080000\n",
      "RS. 40000 was credited.\n",
      "Total Balance = 1120000\n",
      "RS. 10000 was debited.\n",
      "Total Balance = 1110000\n",
      "RS. 15000 was credited.\n",
      "Total Balance = 1125000\n"
     ]
    }
   ],
   "source": [
    "# Create Account class with 2 attributes - balance & account no.\n",
    "# Create methods for debit, credit & printing the balance.\n",
    "\n",
    "class Account:\n",
    "    def __init__(self, balance, account_no):\n",
    "        self.balance = balance\n",
    "        self.account_no = account_no\n",
    "        \n",
    "    def debit(self, amount):\n",
    "        self.balance -= amount\n",
    "        print(\"RS.\", amount, \"was debited.\")\n",
    "        print(\"Total Balance =\", self.get_balance())\n",
    "        \n",
    "    def credit(self, amount):\n",
    "        self.balance += amount\n",
    "        print(\"RS.\", amount, \"was credited.\")\n",
    "        print(\"Total Balance =\", self.get_balance())\n",
    "        \n",
    "    def get_balance(self):\n",
    "        return self.balance\n",
    "    \n",
    "\n",
    "Account_no_1 = Account(1100000, 12345)\n",
    "Account_no_1.debit(20000)\n",
    "Account_no_1.credit(40000)\n",
    "Account_no_1.debit(10000)\n",
    "Account_no_1.credit(15000)\n",
    "        \n",
    "    "
   ]
  },
  {
   "cell_type": "markdown",
   "metadata": {},
   "source": [
    "# PILLARS OF OOP:\n",
    "* ABSTRACTION\n",
    "    * Hiding the implementation details of a class and only showing the essential features to the user.\n",
    "    * It’s like hiding the messy details. You use something without needing to know exactly how it works inside.\n",
    "    *  Think of a remote control. You press the button to change channels, but you don’t need to know how it all works inside the remote. In OOP, you can use parts of a code without knowing every detail of how it works.\n",
    "* ENCAPSULATION \n",
    "    * Wrapping the data and the related functions in to a single unit(Object).\n",
    "    * Think of a capsule (like a pill you take when you’re sick). A capsule keeps the medicine inside safe. In OOP, Encapsulation works the same way! We keep important data (like variables) and methods (actions) safe inside an object.\n",
    "* INHERITANCE \n",
    "    * When one class (Child, derived) derives the properties and methods of another class (Parent, Base).\n",
    "    * Inheritance is like when a child gets something from their parents, like a favorite toy or book.\n",
    "    *  In OOP, Inheritance means one class can \"inherit\" or \"borrow\" things from another class.\n",
    "\n"
   ]
  },
  {
   "cell_type": "code",
   "execution_count": 45,
   "metadata": {},
   "outputs": [
    {
     "name": "stdout",
     "output_type": "stream",
     "text": [
      "Car Started\n"
     ]
    }
   ],
   "source": [
    "# ABSTRACTION \n",
    "\n",
    "class Car:\n",
    "    def __init__(self):\n",
    "        self.acc = False\n",
    "        self.brk = False\n",
    "        self.clutch = False\n",
    "        \n",
    "    def start(self):\n",
    "        self.acc = True\n",
    "        self.clutch = True\n",
    "        print(\"Car Started\")\n",
    "        \n",
    "car1 = Car()\n",
    "car1.start()"
   ]
  },
  {
   "cell_type": "code",
   "execution_count": 24,
   "metadata": {},
   "outputs": [
    {
     "name": "stdout",
     "output_type": "stream",
     "text": [
      "The Car is Moving.\n",
      "The Car has Stopped.\n"
     ]
    }
   ],
   "source": [
    "# ENCAPSULATION \n",
    "\n",
    "# Imagine we have a Toy Car.\n",
    "\n",
    "# Car's Secret: It has a speed and fuel level (these are hidden inside the car).\n",
    "# Car's Actions: It can move and stop.\n",
    "# Here's how we can make a Toy Car object:\n",
    "\n",
    "\n",
    "class ToyCar:\n",
    "    def __init__(self):\n",
    "        self.speed = 50        # Here we hide speed\n",
    "        self.fuel = 100        # And Fuel\n",
    "        \n",
    "    def move(self):\n",
    "        if self.fuel > 0:\n",
    "            self.speed = 100\n",
    "            self.fuel = 100\n",
    "            print(\"The Car is Moving.\")\n",
    "        else:\n",
    "            print(\"Out Of Fuel\")\n",
    "            \n",
    "    def stop(self):\n",
    "        self.speed = 0\n",
    "        print(\"The Car has Stopped.\")\n",
    "            \n",
    "toy_car = ToyCar()\n",
    "toy_car.move()\n",
    "toy_car.stop()"
   ]
  },
  {
   "cell_type": "code",
   "execution_count": null,
   "metadata": {},
   "outputs": [],
   "source": [
    "# INHERITANCE \n",
    "\n"
   ]
  },
  {
   "cell_type": "markdown",
   "metadata": {},
   "source": [
    "# DEL KEYWORD\n",
    "* Used to delete the object properties or the object itself.\n",
    "### SYNTAX\n",
    "```\n",
    "del s1.name\n",
    "del s1\n",
    "```"
   ]
  },
  {
   "cell_type": "code",
   "execution_count": 33,
   "metadata": {},
   "outputs": [
    {
     "name": "stdout",
     "output_type": "stream",
     "text": [
      "<__main__.Student object at 0x0000019A256D38F0>\n"
     ]
    },
    {
     "ename": "NameError",
     "evalue": "name 's1' is not defined",
     "output_type": "error",
     "traceback": [
      "\u001b[1;31m---------------------------------------------------------------------------\u001b[0m",
      "\u001b[1;31mNameError\u001b[0m                                 Traceback (most recent call last)",
      "Cell \u001b[1;32mIn[33], line 8\u001b[0m\n\u001b[0;32m      6\u001b[0m \u001b[38;5;28mprint\u001b[39m(s1)\n\u001b[0;32m      7\u001b[0m \u001b[38;5;28;01mdel\u001b[39;00m s1\n\u001b[1;32m----> 8\u001b[0m \u001b[38;5;28mprint\u001b[39m(\u001b[43ms1\u001b[49m)\n",
      "\u001b[1;31mNameError\u001b[0m: name 's1' is not defined"
     ]
    }
   ],
   "source": [
    "class Student:\n",
    "    def __init__(self, name):\n",
    "        self.name = name\n",
    "        \n",
    "s1 = Student(\"Tahir Abbas\")\n",
    "print(s1)\n",
    "del s1                                                  # Here we delete the Object.\n",
    "print(s1)"
   ]
  },
  {
   "cell_type": "code",
   "execution_count": 39,
   "metadata": {},
   "outputs": [
    {
     "name": "stdout",
     "output_type": "stream",
     "text": [
      "Tahir Abbas\n"
     ]
    },
    {
     "ename": "AttributeError",
     "evalue": "'Student' object has no attribute 'name'",
     "output_type": "error",
     "traceback": [
      "\u001b[1;31m---------------------------------------------------------------------------\u001b[0m",
      "\u001b[1;31mAttributeError\u001b[0m                            Traceback (most recent call last)",
      "Cell \u001b[1;32mIn[39], line 8\u001b[0m\n\u001b[0;32m      6\u001b[0m \u001b[38;5;28mprint\u001b[39m(s1\u001b[38;5;241m.\u001b[39mname)\n\u001b[0;32m      7\u001b[0m \u001b[38;5;28;01mdel\u001b[39;00m s1\u001b[38;5;241m.\u001b[39mname\n\u001b[1;32m----> 8\u001b[0m \u001b[38;5;28mprint\u001b[39m(\u001b[43ms1\u001b[49m\u001b[38;5;241;43m.\u001b[39;49m\u001b[43mname\u001b[49m)\n",
      "\u001b[1;31mAttributeError\u001b[0m: 'Student' object has no attribute 'name'"
     ]
    }
   ],
   "source": [
    "class Student:\n",
    "    def __init__(self, name):\n",
    "        self.name = name\n",
    "        \n",
    "s1 = Student(\"Tahir Abbas\")\n",
    "print(s1.name)\n",
    "del s1.name                                # Here we delete the attribute or object property i,e: name.\n",
    "print(s1.name)"
   ]
  },
  {
   "cell_type": "markdown",
   "metadata": {},
   "source": [
    "# PRIVATE ATTRIBUTES AND METHODS\n",
    "* Private attributes and methods are accessable only with in the class, we cannot access such attributes and methods outside the class."
   ]
  },
  {
   "cell_type": "code",
   "execution_count": 47,
   "metadata": {},
   "outputs": [
    {
     "name": "stdout",
     "output_type": "stream",
     "text": [
      "12345\n"
     ]
    },
    {
     "ename": "AttributeError",
     "evalue": "'Account' object has no attribute '__acc_pass'",
     "output_type": "error",
     "traceback": [
      "\u001b[1;31m---------------------------------------------------------------------------\u001b[0m",
      "\u001b[1;31mAttributeError\u001b[0m                            Traceback (most recent call last)",
      "Cell \u001b[1;32mIn[47], line 8\u001b[0m\n\u001b[0;32m      6\u001b[0m acc1 \u001b[38;5;241m=\u001b[39m Account(\u001b[38;5;124m\"\u001b[39m\u001b[38;5;124m12345\u001b[39m\u001b[38;5;124m\"\u001b[39m, \u001b[38;5;124m\"\u001b[39m\u001b[38;5;124mabcd\u001b[39m\u001b[38;5;124m\"\u001b[39m)\n\u001b[0;32m      7\u001b[0m \u001b[38;5;28mprint\u001b[39m(acc1\u001b[38;5;241m.\u001b[39macc_no)\n\u001b[1;32m----> 8\u001b[0m \u001b[38;5;28mprint\u001b[39m(\u001b[43macc1\u001b[49m\u001b[38;5;241;43m.\u001b[39;49m\u001b[43m__acc_pass\u001b[49m)\n",
      "\u001b[1;31mAttributeError\u001b[0m: 'Account' object has no attribute '__acc_pass'"
     ]
    }
   ],
   "source": [
    "class Account:\n",
    "    def __init__(self, acc_no, acc_pass):\n",
    "        self.acc_no = acc_no\n",
    "        self.__acc_pass = acc_pass               # In order to make any attribute private use double under score (__acc_pass) before the name of such attribute.\n",
    "        \n",
    "acc1 = Account(\"12345\", \"abcd\")\n",
    "print(acc1.acc_no)\n",
    "print(acc1.__acc_pass)"
   ]
  },
  {
   "cell_type": "code",
   "execution_count": 67,
   "metadata": {},
   "outputs": [
    {
     "name": "stdout",
     "output_type": "stream",
     "text": [
      "12345\n"
     ]
    },
    {
     "ename": "AttributeError",
     "evalue": "'Account' object has no attribute '_Account__acc_pass'",
     "output_type": "error",
     "traceback": [
      "\u001b[1;31m---------------------------------------------------------------------------\u001b[0m",
      "\u001b[1;31mAttributeError\u001b[0m                            Traceback (most recent call last)",
      "Cell \u001b[1;32mIn[67], line 11\u001b[0m\n\u001b[0;32m      9\u001b[0m acc1 \u001b[38;5;241m=\u001b[39m Account(\u001b[38;5;124m\"\u001b[39m\u001b[38;5;124m12345\u001b[39m\u001b[38;5;124m\"\u001b[39m, \u001b[38;5;124m\"\u001b[39m\u001b[38;5;124mabcd\u001b[39m\u001b[38;5;124m\"\u001b[39m)\n\u001b[0;32m     10\u001b[0m \u001b[38;5;28mprint\u001b[39m(acc1\u001b[38;5;241m.\u001b[39macc_no)\n\u001b[1;32m---> 11\u001b[0m \u001b[38;5;28mprint\u001b[39m(\u001b[43macc1\u001b[49m\u001b[38;5;241;43m.\u001b[39;49m\u001b[43mreset_pass\u001b[49m\u001b[43m(\u001b[49m\u001b[43m)\u001b[49m)\n",
      "Cell \u001b[1;32mIn[67], line 7\u001b[0m, in \u001b[0;36mAccount.reset_pass\u001b[1;34m(self)\u001b[0m\n\u001b[0;32m      6\u001b[0m \u001b[38;5;28;01mdef\u001b[39;00m \u001b[38;5;21mreset_pass\u001b[39m(\u001b[38;5;28mself\u001b[39m):\n\u001b[1;32m----> 7\u001b[0m     \u001b[38;5;28mprint\u001b[39m(\u001b[38;5;28;43mself\u001b[39;49m\u001b[38;5;241;43m.\u001b[39;49m\u001b[43m__acc_pass\u001b[49m)\n",
      "\u001b[1;31mAttributeError\u001b[0m: 'Account' object has no attribute '_Account__acc_pass'"
     ]
    }
   ],
   "source": [
    "class Account:\n",
    "    def __init__(self, acc_no, acc_pass):\n",
    "        self.acc_no = acc_no\n",
    "        self.acc_pass = acc_pass\n",
    "        \n",
    "    def reset_pass(self):\n",
    "        print(self.__acc_pass)\n",
    "        \n",
    "acc1 = Account(\"12345\", \"abcd\")\n",
    "print(acc1.acc_no)\n",
    "print(acc1.reset_pass())"
   ]
  }
 ],
 "metadata": {
  "kernelspec": {
   "display_name": "Python 3",
   "language": "python",
   "name": "python3"
  },
  "language_info": {
   "codemirror_mode": {
    "name": "ipython",
    "version": 3
   },
   "file_extension": ".py",
   "mimetype": "text/x-python",
   "name": "python",
   "nbconvert_exporter": "python",
   "pygments_lexer": "ipython3",
   "version": "3.12.7"
  }
 },
 "nbformat": 4,
 "nbformat_minor": 2
}
