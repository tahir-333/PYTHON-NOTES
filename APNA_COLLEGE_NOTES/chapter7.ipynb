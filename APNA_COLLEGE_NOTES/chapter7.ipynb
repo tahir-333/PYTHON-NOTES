{
 "cells": [
  {
   "cell_type": "markdown",
   "metadata": {},
   "source": [
    "# FILE INPUT AND OUTPUT\n",
    "* Python can be used to perform operations on file (read, write)."
   ]
  },
  {
   "cell_type": "markdown",
   "metadata": {},
   "source": [
    "# READING A FILE\n",
    "```\n",
    "data = f.read( )                                                  # Read the entire file.\n",
    "```\n",
    "```\n",
    "data = f.readline( )                                              # Read one line at a time.\n",
    "```"
   ]
  },
  {
   "cell_type": "code",
   "execution_count": 2,
   "metadata": {},
   "outputs": [
    {
     "name": "stdout",
     "output_type": "stream",
     "text": [
      "Hello everybody,\n",
      "I am learning Python by Apna College.\n",
      "<class 'str'>\n"
     ]
    }
   ],
   "source": [
    "# Reading the entire file.\n",
    "\n",
    "f = open(\"demo.txt\", \"r\")\n",
    "data = f.read()\n",
    "print(data)\n",
    "print(type(data))\n",
    "f.close()"
   ]
  },
  {
   "cell_type": "code",
   "execution_count": 10,
   "metadata": {},
   "outputs": [
    {
     "name": "stdout",
     "output_type": "stream",
     "text": [
      "Hello\n"
     ]
    }
   ],
   "source": [
    "# Reading only the specific characters of the file.\n",
    "\n",
    "f = open(\"demo.txt\", \"rt\")\n",
    "data = f.read(5)\n",
    "print(data)\n",
    "f.close()"
   ]
  },
  {
   "cell_type": "code",
   "execution_count": 11,
   "metadata": {},
   "outputs": [
    {
     "name": "stdout",
     "output_type": "stream",
     "text": [
      "Hello everybody,\n",
      "\n"
     ]
    }
   ],
   "source": [
    "# Reading the line in a file.\n",
    "\n",
    "f = open(\"demo.txt\", \"rt\")\n",
    "line1 = f.readline()\n",
    "print(line1)\n",
    "f.close()                               # At the end, file must be close, as it is a good programming technique."
   ]
  },
  {
   "cell_type": "code",
   "execution_count": 17,
   "metadata": {},
   "outputs": [
    {
     "name": "stdout",
     "output_type": "stream",
     "text": [
      "Hello everybody,\n",
      "\n",
      "I am learning Python by Apna College.\n"
     ]
    }
   ],
   "source": [
    "f = open(\"demo.txt\", \"rt\")\n",
    "line1 = f.readline()\n",
    "print(line1)\n",
    "\n",
    "line2 = f.readline()\n",
    "print(line2)\n",
    "f.close()"
   ]
  },
  {
   "cell_type": "code",
   "execution_count": 21,
   "metadata": {},
   "outputs": [
    {
     "name": "stdout",
     "output_type": "stream",
     "text": [
      "Hello everybody,\n",
      "\n",
      "I am learning Python by Apna College.\n",
      "\n"
     ]
    }
   ],
   "source": [
    "f = open(\"demo.txt\", \"rt\")\n",
    "line1 = f.readline()\n",
    "print(line1)\n",
    "\n",
    "line2 = f.readline()\n",
    "print(line2)\n",
    "\n",
    "line3 = f.readline()\n",
    "print(line3)\n",
    "f.close()"
   ]
  },
  {
   "cell_type": "markdown",
   "metadata": {},
   "source": [
    "# WRITING TO A FILE\n",
    "```\n",
    "f = open(\"demo.txt\", \"w\")\n",
    "f.write(\"This is a new line\")                                       # Overwrite the entire file.\n",
    "```\n",
    "\n",
    "```\n",
    "f = open(\"demo.txt\", \"a\")\n",
    "f.write(\"This is a new line\")                                      # Adds new line in the file.\n",
    "```\n"
   ]
  },
  {
   "cell_type": "code",
   "execution_count": 51,
   "metadata": {},
   "outputs": [
    {
     "data": {
      "text/plain": [
       "34"
      ]
     },
     "metadata": {},
     "output_type": "display_data"
    }
   ],
   "source": [
    "f = open(\"demo.txt\", \"w\")\n",
    "data = f.write(\"I am going to learn Modern Python.\")\n",
    "display(data)\n",
    "f.close()\n",
    "\n",
    "\n",
    "# Output......\n",
    "# I am going to learn Modern Python.\n"
   ]
  },
  {
   "cell_type": "code",
   "execution_count": 48,
   "metadata": {},
   "outputs": [
    {
     "name": "stdout",
     "output_type": "stream",
     "text": [
      "32\n"
     ]
    }
   ],
   "source": [
    "f = open(\"demo.txt\", \"a\")\n",
    "data = f.write(\"\\nWould you like to learn Python?\")\n",
    "print(data)\n",
    "f.close()\n",
    "\n",
    "\n",
    "# output must be...\n",
    "# I am going to learn Modern Python.\n",
    "# Would you like to learn Python?"
   ]
  },
  {
   "cell_type": "code",
   "execution_count": 57,
   "metadata": {},
   "outputs": [],
   "source": [
    "# If the file that we are going to open does not exist, such file will automatically be created, as here \"sample.txt\" file created....\n",
    "\n",
    "\n",
    "f = open(\"sample.txt\", \"w\")\n",
    "f.write(\"Python is very interesting to learn.\")\n",
    "f.close()\n",
    "\n",
    "\n",
    "# Output....\n",
    "# Python is very interesting to learn."
   ]
  },
  {
   "cell_type": "code",
   "execution_count": 62,
   "metadata": {},
   "outputs": [
    {
     "data": {
      "text/plain": [
       "6"
      ]
     },
     "execution_count": 62,
     "metadata": {},
     "output_type": "execute_result"
    }
   ],
   "source": [
    "# \"r+\" mode is used when we have to overwrite at the initialization of file.\n",
    "\n",
    "f = open(\"sample.txt\", \"r+\")\n",
    "f.write(\"PYTHON\")\n",
    "\n",
    "# OUTPUT.........\n",
    "# PYTHON is very interesting to learn."
   ]
  },
  {
   "cell_type": "markdown",
   "metadata": {},
   "source": [
    "# WITH SYNTAX\n",
    "```\n",
    "with open(\"demo.txt\", \"a\")as f:\n",
    "data = f.read()\n",
    "```"
   ]
  },
  {
   "cell_type": "code",
   "execution_count": 64,
   "metadata": {},
   "outputs": [
    {
     "name": "stdout",
     "output_type": "stream",
     "text": [
      "I am going to learn Modern Python.\n"
     ]
    }
   ],
   "source": [
    "with open(\"demo.txt\", \"r\")as f:\n",
    "    data = f.read()\n",
    "    print(data)\n",
    "\n",
    "# We do not have need to close the file, because with automatically perform such action."
   ]
  },
  {
   "cell_type": "code",
   "execution_count": 80,
   "metadata": {},
   "outputs": [
    {
     "name": "stdout",
     "output_type": "stream",
     "text": [
      "8\n"
     ]
    }
   ],
   "source": [
    "with open(\"demo.txt\", \"w\")as f:\n",
    "    data = f.write(\"new data\")\n",
    "    print(data)                                           # Write \"w\" method returns the number of characters written not data itself."
   ]
  },
  {
   "cell_type": "markdown",
   "metadata": {},
   "source": [
    "# DELETING A FILE\n",
    "* Using the os module\n",
    "* Module (like a code library) is a file written by another programmer that generally has\n",
    "a functions we can use.\n",
    "```\n",
    "import os\n",
    "os.remove(filename)\n",
    "```\n",
    "\n",
    "* Some functions are pre-install in Python we can use them just by importing, but some are not install in order to install such functions use pip install and next to install write the name of function you want to install."
   ]
  },
  {
   "cell_type": "code",
   "execution_count": 85,
   "metadata": {},
   "outputs": [],
   "source": [
    "import os\n",
    "\n",
    "os.remove(\"sample.txt\")                                             # Sample.txt file is removed successfully."
   ]
  },
  {
   "cell_type": "markdown",
   "metadata": {},
   "source": [
    "# PRACTICE QUESTIONS"
   ]
  },
  {
   "cell_type": "code",
   "execution_count": 94,
   "metadata": {},
   "outputs": [
    {
     "name": "stdout",
     "output_type": "stream",
     "text": [
      "76\n"
     ]
    }
   ],
   "source": [
    "# Create a new file “practice.txt” using python. Add the following data in it:\n",
    "# Hi everyone\n",
    "# we are learning File I/O\n",
    "# using Java.\n",
    "# I like programming in Python\n",
    "\n",
    "\n",
    "\n",
    "with open(\"practice.txt\", \"a\")as f:\n",
    "    data = f.write(\"Hi everyone\"\n",
    "            \"\\nWe are learning File I/O\"\n",
    "            \"\\nUsing Java\"\n",
    "            \"\\nI like programming in Python\")\n",
    "    \n",
    "    print(data)\n",
    "    "
   ]
  },
  {
   "cell_type": "code",
   "execution_count": 149,
   "metadata": {},
   "outputs": [
    {
     "name": "stdout",
     "output_type": "stream",
     "text": [
      "Hi everyone\n",
      "We are learning File I/O\n",
      "Using Python\n",
      "I like programming in Python\n"
     ]
    }
   ],
   "source": [
    "# WAF that replace all occurrences of “java” with “python” in above file\n",
    "\n",
    "with open(\"practice.txt\", \"r\")as f:\n",
    "    data = f.read()\n",
    "    \n",
    "    \n",
    "new_data = data.replace(\"Java\", \"Python\")\n",
    "print(new_data)\n",
    "\n",
    "with open(\"practice.txt\", \"w\")as f:\n",
    "    f.write(new_data)"
   ]
  },
  {
   "cell_type": "code",
   "execution_count": 126,
   "metadata": {},
   "outputs": [
    {
     "name": "stdout",
     "output_type": "stream",
     "text": [
      "Found.\n"
     ]
    }
   ],
   "source": [
    "# Search if the word “learning” exists in the file or not\n",
    "\n",
    "word = \"learning\"\n",
    "with open(\"practice.txt\", \"r\")as f:\n",
    "    data = f.read()\n",
    "    if (data.find(word) != -1 ):\n",
    "        print(\"Found.\")\n",
    "    else:\n",
    "        print(\"Not Found.\")"
   ]
  },
  {
   "cell_type": "code",
   "execution_count": 108,
   "metadata": {},
   "outputs": [
    {
     "name": "stdout",
     "output_type": "stream",
     "text": [
      "Not Found.\n"
     ]
    }
   ],
   "source": [
    "word = \"Apple\"\n",
    "with open(\"practice.txt\", \"r\")as f:\n",
    "    data = f.read()\n",
    "    if (data.find(word) != -1):\n",
    "        print(\"Found\")\n",
    "    else:\n",
    "        print(\"Not Found.\")"
   ]
  },
  {
   "cell_type": "code",
   "execution_count": 131,
   "metadata": {},
   "outputs": [
    {
     "name": "stdout",
     "output_type": "stream",
     "text": [
      "Not Found.\n"
     ]
    }
   ],
   "source": [
    "def check_for_word():\n",
    "    word = \"Apple\"\n",
    "    with open(\"practice.txt\", \"r\")as f:\n",
    "        data = f.read()\n",
    "        if (data.find(word) != -1):\n",
    "            print(\"Found\")\n",
    "        else:\n",
    "            print(\"Not Found.\")\n",
    "            \n",
    "check_for_word()\n",
    "    "
   ]
  },
  {
   "cell_type": "code",
   "execution_count": 154,
   "metadata": {},
   "outputs": [
    {
     "name": "stdout",
     "output_type": "stream",
     "text": [
      "4\n",
      "None\n"
     ]
    }
   ],
   "source": [
    "# WAF to find in which line of the file does the word “learning”occur first.\n",
    "# Print -1 if word not found.\n",
    "\n",
    "def check_for_line():\n",
    "    word = \"programming\"\n",
    "    data = True\n",
    "    line_no = 1\n",
    "    with open(\"practice.txt\", \"r\")as f:\n",
    "        while data:\n",
    "            data = f.readline()\n",
    "            if (word in data):\n",
    "                print(line_no)\n",
    "                return\n",
    "            line_no += 1\n",
    "    return -1\n",
    "print(check_for_line())        \n"
   ]
  },
  {
   "cell_type": "code",
   "execution_count": 155,
   "metadata": {},
   "outputs": [
    {
     "data": {
      "text/plain": [
       "['append',\n",
       " 'clear',\n",
       " 'copy',\n",
       " 'count',\n",
       " 'extend',\n",
       " 'index',\n",
       " 'insert',\n",
       " 'pop',\n",
       " 'remove',\n",
       " 'reverse',\n",
       " 'sort']"
      ]
     },
     "execution_count": 155,
     "metadata": {},
     "output_type": "execute_result"
    }
   ],
   "source": [
    "[i for i in dir(list) if \"__\" not in i]"
   ]
  },
  {
   "cell_type": "code",
   "execution_count": 156,
   "metadata": {},
   "outputs": [
    {
     "name": "stdout",
     "output_type": "stream",
     "text": [
      "4\n"
     ]
    }
   ],
   "source": [
    "# From a file containing numbers separated by comma, print the count of even numbers.\n",
    "\n",
    "\n",
    "count = 0\n",
    "with open(\"practice.txt\", \"r\")as f:\n",
    "    data = f.read()\n",
    "    \n",
    "    nums = data.split(\",\")\n",
    "    for val in nums:\n",
    "        if (int(val) %2 == 0):\n",
    "            count += 1\n",
    "            \n",
    "print(count)\n",
    "\n"
   ]
  }
 ],
 "metadata": {
  "kernelspec": {
   "display_name": "Python 3",
   "language": "python",
   "name": "python3"
  },
  "language_info": {
   "codemirror_mode": {
    "name": "ipython",
    "version": 3
   },
   "file_extension": ".py",
   "mimetype": "text/x-python",
   "name": "python",
   "nbconvert_exporter": "python",
   "pygments_lexer": "ipython3",
   "version": "3.12.7"
  }
 },
 "nbformat": 4,
 "nbformat_minor": 2
}
