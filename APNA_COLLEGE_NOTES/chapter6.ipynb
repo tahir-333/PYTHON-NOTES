{
 "cells": [
  {
   "cell_type": "markdown",
   "metadata": {},
   "source": [
    "# FUNCTIONS AND RECURSION\n",
    "* FUNCTIONS in Python are the block of statements that perform specific tasks."
   ]
  },
  {
   "cell_type": "markdown",
   "metadata": {},
   "source": [
    "# DEF FUNCTION\n",
    "* def is short for “define”. It's a keyword that you need to define a function (aka method). All the code that you put between the def function_name(parameters) and end will be executed every time you call the function_name later.\n",
    "* It is useful when you have to do the same work, like you have to perform the addition function multiple times in your code, then in that case, in order to avoid writing the whole function every time , we can simply define a function onces in our code, and then cal that function anywhere, anytime, whenever we have need to perform that function in our code......\n",
    "* Parameters and return are the optional in def function, we can make a function, without parameter and return, it will return None as output."
   ]
  },
  {
   "cell_type": "code",
   "execution_count": 11,
   "metadata": {},
   "outputs": [
    {
     "name": "stdout",
     "output_type": "stream",
     "text": [
      "3\n",
      "5\n",
      "10\n"
     ]
    }
   ],
   "source": [
    "# Function Definition\n",
    "# Function with parameters and return.\n",
    "def calc_sum(a, b):           # a and b are called parameters.\n",
    "    return a+b\n",
    "\n",
    "sum = calc_sum(1, 2)          # Function call.    # 1 and 2 are called as the arguments.\n",
    "print(sum)\n",
    "\n",
    "sum = calc_sum(3, 2)\n",
    "print(sum)\n",
    "\n",
    "sum = calc_sum(5, 5)\n",
    "print(sum)"
   ]
  },
  {
   "cell_type": "code",
   "execution_count": 26,
   "metadata": {},
   "outputs": [
    {
     "name": "stdout",
     "output_type": "stream",
     "text": [
      "Hello World!\n",
      "Hello World!\n",
      "Hello World!\n",
      "Hello World!\n",
      "Hello World!\n",
      "Hello World!\n",
      "None\n"
     ]
    }
   ],
   "source": [
    "# Function Definition\n",
    "# Function without parameters and return, we have no need to give input to such functions and in no return, such functions give None as output.\n",
    "def print_hello():\n",
    "    print(\"Hello World!\")\n",
    "    \n",
    "print_hello()\n",
    "print_hello()\n",
    "print_hello()\n",
    "print_hello()\n",
    "print_hello()\n",
    "\n",
    "output = print_hello()                   # The function which does not print anything in return, None is printed as default as output for such functions.\n",
    "print(output)"
   ]
  },
  {
   "cell_type": "code",
   "execution_count": 32,
   "metadata": {},
   "outputs": [
    {
     "name": "stdout",
     "output_type": "stream",
     "text": [
      "2.0\n",
      "80.66666666666667\n",
      "30.38\n"
     ]
    }
   ],
   "source": [
    "# Def function with the average of three numbers.\n",
    "\n",
    "def calc_avg(a, b, c):\n",
    "    sum = a + b + c\n",
    "    avg = sum/3\n",
    "    print(avg)\n",
    "    # return avg\n",
    "\n",
    "calc_avg(1, 2, 3)\n",
    "\n",
    "calc_avg(98, 45, 99)\n",
    "\n",
    "calc_avg(21.12, 24.32, 45.7)\n"
   ]
  },
  {
   "cell_type": "code",
   "execution_count": 38,
   "metadata": {},
   "outputs": [
    {
     "name": "stdout",
     "output_type": "stream",
     "text": [
      "2\n",
      "20\n",
      "660\n"
     ]
    }
   ],
   "source": [
    "def calc_prod(a, b):\n",
    "    print(a*b)\n",
    "    # return a*b\n",
    "    \n",
    "    \n",
    "calc_prod(1, 2)\n",
    "calc_prod(4, 5)\n",
    "calc_prod(12, 55)"
   ]
  },
  {
   "cell_type": "code",
   "execution_count": 40,
   "metadata": {},
   "outputs": [
    {
     "name": "stdout",
     "output_type": "stream",
     "text": [
      "6\n"
     ]
    }
   ],
   "source": [
    "def calc_prod(a=2, b=3):               # We can give default values to our def function.\n",
    "    print(a*b)\n",
    "    \n",
    "calc_prod()                            # Here we did not give any argument, but it gives output using default values provided in def function."
   ]
  },
  {
   "cell_type": "code",
   "execution_count": 45,
   "metadata": {},
   "outputs": [
    {
     "name": "stdout",
     "output_type": "stream",
     "text": [
      "8\n",
      "4\n"
     ]
    }
   ],
   "source": [
    "def calc_prod(a, b=2):                            # Giving a single default value.\n",
    "    print(a*b)\n",
    "    \n",
    "calc_prod(4)\n",
    "calc_prod(2)\n",
    "    \n",
    "    "
   ]
  },
  {
   "cell_type": "code",
   "execution_count": 52,
   "metadata": {},
   "outputs": [
    {
     "name": "stdout",
     "output_type": "stream",
     "text": [
      "5\n",
      "3\n"
     ]
    }
   ],
   "source": [
    "# Def function to print the len of list.\n",
    "\n",
    "cities = [\"Lahore\", \"Karachi\", \"Islamabad\", \"Multan\", \"Pishawar\" ]\n",
    "heroes = [\"Quaid e Azam\", \"Allama Iqbal\", \"Liaqat Ali Khan\"]\n",
    "\n",
    "def print_len(list):\n",
    "    print(len(list))\n",
    "    \n",
    "print(len(cities))\n",
    "print(len(heroes))\n",
    "\n"
   ]
  },
  {
   "cell_type": "code",
   "execution_count": 59,
   "metadata": {},
   "outputs": [
    {
     "name": "stdout",
     "output_type": "stream",
     "text": [
      "Quaid e Azam Allama Iqbal Liaqat Ali Khan "
     ]
    }
   ],
   "source": [
    "# Def function to print the elements of the list in a single line.\n",
    "\n",
    "heroes = [\"Quaid e Azam\", \"Allama Iqbal\", \"Liaqat Ali Khan\"]\n",
    "def print_list(list):\n",
    "    for item in list:\n",
    "        print(item, end= \" \")\n",
    "        \n",
    "print_list(heroes)\n",
    "# print_list(cities)\n",
    "        \n"
   ]
  },
  {
   "cell_type": "code",
   "execution_count": 64,
   "metadata": {},
   "outputs": [
    {
     "name": "stdout",
     "output_type": "stream",
     "text": [
      "120\n",
      "720\n",
      "5040\n"
     ]
    }
   ],
   "source": [
    "# Def function to calculate the factorial of any number.\n",
    "\n",
    "def calc_fact(n):\n",
    "    fact = 1\n",
    "    for i in range(1, n+1):\n",
    "        fact = fact*i\n",
    "    print(fact)\n",
    "    \n",
    "calc_fact(5)\n",
    "calc_fact(6)\n",
    "calc_fact(7)"
   ]
  },
  {
   "cell_type": "code",
   "execution_count": 71,
   "metadata": {},
   "outputs": [
    {
     "name": "stdout",
     "output_type": "stream",
     "text": [
      "10 USD = 2780 PKR.\n",
      "20 USD = 5560 PKR.\n",
      "30 USD = 8340 PKR.\n"
     ]
    }
   ],
   "source": [
    "# Def function to convert usd to pkr.\n",
    "\n",
    "def converter(usd_val):\n",
    "    pkr_val = usd_val *278\n",
    "    print(usd_val, \"USD =\", pkr_val, \"PKR.\")\n",
    "    \n",
    "converter(10)\n",
    "converter(20)\n",
    "converter(30)"
   ]
  },
  {
   "cell_type": "code",
   "execution_count": null,
   "metadata": {},
   "outputs": [],
   "source": [
    "# Def function to print factorial  "
   ]
  }
 ],
 "metadata": {
  "kernelspec": {
   "display_name": "Python 3",
   "language": "python",
   "name": "python3"
  },
  "language_info": {
   "codemirror_mode": {
    "name": "ipython",
    "version": 3
   },
   "file_extension": ".py",
   "mimetype": "text/x-python",
   "name": "python",
   "nbconvert_exporter": "python",
   "pygments_lexer": "ipython3",
   "version": "3.12.7"
  }
 },
 "nbformat": 4,
 "nbformat_minor": 2
}
