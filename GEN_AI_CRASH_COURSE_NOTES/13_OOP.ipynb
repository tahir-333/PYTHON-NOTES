{
 "cells": [
  {
   "cell_type": "markdown",
   "metadata": {},
   "source": [
    "# OOP (OBJECT ORIENTED PROGRAMMING)"
   ]
  },
  {
   "cell_type": "markdown",
   "metadata": {},
   "source": [
    "* CLASS\n",
    "    * Method\n",
    "        * First argument must be additional variable (self, this or anything else)\n",
    "    * Attribute\n",
    "        * Connect with individual object.\n",
    "    * Class Variables\n",
    "        * This value use for all objects.\n",
    "            * ```ClassName.class_variable```\n",
    "            * ```class ClassName():\n",
    "                class_variable1 : type = value\n",
    "                ```\n",
    "\n",
    "\n",
    "    * Constructor\n",
    "        * def ```__init__(self, arg1, arg2)```\n",
    "\n",
    "* SYNTAX OF CLASS                                     \n",
    "    * The name of class must start by a Capital Letter.\n",
    "```\n",
    "class ClassName():\n",
    "    pass\n",
    "```\n"
   ]
  },
  {
   "cell_type": "code",
   "execution_count": 1,
   "metadata": {},
   "outputs": [],
   "source": [
    "class Teacher():\n",
    "    def __init__(self, teacher_id : int, teacher_name : str)->None:\n",
    "        self.name = teacher_name\n",
    "        self.teacher_id = teacher_id\n",
    "        self.organization_name = \"PIAIC\"\n",
    "        \n",
    "    def speak(self, words : str)->None:\n",
    "        print(f\"{self.name} is speaking {words}.\")\n",
    "        \n",
    "    def teaching(self, subject : str)->None:\n",
    "        print(f\"{self.name} is teaching {subject}.\")"
   ]
  },
  {
   "cell_type": "code",
   "execution_count": 3,
   "metadata": {},
   "outputs": [],
   "source": [
    "obj1 : Teacher = Teacher(1, \"Sir Zia Kahn\") \n",
    "obj2 : Teacher = Teacher(2, \"Muhammad Qasim\")"
   ]
  },
  {
   "cell_type": "code",
   "execution_count": 10,
   "metadata": {},
   "outputs": [
    {
     "name": "stdout",
     "output_type": "stream",
     "text": [
      "1\n",
      "Sir Zia Kahn\n",
      "PIAIC\n"
     ]
    },
    {
     "data": {
      "text/plain": [
       "2"
      ]
     },
     "metadata": {},
     "output_type": "display_data"
    },
    {
     "data": {
      "text/plain": [
       "'Muhammad Qasim'"
      ]
     },
     "metadata": {},
     "output_type": "display_data"
    },
    {
     "data": {
      "text/plain": [
       "'PIAIC'"
      ]
     },
     "metadata": {},
     "output_type": "display_data"
    }
   ],
   "source": [
    "print(obj1.teacher_id)\n",
    "print(obj1.name)\n",
    "print(obj1.organization_name)\n",
    "\n",
    "display(obj2.teacher_id)\n",
    "display(obj2.name)\n",
    "display(obj2.organization_name)"
   ]
  },
  {
   "cell_type": "code",
   "execution_count": 14,
   "metadata": {},
   "outputs": [
    {
     "name": "stdout",
     "output_type": "stream",
     "text": [
      "Sir Zia Kahn is teaching Generative Artificial Intelligence.\n",
      "Muhammad Qasim is teaching Machine Learning.\n"
     ]
    }
   ],
   "source": [
    "obj1.teaching(\"Generative Artificial Intelligence\")\n",
    "obj2.teaching(\"Machine Learning\")"
   ]
  },
  {
   "cell_type": "code",
   "execution_count": 4,
   "metadata": {},
   "outputs": [
    {
     "data": {
      "text/plain": [
       "['__class__',\n",
       " '__delattr__',\n",
       " '__dict__',\n",
       " '__dir__',\n",
       " '__doc__',\n",
       " '__eq__',\n",
       " '__format__',\n",
       " '__ge__',\n",
       " '__getattribute__',\n",
       " '__getstate__',\n",
       " '__gt__',\n",
       " '__hash__',\n",
       " '__init__',\n",
       " '__init_subclass__',\n",
       " '__le__',\n",
       " '__lt__',\n",
       " '__module__',\n",
       " '__ne__',\n",
       " '__new__',\n",
       " '__reduce__',\n",
       " '__reduce_ex__',\n",
       " '__repr__',\n",
       " '__setattr__',\n",
       " '__sizeof__',\n",
       " '__str__',\n",
       " '__subclasshook__',\n",
       " '__weakref__',\n",
       " 'name',\n",
       " 'organization_name',\n",
       " 'speak',\n",
       " 'teacher_id',\n",
       " 'teaching']"
      ]
     },
     "execution_count": 4,
     "metadata": {},
     "output_type": "execute_result"
    }
   ],
   "source": [
    "dir(obj1)"
   ]
  },
  {
   "cell_type": "code",
   "execution_count": 39,
   "metadata": {},
   "outputs": [],
   "source": [
    "class Teacher():\n",
    "    def __init__(self, teacher_id : int, teacher_name : str)->None:\n",
    "        self.name = teacher_name\n",
    "        self.teacher_id = teacher_id\n",
    "        self.organization_name = \"PIAIC\"\n",
    "        \n",
    "    def speak(self, words : str )->None:\n",
    "        print(f\"{self.name} is speaking {words}...!\")\n",
    "        \n",
    "    def teaching(self, subject)->None:\n",
    "        print(f\"{self.name} is teaching {subject}..!\")"
   ]
  },
  {
   "cell_type": "code",
   "execution_count": 40,
   "metadata": {},
   "outputs": [],
   "source": [
    "obj1 : Teacher = Teacher(1, \"Sir Zia Khan\")\n",
    "obj2 : Teacher = Teacher(2, \"Sir Qasim\")"
   ]
  },
  {
   "cell_type": "code",
   "execution_count": 41,
   "metadata": {},
   "outputs": [
    {
     "name": "stdout",
     "output_type": "stream",
     "text": [
      "Sir Zia Khan is speaking Punjabi...!\n",
      "Sir Qasim is speaking English...!\n",
      "Sir Zia Khan is teaching Generative Artificial Intelligence..!\n"
     ]
    }
   ],
   "source": [
    "obj1.speak(\"Punjabi\")\n",
    "obj2.speak(\"English\")\n",
    "obj1.teaching(\"Generative Artificial Intelligence\")"
   ]
  },
  {
   "cell_type": "code",
   "execution_count": null,
   "metadata": {},
   "outputs": [
    {
     "data": {
      "text/plain": [
       "1"
      ]
     },
     "metadata": {},
     "output_type": "display_data"
    },
    {
     "data": {
      "text/plain": [
       "'Sir Zia Khan'"
      ]
     },
     "metadata": {},
     "output_type": "display_data"
    },
    {
     "data": {
      "text/plain": [
       "'PIAIC'"
      ]
     },
     "metadata": {},
     "output_type": "display_data"
    }
   ],
   "source": [
    "display(obj1.teacher_id)\n",
    "display(obj1.name)\n",
    "display(obj1.organization_name)"
   ]
  },
  {
   "cell_type": "code",
   "execution_count": 29,
   "metadata": {},
   "outputs": [
    {
     "data": {
      "text/plain": [
       "2"
      ]
     },
     "metadata": {},
     "output_type": "display_data"
    },
    {
     "data": {
      "text/plain": [
       "'Sir Qasim'"
      ]
     },
     "metadata": {},
     "output_type": "display_data"
    },
    {
     "data": {
      "text/plain": [
       "'PIAIC'"
      ]
     },
     "metadata": {},
     "output_type": "display_data"
    }
   ],
   "source": [
    "display(obj2.teacher_id)\n",
    "display(obj2.name)\n",
    "display(obj2.organization_name)"
   ]
  },
  {
   "cell_type": "code",
   "execution_count": null,
   "metadata": {},
   "outputs": [
    {
     "name": "stdout",
     "output_type": "stream",
     "text": [
      "1\n",
      "Aqeel\n",
      "PIAIC\n"
     ]
    },
    {
     "data": {
      "text/plain": [
       "2"
      ]
     },
     "metadata": {},
     "output_type": "display_data"
    },
    {
     "data": {
      "text/plain": [
       "'Usama'"
      ]
     },
     "metadata": {},
     "output_type": "display_data"
    },
    {
     "data": {
      "text/plain": [
       "'PIAIC'"
      ]
     },
     "metadata": {},
     "output_type": "display_data"
    },
    {
     "name": "stdout",
     "output_type": "stream",
     "text": [
      "Aqeel is speaking Punjabi.\n",
      "Usama is working as a Manager here.\n"
     ]
    }
   ],
   "source": [
    "# In Python, it is our choice to use any first argument in the constructor function, but self is mostly used that's why it is preferred.\n",
    "\n",
    "\n",
    "class Teacher():                                                                                         # Define a Class named Teacher.\n",
    "    def __init__(this, teacher_id : int, teacher_name : str, organization_name : str)->None:             # Constructor method that initializes attributes for each instance of the Teacher class.\n",
    "        this.teacher_id = teacher_id                                                                     # Sets the teacher's ID attribute to the passed-in teacher_id value.\n",
    "        this.teacher_name = teacher_name                                                                 # Sets the teacher's name attribute to the passed-in teacher_name value.\n",
    "        this.organization_name = organization_name                                                       # Sets the teacher's organization attribute to the passed-in organization_name value.\n",
    "        \n",
    "        \n",
    "    def speak(this, language : str)->None:                                                      # Defines a Method called speak that takes the language parameter.\n",
    "        print(f\"{this.teacher_name} is speaking {language}.\")                                   # Outputs a message which indicates that which language the teacher speaking.\n",
    "        \n",
    "    def work(this, title: str)->None:                                                           # Defines a Method called work which takes a title parameter.\n",
    "        print(f\"{this.teacher_name} is working as a {title} here.\")                             # Output a message indicating teacher role or job.\n",
    "        \n",
    "        \n",
    "obj1 : Teacher = Teacher(1, \"Aqeel\", \"PIAIC\")                             # Initializes object 1 with ID, Name and the Organization name.                            \n",
    "obj2 : Teacher = Teacher(2, \"Usama\", \"PIAIC\")                             # Initializes object 2 with ID, Name and the organization name.\n",
    "\n",
    "print(obj1.teacher_id)                           # Prints the teacher id, attribute of object 1.\n",
    "print(obj1.teacher_name)                         # Prints teacher name, the attribute of object 1.\n",
    "print(obj1.organization_name)                    # Prints organization name, the attribute of object 1.\n",
    "        \n",
    "display(obj2.teacher_id)                         # Prints the teacher id, attribute of object 2.\n",
    "display(obj2.teacher_name)                       # Prints teacher name, the attribute of object 2.\n",
    "display(obj2.organization_name)                  # Prints organization name, the attribute of object2.\n",
    "\n",
    "obj1.speak(\"Punjabi\")               # Call the speak method on object 1.\n",
    "obj2.work(\"Manager\")                # Call the work method on object 2.\n",
    "        \n",
    "        \n",
    "          "
   ]
  },
  {
   "cell_type": "markdown",
   "metadata": {},
   "source": [
    "# CLASS VARIABLE \n",
    "* It is used for all the objects.\n",
    "* It is common or alike for all the objects.\n",
    "* In class, attributes having static value are present. \n",
    "### WAYS TO CALL THE CLASS VARIABLE\n",
    "* `ClassName.class_variable`\n",
    "* `object_name.class_variable`"
   ]
  },
  {
   "cell_type": "code",
   "execution_count": 97,
   "metadata": {},
   "outputs": [],
   "source": [
    "class Teacher():\n",
    "    counter : int = 0\n",
    "    help_line_number : str = \"0315-2968211\"\n",
    "    \n",
    "    def __init__(self, teacher_id : int, teacher_name : str)->None:\n",
    "        self.teacher_id : int = teacher_id\n",
    "        self.teacher_name : str = teacher_name\n",
    "        self.organization_name = \"PIAIC\"\n",
    "        \n",
    "    def speak(self, language : str)->None:\n",
    "        print(f\"{self.teacher_name} is speaking {language}.\")\n",
    "        \n",
    "    def work(self, title : str)->None:\n",
    "        print(f\"{self.teacher_name} is working as a {title} here.\")"
   ]
  },
  {
   "cell_type": "code",
   "execution_count": 98,
   "metadata": {},
   "outputs": [],
   "source": [
    "obj1 : Teacher = Teacher(1, \"Sir Zia Khan\")\n",
    "obj2 : Teacher = Teacher(2, \"Sir Qasim\")"
   ]
  },
  {
   "cell_type": "code",
   "execution_count": 99,
   "metadata": {},
   "outputs": [
    {
     "name": "stdout",
     "output_type": "stream",
     "text": [
      "1\n"
     ]
    },
    {
     "data": {
      "text/plain": [
       "'Sir Zia Khan'"
      ]
     },
     "metadata": {},
     "output_type": "display_data"
    },
    {
     "name": "stdout",
     "output_type": "stream",
     "text": [
      "2\n"
     ]
    },
    {
     "data": {
      "text/plain": [
       "'Sir Qasim'"
      ]
     },
     "metadata": {},
     "output_type": "display_data"
    },
    {
     "name": "stdout",
     "output_type": "stream",
     "text": [
      "PIAIC\n",
      "PIAIC\n"
     ]
    }
   ],
   "source": [
    "print(obj1.teacher_id)\n",
    "display(obj1.teacher_name)\n",
    "print(obj2.teacher_id)\n",
    "display(obj2.teacher_name)\n",
    "print(obj1.organization_name)\n",
    "print(obj2.organization_name)\n"
   ]
  },
  {
   "cell_type": "code",
   "execution_count": 100,
   "metadata": {},
   "outputs": [
    {
     "name": "stdout",
     "output_type": "stream",
     "text": [
      "Sir Zia Khan is speaking Punjabi.\n",
      "Sir Qasim is working as a Manager here.\n"
     ]
    }
   ],
   "source": [
    "obj1.speak(\"Punjabi\")\n",
    "obj2.work(\"Manager\")"
   ]
  },
  {
   "cell_type": "code",
   "execution_count": 101,
   "metadata": {},
   "outputs": [
    {
     "name": "stdout",
     "output_type": "stream",
     "text": [
      "0\n",
      "0315-2968211\n"
     ]
    }
   ],
   "source": [
    "# Accessing the class variable using Class Name.\n",
    "\n",
    "print(Teacher.counter)\n",
    "print(Teacher.help_line_number)\n"
   ]
  },
  {
   "cell_type": "code",
   "execution_count": 102,
   "metadata": {},
   "outputs": [
    {
     "name": "stdout",
     "output_type": "stream",
     "text": [
      "0\n",
      "0\n"
     ]
    },
    {
     "data": {
      "text/plain": [
       "'0315-2968211'"
      ]
     },
     "metadata": {},
     "output_type": "display_data"
    },
    {
     "data": {
      "text/plain": [
       "'0315-2968211'"
      ]
     },
     "metadata": {},
     "output_type": "display_data"
    }
   ],
   "source": [
    "# Accessing the class variable using the Object Name.\n",
    "\n",
    "print(obj1.counter)\n",
    "print(obj2.counter)\n",
    "display(obj1.help_line_number)\n",
    "display(obj2.help_line_number)"
   ]
  },
  {
   "cell_type": "code",
   "execution_count": null,
   "metadata": {},
   "outputs": [
    {
     "name": "stdout",
     "output_type": "stream",
     "text": [
      "1\n",
      "1\n",
      "2\n",
      "2\n"
     ]
    }
   ],
   "source": [
    "class Teacher():\n",
    "    counter : int = 0                                                               # Attribute belongs to Class(Teacher).    Also called as the static variables( in Java, C sharp and other general programming languages).\n",
    "    help_line_number : str = \"0315-2968211\"                                         # Attribute belongs to Class(Teacher).    Also called the static variables(in Java, C sharp and other general programming languages).\n",
    "    \n",
    "    def __init__(self, teacher_id : int, teacher_name : str, organization_name : str)->None:               # Method or constructor.\n",
    "        self.teacher_id : int = teacher_id                                           # Belongs to object.\n",
    "        self.teacher_name : str = teacher_name                                       # Belongs to object.\n",
    "        self.organization_name : str = organization_name                             # Belongs to object.\n",
    "        Teacher.counter +=1                                            # Used to indicate that how much objects or the instances the class have.\n",
    "        \n",
    "    def speak(self, language : str)->None:\n",
    "        print(f\"{self.teacher_name} is speaking {language}.\")\n",
    "        \n",
    "    def work(self, title : str)->None:\n",
    "        print(f\"{self.teacher_name} is working as a {title} here.\")\n",
    "        \n",
    "    def details(self)->None:\n",
    "        information : str = f\"\"\"\n",
    "        Teacher name is: {self.teacher_name.upper()}\n",
    "        Our help line number is: {Teacher.help_line_number}\n",
    "        \"\"\"\n",
    "        \n",
    "        print(information)\n",
    "        \n",
    "obj1 : Teacher = Teacher(1, \"Sir Zia Khan\", \"PIAIC\")\n",
    "print(Teacher.counter)\n",
    "print(obj1.counter)\n",
    "obj2 : Teacher = Teacher(2, \"Sir Qasim\", \"PIAIC\")\n",
    "print(obj2.counter)\n",
    "print(Teacher.counter)"
   ]
  },
  {
   "cell_type": "code",
   "execution_count": 127,
   "metadata": {},
   "outputs": [
    {
     "name": "stdout",
     "output_type": "stream",
     "text": [
      "\n",
      "        Teacher name is: SIR ZIA KHAN\n",
      "        Our help line number is: 0315-2968211\n",
      "        \n"
     ]
    }
   ],
   "source": [
    "obj1.details()"
   ]
  },
  {
   "cell_type": "markdown",
   "metadata": {},
   "source": [
    "# PILLARS OF OOP (OBJECT ORIENTED PROGRAMMING)\n",
    "### INHERITANCE \n",
    "* Inheritance is the process by which one class (child/subclass) can inherit attributes and methods from another class (parent/superclass). This promotes code reuse and establishes a relationship between classes.\n",
    "* In your code, Designer and Developer inherit from the Employee class. They gain the attributes of Employee (like name, education, and department) without needing to redefine them."
   ]
  },
  {
   "cell_type": "code",
   "execution_count": 141,
   "metadata": {},
   "outputs": [
    {
     "name": "stdout",
     "output_type": "stream",
     "text": [
      "Brown\n",
      "Black\n",
      "Parent method speak: Pakistan Zindabad.\n",
      "You are watching T.V.\n",
      "\n",
      "================CHILD OBJECT=============\n",
      "You are watching Cinema.\n",
      "None\n",
      "Parent method speak: Hello World!.\n",
      "None\n",
      "Brown\n",
      "Black\n",
      "Child method for teaching Generative Artificial Intelligence.\n"
     ]
    }
   ],
   "source": [
    "class Parent():\n",
    "    def __init__(self)->None:\n",
    "        self.eye_color : str = \"Brown\"\n",
    "        self.hair_color : str = \"Black\"\n",
    "        \n",
    "    def speak(self, words : str)->None:\n",
    "        print(f\"Parent method speak: {words}.\")\n",
    "        \n",
    "    def watching(self, object_name : str)->None:\n",
    "        print(f\"You are watching {object_name}.\")\n",
    "        \n",
    "        \n",
    "class Child(Parent):\n",
    "    def teaching(self, subject : str = None)->None:\n",
    "        print(f\"Child method for teaching {subject}.\")\n",
    "\n",
    "\n",
    "obj1 : Parent = Parent()\n",
    "print(obj1.eye_color)\n",
    "print(obj1.hair_color)\n",
    "obj1.speak(\"Pakistan Zindabad\")\n",
    "obj1.watching(\"T.V\")\n",
    "\n",
    "print(\"\\n================CHILD OBJECT=============\")\n",
    "##### CHILD OBJECT #####\n",
    "\n",
    "obj2 : Child = Child()\n",
    "print(obj2.watching(\"Cinema\"))\n",
    "print(obj2.speak(\"Hello World!\"))\n",
    "print(obj2.eye_color)\n",
    "print(obj2.hair_color)\n",
    "obj2.teaching(\"Generative Artificial Intelligence\")"
   ]
  },
  {
   "cell_type": "code",
   "execution_count": 3,
   "metadata": {},
   "outputs": [
    {
     "name": "stdout",
     "output_type": "stream",
     "text": [
      "Animation Artist\n",
      "['Python']\n"
     ]
    }
   ],
   "source": [
    "class Employee():                                           # Define a base class named Employee.\n",
    "    def __init__(self)->None:                               # Initialize the base class with the default attribute.\n",
    "        self.name : str = \"\"                                # Attribute to store the employee name as an empty string.\n",
    "        self.education : str = \"\"                           # Attribute to store the employee education as an empty string.\n",
    "        self.department : str = \"\"                          # Attribute to store the employee department as an empty string.\n",
    "        \n",
    "class Designer(Employee):                                   # Define a subclass of employee named Designer.\n",
    "    def __init__(self, title : str, name : str) ->None:                 # Initialize the designer class with a required title attribute. \n",
    "        super().__init__()                                  # Call the initializer of the base class Employee. \n",
    "        self.title : str = title                            # Set the title attribute specific to the Designer class.\n",
    "        \n",
    "class Developer(Employee):                                          # Define the subclass of the employee and the developer. \n",
    "    def __init__(self, title : str, name : str)->None:                          # Initialize the Developer class with a title and programming skills attribute.    \n",
    "        super().__init__()                                          # Call the initializer of the base class.\n",
    "        self.programming_skills : list[str] = [\"Python\"]            # Defining the programming skills as a list, defaulting to Python.\n",
    "    \n",
    "    \n",
    "design1 : Designer = Designer(\"Animation Artist\", \"Asif Khan\")                                       # Create an instance of Designer class with the title \"Animation Artist\"\n",
    "dev1 : Developer = Developer(\"Generative Artificial Intelligence Engineer\", \"Tahir Abbas\")             # Create an instance of Developer class with the title \"Generative Artificial Intelligence Engineer\"\n",
    "\n",
    "print(design1.title)                            # Print the attribute of the design1 instance.\n",
    "print(dev1.programming_skills)                  # Print the programming skills of the Dev1 attribute."
   ]
  }
 ],
 "metadata": {
  "kernelspec": {
   "display_name": "Python 3",
   "language": "python",
   "name": "python3"
  },
  "language_info": {
   "codemirror_mode": {
    "name": "ipython",
    "version": 3
   },
   "file_extension": ".py",
   "mimetype": "text/x-python",
   "name": "python",
   "nbconvert_exporter": "python",
   "pygments_lexer": "ipython3",
   "version": "3.12.7"
  }
 },
 "nbformat": 4,
 "nbformat_minor": 2
}
