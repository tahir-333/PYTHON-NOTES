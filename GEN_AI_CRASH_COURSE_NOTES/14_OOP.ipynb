{
 "cells": [
  {
   "cell_type": "markdown",
   "metadata": {},
   "source": [
    "# MULTIPLE INHERITANCE \n",
    "* The form of inheritance in which a child class inherit attributes from multiple parent classes.\n",
    "* Multiple inheritance allows a class to from more than one base class."
   ]
  },
  {
   "cell_type": "code",
   "execution_count": null,
   "metadata": {},
   "outputs": [
    {
     "name": "stdout",
     "output_type": "stream",
     "text": [
      "Child Name: Tahir Abbas.\n",
      "Mother's Name: Mumtaz Bibi.\n",
      "Father's Name: Mazhar Abbas.\n",
      "Eye color inherited from Mother: Blue.\n",
      "Height inherited from Father: 6 Feet.\n",
      "Mother is speaking Punjabi.\n"
     ]
    }
   ],
   "source": [
    "class Mother():                                      # Define the Mother class.\n",
    "    def __init__(self, name : str)->None:            # Initialize the mother_name attribute withe the provided name argument.\n",
    "        self.mother_name = name\n",
    "        self.eye_color : str = \"Blue\"                 # Set a default eye color attribute for Mother.\n",
    "        \n",
    "    def speaking(self, words : str)->str:\n",
    "        return f\"Mother is speaking {words}\"          # Return a speaking method for Mother.\n",
    "    \n",
    "class Father():                                       # Define the Father class.\n",
    "    def __init__(self, name : str)->None:             # Initialize the father_name attribute with provided name argument. \n",
    "        self.father_name = name\n",
    "        self.height : str = \"6 Feet\"                  # Set a default height attribute for Father.\n",
    "        \n",
    "class Child(Mother, Father):                          # Define a child class, inheriting from both  Father and Mother.\n",
    "    def __init__(self, mother_name : str, father_name : str, child_name : str)->None:\n",
    "        Mother.__init__(self, mother_name)             # Initialize the Mother part of Child with mother_name.\n",
    "        Father.__init__(self, father_name)             # Initialize the Father part of child with father name.\n",
    "        self.child_name : str = child_name             # Set the child name attribute with the provided child name argument.\n",
    "        \n",
    "qasim : Child = Child(\"Mumtaz Bibi\", \"Mazhar Abbas\", \"Tahir Abbas\")                  # Create an instance(object) of child with specific names for mother, father and child.\n",
    "\n",
    "print(f\"Child Name: {qasim.child_name}.\")                            # Print child's name.\n",
    "print(f\"Mother's Name: {qasim.mother_name}.\")                        # Print Mother name accessed from the Mother part of the Child instance(object).\n",
    "print(f\"Father's Name: {qasim.father_name}.\")                        # Print the Father name accessed from the Father part of the Child instance(object).\n",
    "print(f\"Eye color inherited from Mother: {qasim.eye_color}.\")        # Print the eye color attribute inherited from the Mother class.\n",
    "print(f\"Height inherited from Father: {qasim.height}.\")              # Print the height attribute inherited from the Father class.\n",
    "print(qasim.speaking(\"Punjabi.\"))\n"
   ]
  },
  {
   "cell_type": "code",
   "execution_count": null,
   "metadata": {},
   "outputs": [
    {
     "data": {
      "text/plain": [
       "['__class__',\n",
       " '__delattr__',\n",
       " '__dict__',\n",
       " '__dir__',\n",
       " '__doc__',\n",
       " '__eq__',\n",
       " '__format__',\n",
       " '__ge__',\n",
       " '__getattribute__',\n",
       " '__getstate__',\n",
       " '__gt__',\n",
       " '__hash__',\n",
       " '__init__',\n",
       " '__init_subclass__',\n",
       " '__le__',\n",
       " '__lt__',\n",
       " '__module__',\n",
       " '__ne__',\n",
       " '__new__',\n",
       " '__reduce__',\n",
       " '__reduce_ex__',\n",
       " '__repr__',\n",
       " '__setattr__',\n",
       " '__sizeof__',\n",
       " '__str__',\n",
       " '__subclasshook__',\n",
       " '__weakref__',\n",
       " 'child_name',\n",
       " 'eye_color',\n",
       " 'height',\n",
       " 'name',\n",
       " 'speaking']"
      ]
     },
     "execution_count": 12,
     "metadata": {},
     "output_type": "execute_result"
    }
   ],
   "source": [
    "dir(qasim)                                        # Here in output we see 5 attributes of qasim, but we define only one in the child object, all the other attributes are inherited from base class( Mother and Father)."
   ]
  },
  {
   "cell_type": "code",
   "execution_count": 51,
   "metadata": {},
   "outputs": [
    {
     "name": "stdout",
     "output_type": "stream",
     "text": [
      "Child Name: Tahir Abbas.\n",
      "Mother's Name: Mumtaz Bibi.\n",
      "Father is speaking Punjabi.\n",
      "Father's Name: Mazhar Abbas.\n",
      "Father is speaking Urdu.\n",
      "Eye color inherited from Mother: Blue.\n",
      "Height inherited from Father: 6 Feet.\n"
     ]
    }
   ],
   "source": [
    "# from os import name\n",
    "\n",
    "\n",
    "class Mother():\n",
    "    def __init__(self, name : str)->None:\n",
    "        self.mother_name = name\n",
    "        self.eye_color : str = \"Blue\"\n",
    "        \n",
    "    def speaking(self, words : str)->str:\n",
    "        return f\"Mother is speaking {words}.\"\n",
    "    \n",
    "class Father():\n",
    "    def __init__(self, name : str)->None:\n",
    "        self.father_name = name\n",
    "        self.height : str = \"6 Feet\"\n",
    "        \n",
    "    def speaking(self, words : str)->str:\n",
    "        return f\"Father is speaking {words}.\"\n",
    "    \n",
    "class Child(Father, Mother):\n",
    "    def __init__(self, mother_name : str, father_name : str, child_name : str)->None:\n",
    "        Mother.__init__(self, mother_name)\n",
    "        Father.__init__(self, father_name)\n",
    "        self.child_name : str = child_name\n",
    "        \n",
    "        \n",
    "qasim : Child = Child(\"Mumtaz Bibi\", \"Mazhar Abbas\", \"Tahir Abbas\")\n",
    "\n",
    "print(f\"Child Name: {qasim.child_name}.\")\n",
    "print(f\"Mother's Name: {qasim.mother_name}.\")\n",
    "print(qasim.speaking(\"Punjabi\"))\n",
    "print(f\"Father's Name: {qasim.father_name}.\")\n",
    "print(qasim.speaking(\"Urdu\"))\n",
    "print(f\"Eye color inherited from Mother: {qasim.eye_color}.\")\n",
    "print(f\"Height inherited from Father: {qasim.height}.\")\n",
    "        "
   ]
  },
  {
   "cell_type": "code",
   "execution_count": 69,
   "metadata": {},
   "outputs": [
    {
     "name": "stdout",
     "output_type": "stream",
     "text": [
      "Child Name: Tahir Abbas.\n",
      "Father's Name: Mazhar Abbas.\n",
      "Mother is speaking Punjabi.\n",
      "Mother's Name: Mumtaz Bibi.\n",
      "Mother is speaking Urdu.\n",
      "Eye color inherited from Mother: Blue.\n",
      "Height inherited from Father: 6 Feet.\n"
     ]
    }
   ],
   "source": [
    "class Mother():\n",
    "    def __init__(self, name : str)->None:\n",
    "        self.mother_name = name\n",
    "        self.eye_color : str = \"Blue\"\n",
    "        \n",
    "    def speaking(self, words : str)->str:\n",
    "        return f\"Mother is speaking {words}.\"\n",
    "    \n",
    "class Father():\n",
    "    def __init__(self, name : str)->None:\n",
    "        self.father_name = name\n",
    "        self.height : str = \"6 Feet\"\n",
    "        \n",
    "    def speaking(self, words : str)->str:\n",
    "        return f\"Father is speaking {words}.\"\n",
    "    \n",
    "class Child(Mother, Father):                                                           # The Child class gives periority to the first class that is defined in the child class, in this case like Mother class is first defines while Father class is defined latter. \n",
    "    def __init__(self, mother_name : str, father_name : str, child_name :str)->None:\n",
    "        Mother.__init__(self, mother_name)\n",
    "        Father.__init__(self, father_name)\n",
    "        self.child_name : str = child_name \n",
    "        \n",
    "qasim : Child = Child(\"Mumtaz Bibi\", \"Mazhar Abbas\", \"Tahir Abbas\")\n",
    "\n",
    "print(f\"Child Name: {qasim.child_name}.\")\n",
    "print(f\"Father's Name: {qasim.father_name}.\")\n",
    "print(qasim.speaking(\"Punjabi\"))\n",
    "print(f\"Mother's Name: {qasim.mother_name}.\")\n",
    "print(qasim.speaking(\"Urdu\"))\n",
    "print(f\"Eye color inherited from Mother: {qasim.eye_color}.\")\n",
    "print(f\"Height inherited from Father: {qasim.height}.\")\n",
    "        \n",
    "        \n",
    "# In the output cell, (i,e: cell number 3, and cell number 5) in both cells alike name is printed representing the speaking language.\n",
    "# Although wen define the speaking function for both father and mother.\n",
    "# But here, instead of printing the speaking language representing the different name (i,e: Father name and Mother name) both the speaking languages represents the same name (i,e: Mother).\n",
    "# The reason is this that while creating the Child class, we define first Mother class and then Father class. "
   ]
  },
  {
   "cell_type": "markdown",
   "metadata": {},
   "source": [
    " # POLYMORPHISM \n",
    " * Polymorphism means \"many shapes\" and refers to the ability of objects to be used interchangeably if they share the same interface or method signature."
   ]
  },
  {
   "cell_type": "markdown",
   "metadata": {},
   "source": [
    "# OVERLOADING \n",
    "* Functional overloading, in which one function is used to perform multiple tasks(i,e: addition of int, addition of float and addition of str) as given below...\n",
    "* One function that is the function of addition, is performing multiple behavior."
   ]
  },
  {
   "cell_type": "code",
   "execution_count": null,
   "metadata": {},
   "outputs": [
    {
     "name": "stdout",
     "output_type": "stream",
     "text": [
      "4\n",
      "5.0\n",
      "Hello,World!\n"
     ]
    }
   ],
   "source": [
    "# FUNCTIONAL OVERLOADING....\n",
    "\n",
    "\n",
    "from typing import Union, overload \n",
    "\n",
    "@overload\n",
    "def add(x: int, y: int)->int:\n",
    "    ...\n",
    "    \n",
    "@overload\n",
    "def add(x : float, y : float)->float:\n",
    "    ...\n",
    "    \n",
    "@overload\n",
    "def add(x : str, y : str)->str:\n",
    "    ...\n",
    "    \n",
    "def add(x : Union[int, float, str], y : Union[int, float, str])-> Union[int, float, str]:\n",
    "    if isinstance(x, int) and isinstance(y, int):\n",
    "        return x +y\n",
    "    elif isinstance(x, float) and isinstance(y, float):\n",
    "        return x + y\n",
    "    elif isinstance(x, str) and isinstance(y, str):\n",
    "        return x + y \n",
    "    else:\n",
    "        raise TypeError(\"Invalid argument types!\")\n",
    "    \n",
    "    \n",
    "# USAGE EXAMPLE \n",
    "\n",
    "\n",
    "result1 = add(1, 3)\n",
    "result2 = add(2.0, 3.0)\n",
    "result3 = add(\"Hello,\", \"World!\")   \n",
    "# result4 = add([1,2,3], [2, 3, 4]) \n",
    "    \n",
    "print(result1)\n",
    "print(result2)\n",
    "print(result3)"
   ]
  },
  {
   "cell_type": "code",
   "execution_count": 86,
   "metadata": {},
   "outputs": [
    {
     "ename": "TypeError",
     "evalue": "Invalid Argument Type!",
     "output_type": "error",
     "traceback": [
      "\u001b[1;31m---------------------------------------------------------------------------\u001b[0m",
      "\u001b[1;31mTypeError\u001b[0m                                 Traceback (most recent call last)",
      "Cell \u001b[1;32mIn[86], line 29\u001b[0m\n\u001b[0;32m     27\u001b[0m result2 \u001b[38;5;241m=\u001b[39m add(\u001b[38;5;241m3.0\u001b[39m, \u001b[38;5;241m9.0\u001b[39m)\n\u001b[0;32m     28\u001b[0m result3 \u001b[38;5;241m=\u001b[39m add(\u001b[38;5;124m\"\u001b[39m\u001b[38;5;124mHello,\u001b[39m\u001b[38;5;124m\"\u001b[39m, \u001b[38;5;124m\"\u001b[39m\u001b[38;5;124mWorld!\u001b[39m\u001b[38;5;124m\"\u001b[39m)\n\u001b[1;32m---> 29\u001b[0m result4 \u001b[38;5;241m=\u001b[39m \u001b[43madd\u001b[49m\u001b[43m(\u001b[49m\u001b[43m[\u001b[49m\u001b[38;5;241;43m1\u001b[39;49m\u001b[43m,\u001b[49m\u001b[38;5;241;43m2\u001b[39;49m\u001b[43m,\u001b[49m\u001b[38;5;241;43m3\u001b[39;49m\u001b[43m]\u001b[49m\u001b[43m,\u001b[49m\u001b[43m \u001b[49m\u001b[43m[\u001b[49m\u001b[38;5;241;43m9\u001b[39;49m\u001b[43m,\u001b[49m\u001b[43m \u001b[49m\u001b[38;5;241;43m8\u001b[39;49m\u001b[43m,\u001b[49m\u001b[38;5;241;43m9\u001b[39;49m\u001b[43m]\u001b[49m\u001b[43m)\u001b[49m\n",
      "Cell \u001b[1;32mIn[86], line 22\u001b[0m, in \u001b[0;36madd\u001b[1;34m(x, y)\u001b[0m\n\u001b[0;32m     20\u001b[0m     \u001b[38;5;28;01mreturn\u001b[39;00m x \u001b[38;5;241m+\u001b[39m y\n\u001b[0;32m     21\u001b[0m \u001b[38;5;28;01melse\u001b[39;00m:\n\u001b[1;32m---> 22\u001b[0m     \u001b[38;5;28;01mraise\u001b[39;00m \u001b[38;5;167;01mTypeError\u001b[39;00m(\u001b[38;5;124m\"\u001b[39m\u001b[38;5;124mInvalid Argument Type!\u001b[39m\u001b[38;5;124m\"\u001b[39m)\n",
      "\u001b[1;31mTypeError\u001b[0m: Invalid Argument Type!"
     ]
    }
   ],
   "source": [
    "from typing import Union, overload \n",
    "\n",
    "@overload\n",
    "def add(x : int, y : int)->int:\n",
    "    ...\n",
    "    \n",
    "def add(x : float, y : float)->float:\n",
    "    ...\n",
    "    \n",
    "def add(x : str, y : str)->str:\n",
    "    ...\n",
    "    \n",
    "    \n",
    "def add(x : Union[int, float, str], y : Union[int, float, str])->Union[int, float, str]:\n",
    "    if isinstance(x, int) and isinstance(y, int):\n",
    "        return x + y \n",
    "    elif isinstance(x, float) and isinstance(y, float):\n",
    "        return x + y\n",
    "    elif isinstance(x, str) and isinstance(y, str):\n",
    "        return x + y\n",
    "    else:\n",
    "        raise TypeError(\"Invalid Argument Type!\")\n",
    "    \n",
    "    \n",
    "    \n",
    "result1 = add(1, 3)\n",
    "result2 = add(3.0, 9.0)\n",
    "result3 = add(\"Hello,\", \"World!\")\n",
    "result4 = add([1,2,3], [9, 8,9])"
   ]
  },
  {
   "cell_type": "markdown",
   "metadata": {},
   "source": [
    "# METHOD OVERLOADING "
   ]
  },
  {
   "cell_type": "code",
   "execution_count": 97,
   "metadata": {},
   "outputs": [
    {
     "name": "stdout",
     "output_type": "stream",
     "text": [
      "4\n",
      "7.0\n",
      "Hello,World!\n"
     ]
    }
   ],
   "source": [
    "from typing import Union, overload\n",
    "\n",
    "class Adder():\n",
    "    @overload\n",
    "    def add(x : int, y : int)->int:\n",
    "        ...\n",
    "    def add(x : float, y : float)->float:\n",
    "        ...\n",
    "    def add(x : str, y : str)->str:\n",
    "        ...\n",
    "        \n",
    "        \n",
    "    def add(self, x : Union[int, float, str], y : Union[int, float, str]) ->Union[int, float, str]:\n",
    "        if isinstance(x, int) and isinstance(y, int):\n",
    "            return x + y \n",
    "        elif isinstance(x, float) and isinstance(y, float):\n",
    "            return x + y\n",
    "        elif isinstance(x, str) and isinstance(y, str):\n",
    "            return x + y \n",
    "        else:\n",
    "            raise TypeError(\"Invalid Argument Types!\") \n",
    "        \n",
    "        \n",
    "# Usage example \n",
    "\n",
    "adder = Adder()\n",
    "result1 = adder.add(1, 3)\n",
    "result2 = adder.add(2.0, 5.0)\n",
    "result3 = adder.add(\"Hello,\", \"World!\")\n",
    "\n",
    "\n",
    "print(result1)\n",
    "print(result2)\n",
    "print(result3)"
   ]
  },
  {
   "cell_type": "code",
   "execution_count": null,
   "metadata": {},
   "outputs": [
    {
     "ename": "TypeError",
     "evalue": "Invalid Type Error.",
     "output_type": "error",
     "traceback": [
      "\u001b[1;31m---------------------------------------------------------------------------\u001b[0m",
      "\u001b[1;31mTypeError\u001b[0m                                 Traceback (most recent call last)",
      "Cell \u001b[1;32mIn[113], line 34\u001b[0m\n\u001b[0;32m     32\u001b[0m result2 \u001b[38;5;241m=\u001b[39m adder\u001b[38;5;241m.\u001b[39madd(\u001b[38;5;241m2.0\u001b[39m, \u001b[38;5;241m8.0\u001b[39m)\n\u001b[0;32m     33\u001b[0m result3 \u001b[38;5;241m=\u001b[39m adder\u001b[38;5;241m.\u001b[39madd(\u001b[38;5;124m\"\u001b[39m\u001b[38;5;124mHello,\u001b[39m\u001b[38;5;124m\"\u001b[39m, \u001b[38;5;124m\"\u001b[39m\u001b[38;5;124mWorld!\u001b[39m\u001b[38;5;124m\"\u001b[39m)\n\u001b[1;32m---> 34\u001b[0m result4 \u001b[38;5;241m=\u001b[39m \u001b[43madder\u001b[49m\u001b[38;5;241;43m.\u001b[39;49m\u001b[43madd\u001b[49m\u001b[43m(\u001b[49m\u001b[38;5;241;43m12\u001b[39;49m\u001b[43m,\u001b[49m\u001b[43m \u001b[49m\u001b[38;5;241;43m9.0\u001b[39;49m\u001b[43m)\u001b[49m\n\u001b[0;32m     36\u001b[0m display(result1)\n",
      "Cell \u001b[1;32mIn[113], line 25\u001b[0m, in \u001b[0;36mAdder.add\u001b[1;34m(self, x, y)\u001b[0m\n\u001b[0;32m     23\u001b[0m     \u001b[38;5;28;01mreturn\u001b[39;00m x \u001b[38;5;241m+\u001b[39m y \n\u001b[0;32m     24\u001b[0m \u001b[38;5;28;01melse\u001b[39;00m:\n\u001b[1;32m---> 25\u001b[0m     \u001b[38;5;28;01mraise\u001b[39;00m \u001b[38;5;167;01mTypeError\u001b[39;00m(\u001b[38;5;124m\"\u001b[39m\u001b[38;5;124mInvalid Type Error.\u001b[39m\u001b[38;5;124m\"\u001b[39m)\n",
      "\u001b[1;31mTypeError\u001b[0m: Invalid Type Error."
     ]
    }
   ],
   "source": [
    "from typing import Union, overload\n",
    "\n",
    "\n",
    "class Adder():\n",
    "    @overload\n",
    "    def add(x : int, y : int)->int:\n",
    "        ...\n",
    "    \n",
    "    @overload\n",
    "    def add(x : float, y : float)->float:\n",
    "        ...\n",
    "        \n",
    "    @overload\n",
    "    def add(x : str, y : str)->str:\n",
    "        ...\n",
    "        \n",
    "    def add(self, x : Union[int, float, str], y : Union[int, float, str])-> Union[int, float, str]:\n",
    "        if isinstance(x, int) and isinstance(y, int):\n",
    "            return x + y\n",
    "        elif isinstance(x, float) and isinstance(y, float):\n",
    "            return x + y\n",
    "        elif isinstance(x, str) and isinstance(y, str):\n",
    "            return x + y \n",
    "        else:\n",
    "            raise TypeError(\"Invalid Type Error.\")\n",
    "        \n",
    "        \n",
    "# Usage example \n",
    "\n",
    "adder = Adder()\n",
    "result1 = adder.add(2, 4)\n",
    "result2 = adder.add(2.0, 8.0)\n",
    "result3 = adder.add(\"Hello,\", \"World!\")\n",
    "result4 = adder.add(12, 9.0)                                  # We are going to print result that is not defined in the elif statement, so that's why else block will run and give the result as defined in the else statement.\n",
    "\n",
    "display(result1)"
   ]
  },
  {
   "cell_type": "markdown",
   "metadata": {},
   "source": [
    "# OVERRIDING AND POLYMORPHISM "
   ]
  },
  {
   "cell_type": "code",
   "execution_count": 131,
   "metadata": {},
   "outputs": [
    {
     "name": "stdout",
     "output_type": "stream",
     "text": [
      "Bird is eating Bread.\n",
      "Animal is eating Grass.\n",
      "Bird is eating Grass.\n"
     ]
    }
   ],
   "source": [
    "class Animal():\n",
    "    def eating(self, food : str)->None:\n",
    "        print(f\"Animal is eating {food}.\")\n",
    "        \n",
    "        \n",
    "class Bird(Animal):\n",
    "    def eating(self, food : str)->None:\n",
    "        print(f\"Bird is eating {food}.\")\n",
    "        \n",
    "        \n",
    "        \n",
    "bird : Bird = Bird()\n",
    "bird.eating(\"Bread\")\n",
    "animal : Animal = Animal()\n",
    "animal.eating(\"Grass\")\n",
    "\n",
    "animal : Animal = Bird()\n",
    "animal.eating(\"Grass\")\n"
   ]
  },
  {
   "cell_type": "markdown",
   "metadata": {},
   "source": [
    "# POLYMORPHISM"
   ]
  },
  {
   "cell_type": "code",
   "execution_count": null,
   "metadata": {},
   "outputs": [
    {
     "name": "stdout",
     "output_type": "stream",
     "text": [
      "Bird is eating Grass.\n"
     ]
    }
   ],
   "source": [
    "animal : Animal = Bird()                  # At run time, it will decide which object method it will run.\n",
    "animal.eating(\"Grass\")"
   ]
  },
  {
   "cell_type": "code",
   "execution_count": 136,
   "metadata": {},
   "outputs": [
    {
     "name": "stdout",
     "output_type": "stream",
     "text": [
      "Animal is eating Grass.\n"
     ]
    }
   ],
   "source": [
    "animal : Animal = Animal()\n",
    "animal.eating(\"Grass\")"
   ]
  }
 ],
 "metadata": {
  "kernelspec": {
   "display_name": "Python 3",
   "language": "python",
   "name": "python3"
  },
  "language_info": {
   "codemirror_mode": {
    "name": "ipython",
    "version": 3
   },
   "file_extension": ".py",
   "mimetype": "text/x-python",
   "name": "python",
   "nbconvert_exporter": "python",
   "pygments_lexer": "ipython3",
   "version": "3.12.7"
  }
 },
 "nbformat": 4,
 "nbformat_minor": 2
}
