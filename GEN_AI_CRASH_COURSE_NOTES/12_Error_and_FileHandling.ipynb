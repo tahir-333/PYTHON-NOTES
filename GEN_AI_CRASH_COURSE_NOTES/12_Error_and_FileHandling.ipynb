{
 "cells": [
  {
   "cell_type": "markdown",
   "metadata": {},
   "source": [
    "# ERROR HANDLING "
   ]
  },
  {
   "cell_type": "code",
   "execution_count": 11,
   "metadata": {},
   "outputs": [
    {
     "name": "stdout",
     "output_type": "stream",
     "text": [
      "logic1\n",
      "logic2\n",
      "Zero Division Error!\n",
      "logic4\n",
      "logic5\n"
     ]
    }
   ],
   "source": [
    "print(\"logic1\")\n",
    "print(\"logic2\")\n",
    "\n",
    "l1: list[int] = [1,2,3]\n",
    "\n",
    "try:\n",
    "    print(5/0)                                # Zero Division Error\n",
    "    print(l1[0])\n",
    "    print(xyz)\n",
    "except ZeroDivisionError:\n",
    "    print(\"Zero Division Error!\")\n",
    "except IndexError:\n",
    "    print(\"Index Error!\")\n",
    "except NameError:\n",
    "    print(\"Name not defined!\")\n",
    "    \n",
    "    \n",
    "print(\"logic4\")\n",
    "print(\"logic5\")"
   ]
  },
  {
   "cell_type": "code",
   "execution_count": 12,
   "metadata": {},
   "outputs": [
    {
     "name": "stdout",
     "output_type": "stream",
     "text": [
      "logic1\n",
      "logic2\n",
      "2.5\n",
      "Index Error!\n",
      "logic4\n",
      "logic5\n"
     ]
    }
   ],
   "source": [
    "print(\"logic1\")\n",
    "print(\"logic2\")\n",
    "\n",
    "l1: list[int] = [1,2,3]\n",
    "\n",
    "try:\n",
    "    print(5/2)\n",
    "    print(l1[3])                                # Index Error\n",
    "    print(xyz)\n",
    "except ZeroDivisionError:\n",
    "    print(\"Zero Division Error!\")\n",
    "except IndexError:\n",
    "    print(\"Index Error!\")\n",
    "except NameError:\n",
    "    print(\"Name not defined!\")\n",
    "    \n",
    "    \n",
    "print(\"logic4\")\n",
    "print(\"logic5\")"
   ]
  },
  {
   "cell_type": "code",
   "execution_count": 6,
   "metadata": {},
   "outputs": [
    {
     "name": "stdout",
     "output_type": "stream",
     "text": [
      "logic1\n",
      "logic2\n",
      "2.5\n",
      "1\n",
      "Name not defined!\n",
      "logic4\n",
      "logic5\n"
     ]
    }
   ],
   "source": [
    "print(\"logic1\")\n",
    "print(\"logic2\")\n",
    "\n",
    "l1: list[int] = [1,2,3]\n",
    "\n",
    "try:\n",
    "    print(5/2)\n",
    "    print(l1[0])\n",
    "    print(xyz)                            # Name Error\n",
    "except ZeroDivisionError:\n",
    "    print(\"Zero Division Error!\")\n",
    "except IndexError:\n",
    "    print(\"Index Error!\")\n",
    "except NameError:\n",
    "    print(\"Name not defined!\")\n",
    "    \n",
    "    \n",
    "print(\"logic4\")\n",
    "print(\"logic5\")"
   ]
  },
  {
   "cell_type": "code",
   "execution_count": 9,
   "metadata": {},
   "outputs": [
    {
     "name": "stdout",
     "output_type": "stream",
     "text": [
      "logic1\n",
      "logic2\n",
      "2.5\n",
      "1\n",
      "Some thing is wrong!\n",
      "logic4\n",
      "logic5\n"
     ]
    }
   ],
   "source": [
    "print(\"logic1\")\n",
    "print(\"logic2\")\n",
    "\n",
    "l1: list[int] = [1,2,3]\n",
    "\n",
    "try:\n",
    "    print(5/2)\n",
    "    print(l1[0])\n",
    "    # print(xyz)\n",
    "    open(\"aa.txt\")\n",
    "except (ZeroDivisionError):\n",
    "    print(\"Zero Division Error\")\n",
    "except (IndexError):\n",
    "    print(\"Index Error\")\n",
    "except (NameError):\n",
    "    print(\"Name not defined\")\n",
    "except:\n",
    "    print(\"Some thing is wrong!\")             # Message is not dynamic here, it should be dynamic for the user convenience.          \n",
    "     \n",
    "print(\"logic4\")\n",
    "print(\"logic5\")"
   ]
  },
  {
   "cell_type": "code",
   "execution_count": 11,
   "metadata": {},
   "outputs": [
    {
     "name": "stdout",
     "output_type": "stream",
     "text": [
      "Some thing is wrong!\n",
      " name 'age' is not defined.\n"
     ]
    }
   ],
   "source": [
    "try:\n",
    "    print(age)\n",
    "except Exception as e:\n",
    "    print(f\"Some thing is wrong!\\n {e}.\")"
   ]
  },
  {
   "cell_type": "code",
   "execution_count": 14,
   "metadata": {},
   "outputs": [
    {
     "name": "stdout",
     "output_type": "stream",
     "text": [
      "Some thing is wrong!\n",
      " list index out of range.\n"
     ]
    }
   ],
   "source": [
    "try:\n",
    "    print(l1[200])\n",
    "except Exception as e:\n",
    "    print(f\"Some thing is wrong!\\n {e}.\")"
   ]
  },
  {
   "cell_type": "markdown",
   "metadata": {},
   "source": [
    "# CUSTOM ERRORS"
   ]
  },
  {
   "cell_type": "code",
   "execution_count": 18,
   "metadata": {},
   "outputs": [
    {
     "name": "stdout",
     "output_type": "stream",
     "text": [
      "Qasim 1 30\n"
     ]
    }
   ],
   "source": [
    "class StudentCard():\n",
    "    def __init__(self, roll_no:int, name:str, age:int)-> None:\n",
    "        pass\n",
    "        if age<18 or age >60:\n",
    "            raise StudentAgeError(\"You are not eligible for this program!\")\n",
    "        self.roll_no = roll_no\n",
    "        self.name  = name \n",
    "        self.age = age\n",
    "        \n",
    "class StudentAgeError(Exception):               # Custom error class.\n",
    "    pass\n",
    "\n",
    "student1 = StudentCard(1, \"Qasim\", 30)\n",
    "print(student1.name, student1.roll_no, student1.age)            "
   ]
  },
  {
   "cell_type": "code",
   "execution_count": 20,
   "metadata": {},
   "outputs": [
    {
     "ename": "StudentAgeError",
     "evalue": "You are not eligible for this program!",
     "output_type": "error",
     "traceback": [
      "\u001b[1;31m---------------------------------------------------------------------------\u001b[0m",
      "\u001b[1;31mStudentAgeError\u001b[0m                           Traceback (most recent call last)",
      "Cell \u001b[1;32mIn[20], line 1\u001b[0m\n\u001b[1;32m----> 1\u001b[0m student1 \u001b[38;5;241m=\u001b[39m \u001b[43mStudentCard\u001b[49m\u001b[43m(\u001b[49m\u001b[38;5;241;43m1\u001b[39;49m\u001b[43m,\u001b[49m\u001b[43m \u001b[49m\u001b[38;5;124;43m\"\u001b[39;49m\u001b[38;5;124;43mHammad\u001b[39;49m\u001b[38;5;124;43m\"\u001b[39;49m\u001b[43m,\u001b[49m\u001b[43m \u001b[49m\u001b[38;5;241;43m61\u001b[39;49m\u001b[43m)\u001b[49m\n\u001b[0;32m      2\u001b[0m \u001b[38;5;28mprint\u001b[39m(student1\u001b[38;5;241m.\u001b[39mname, student1\u001b[38;5;241m.\u001b[39mroll_no, student1\u001b[38;5;241m.\u001b[39mage)\n",
      "Cell \u001b[1;32mIn[18], line 5\u001b[0m, in \u001b[0;36mStudentCard.__init__\u001b[1;34m(self, roll_no, name, age)\u001b[0m\n\u001b[0;32m      3\u001b[0m \u001b[38;5;28;01mpass\u001b[39;00m\n\u001b[0;32m      4\u001b[0m \u001b[38;5;28;01mif\u001b[39;00m age\u001b[38;5;241m<\u001b[39m\u001b[38;5;241m18\u001b[39m \u001b[38;5;129;01mor\u001b[39;00m age \u001b[38;5;241m>\u001b[39m\u001b[38;5;241m60\u001b[39m:\n\u001b[1;32m----> 5\u001b[0m     \u001b[38;5;28;01mraise\u001b[39;00m StudentAgeError(\u001b[38;5;124m\"\u001b[39m\u001b[38;5;124mYou are not eligible for this program!\u001b[39m\u001b[38;5;124m\"\u001b[39m)\n\u001b[0;32m      6\u001b[0m \u001b[38;5;28mself\u001b[39m\u001b[38;5;241m.\u001b[39mroll_no \u001b[38;5;241m=\u001b[39m roll_no\n\u001b[0;32m      7\u001b[0m \u001b[38;5;28mself\u001b[39m\u001b[38;5;241m.\u001b[39mname  \u001b[38;5;241m=\u001b[39m name \n",
      "\u001b[1;31mStudentAgeError\u001b[0m: You are not eligible for this program!"
     ]
    }
   ],
   "source": [
    "student1 = StudentCard(1, \"Hammad\", 61)\n",
    "print(student1.name, student1.roll_no, student1.age)"
   ]
  },
  {
   "cell_type": "code",
   "execution_count": 21,
   "metadata": {},
   "outputs": [
    {
     "ename": "StudentAgeError",
     "evalue": "You are not eligible for this program!",
     "output_type": "error",
     "traceback": [
      "\u001b[1;31m---------------------------------------------------------------------------\u001b[0m",
      "\u001b[1;31mStudentAgeError\u001b[0m                           Traceback (most recent call last)",
      "Cell \u001b[1;32mIn[21], line 1\u001b[0m\n\u001b[1;32m----> 1\u001b[0m student1 \u001b[38;5;241m=\u001b[39m \u001b[43mStudentCard\u001b[49m\u001b[43m(\u001b[49m\u001b[38;5;241;43m2\u001b[39;49m\u001b[43m,\u001b[49m\u001b[43m \u001b[49m\u001b[38;5;124;43m\"\u001b[39;49m\u001b[38;5;124;43mAli\u001b[39;49m\u001b[38;5;124;43m\"\u001b[39;49m\u001b[43m,\u001b[49m\u001b[43m \u001b[49m\u001b[38;5;241;43m17\u001b[39;49m\u001b[43m)\u001b[49m\n\u001b[0;32m      2\u001b[0m \u001b[38;5;28mprint\u001b[39m(student1\u001b[38;5;241m.\u001b[39mname, student1\u001b[38;5;241m.\u001b[39mroll_no, student1\u001b[38;5;241m.\u001b[39mage)\n",
      "Cell \u001b[1;32mIn[18], line 5\u001b[0m, in \u001b[0;36mStudentCard.__init__\u001b[1;34m(self, roll_no, name, age)\u001b[0m\n\u001b[0;32m      3\u001b[0m \u001b[38;5;28;01mpass\u001b[39;00m\n\u001b[0;32m      4\u001b[0m \u001b[38;5;28;01mif\u001b[39;00m age\u001b[38;5;241m<\u001b[39m\u001b[38;5;241m18\u001b[39m \u001b[38;5;129;01mor\u001b[39;00m age \u001b[38;5;241m>\u001b[39m\u001b[38;5;241m60\u001b[39m:\n\u001b[1;32m----> 5\u001b[0m     \u001b[38;5;28;01mraise\u001b[39;00m StudentAgeError(\u001b[38;5;124m\"\u001b[39m\u001b[38;5;124mYou are not eligible for this program!\u001b[39m\u001b[38;5;124m\"\u001b[39m)\n\u001b[0;32m      6\u001b[0m \u001b[38;5;28mself\u001b[39m\u001b[38;5;241m.\u001b[39mroll_no \u001b[38;5;241m=\u001b[39m roll_no\n\u001b[0;32m      7\u001b[0m \u001b[38;5;28mself\u001b[39m\u001b[38;5;241m.\u001b[39mname  \u001b[38;5;241m=\u001b[39m name \n",
      "\u001b[1;31mStudentAgeError\u001b[0m: You are not eligible for this program!"
     ]
    }
   ],
   "source": [
    "student1 = StudentCard(2, \"Ali\", 17)\n",
    "print(student1.name, student1.roll_no, student1.age)"
   ]
  },
  {
   "cell_type": "markdown",
   "metadata": {},
   "source": [
    "# FILE HANDLING\n",
    "### REFERENCE LINK\n",
    "* https://www.geeksforgeeks.org/file-handling-python/\n",
    "\n",
    "* <img src=\"https://encrypted-tbn0.gstatic.com/images?q=tbn:ANd9GcQz9g6yOsRPKtETH0E_J4rbQ3XwdA6RSqxapQ&s\">\n",
    "\n",
    "* <img src=\"https://encrypted-tbn0.gstatic.com/images?q=tbn:ANd9GcRtADfwoOEDJ6HFz8QVY4CuGeRhNDH_8o6qcQ&s\">"
   ]
  },
  {
   "cell_type": "code",
   "execution_count": null,
   "metadata": {},
   "outputs": [],
   "source": []
  }
 ],
 "metadata": {
  "kernelspec": {
   "display_name": "Python 3",
   "language": "python",
   "name": "python3"
  },
  "language_info": {
   "codemirror_mode": {
    "name": "ipython",
    "version": 3
   },
   "file_extension": ".py",
   "mimetype": "text/x-python",
   "name": "python",
   "nbconvert_exporter": "python",
   "pygments_lexer": "ipython3",
   "version": "3.12.7"
  }
 },
 "nbformat": 4,
 "nbformat_minor": 2
}
