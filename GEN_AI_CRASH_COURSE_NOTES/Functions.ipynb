{
 "cells": [
  {
   "cell_type": "markdown",
   "metadata": {},
   "source": [
    "# FUNCTIONS\n",
    "* PREDEFINED_FUNCTIONS\n",
    "    * Already defined in language\n",
    "* USER_DEFINE_FUNCTIONS\n",
    "    * Custom functions\n",
    "### SIMILAR PROPERTIES ON BOTH TYPD\n",
    "* RETURN AND NON_RETURN FUNCTIONS\n",
    "    * Return\n",
    "        * We can assign this function's output to any variable\n",
    "    * Non Return\n",
    "        * We cannot assign this function's value to any variable \n",
    "\n",
    "## COMPONENTS\n",
    "* Function Declaration\n",
    "    * Function Name (It should be uniques, i.e: prime_numbers, even_numbers... name should not be the name of any pre_defined function name, i.e: print, count, len etc)\n",
    "    * Parameters \n",
    "        * Parameter : type\n",
    "    * Return output type\n",
    "* Function Body\n",
    "    * Any Business Logic Write Here \n",
    "* Function Calling\n",
    "    * function_name(arg1, arg2)\n",
    "\n",
    "## NOTE:\n",
    "* WHILE MAKING MAKING FUNCTIONS, THE NAME OF VARIABLE WE WRITE IS CALLED PARAMETER, AND WHILE CALLING FUNCTIONS WE PASS VALUES IN PARENTHESES WE CALL PARAMETERS AS ARGUMENTS.\n",
    "\n",
    "\n",
    "# SYNTAX\n",
    "```\n",
    "def function_name(parameter1: type, parameter2: type,......)--> Return Type\n",
    "\n",
    "    function body\n",
    "\n",
    "function_name(argument1, argument2)\n",
    "```\n",
    "\n"
   ]
  },
  {
   "cell_type": "markdown",
   "metadata": {},
   "source": [
    "# DEFAULT FUNCTION\n",
    "* Create simple function without any argument"
   ]
  },
  {
   "cell_type": "code",
   "execution_count": 6,
   "metadata": {},
   "outputs": [
    {
     "name": "stdout",
     "output_type": "stream",
     "text": [
      "PIAIC Generative Artificial Intelligence.\n",
      "Python Crash Course. \n"
     ]
    }
   ],
   "source": [
    "def piaic() -> None:                                          # Function Declaration / Function Signature\n",
    "    \n",
    "    # Function body start\n",
    "    print(\"PIAIC Generative Artificial Intelligence.\")        # Statement 1\n",
    "    print(\"Python Crash Course. \")                            # Statement 2\n",
    "    # Function body end\n",
    "piaic()                                                       # Function Calling\n",
    "\n"
   ]
  },
  {
   "cell_type": "code",
   "execution_count": 9,
   "metadata": {},
   "outputs": [
    {
     "name": "stdout",
     "output_type": "stream",
     "text": [
      "PIAIC Generative Artificial Intelligence.\n",
      "Python Crash Course. \n",
      "PIAIC Generative Artificial Intelligence.\n",
      "Python Crash Course. \n",
      "PIAIC Generative Artificial Intelligence.\n",
      "Python Crash Course. \n"
     ]
    }
   ],
   "source": [
    "piaic()                                                        # Function Calling\n",
    "piaic()                                                        # Function Calling\n",
    "piaic()                                                        # Function Calling "
   ]
  },
  {
   "cell_type": "markdown",
   "metadata": {},
   "source": [
    "# REQUIRED PARAMETERS FUNCTIONS "
   ]
  },
  {
   "cell_type": "code",
   "execution_count": 5,
   "metadata": {},
   "outputs": [
    {
     "data": {
      "text/plain": [
       "20"
      ]
     },
     "execution_count": 5,
     "metadata": {},
     "output_type": "execute_result"
    }
   ],
   "source": [
    "\n",
    "# Here two arguments are required while calling the function, if we put only one argument while calling function, it will result an error, as in cell no#2 below.\n",
    "\n",
    "\n",
    "                     # Param1,  Param2\n",
    "def add_two_numbers(num1: int, num2: int)-> int:                              # Function declaration /  Function Signature\n",
    "    return num1 + num2                                                        # Function Body\n",
    "add_two_numbers(12, 8)    # arg1, arg2                                        # Function Calling"
   ]
  },
  {
   "cell_type": "code",
   "execution_count": 16,
   "metadata": {},
   "outputs": [
    {
     "ename": "TypeError",
     "evalue": "add_two_numbers() missing 1 required positional argument: 'num2'",
     "output_type": "error",
     "traceback": [
      "\u001b[1;31m---------------------------------------------------------------------------\u001b[0m",
      "\u001b[1;31mTypeError\u001b[0m                                 Traceback (most recent call last)",
      "Cell \u001b[1;32mIn[16], line 3\u001b[0m\n\u001b[0;32m      1\u001b[0m \u001b[38;5;28;01mdef\u001b[39;00m \u001b[38;5;21madd_two_numbers\u001b[39m(num1: \u001b[38;5;28mint\u001b[39m, num2: \u001b[38;5;28mint\u001b[39m):\n\u001b[0;32m      2\u001b[0m     \u001b[38;5;28;01mreturn\u001b[39;00m num1 \u001b[38;5;241m+\u001b[39m num2\n\u001b[1;32m----> 3\u001b[0m \u001b[43madd_two_numbers\u001b[49m\u001b[43m(\u001b[49m\u001b[38;5;241;43m12\u001b[39;49m\u001b[43m)\u001b[49m\n",
      "\u001b[1;31mTypeError\u001b[0m: add_two_numbers() missing 1 required positional argument: 'num2'"
     ]
    }
   ],
   "source": [
    "def add_two_numbers(num1: int, num2: int):\n",
    "    return num1 + num2\n",
    "add_two_numbers(12)                                                   # Two arguments are required.\n"
   ]
  },
  {
   "cell_type": "markdown",
   "metadata": {},
   "source": [
    "# OPTIONAL PARAMETERS FUNCTIONS "
   ]
  },
  {
   "cell_type": "code",
   "execution_count": 17,
   "metadata": {},
   "outputs": [
    {
     "data": {
      "text/plain": [
       "10"
      ]
     },
     "execution_count": 17,
     "metadata": {},
     "output_type": "execute_result"
    }
   ],
   "source": [
    "def add_two_numbers(num1: int, num2:int = 2):              \n",
    "    return num1 + num2\n",
    "add_two_numbers(8)                                           # Here we input only one argument,  default value i.e:2 take place automatically "
   ]
  },
  {
   "cell_type": "code",
   "execution_count": 18,
   "metadata": {},
   "outputs": [
    {
     "data": {
      "text/plain": [
       "11"
      ]
     },
     "execution_count": 18,
     "metadata": {},
     "output_type": "execute_result"
    }
   ],
   "source": [
    "def add_two_numbers(num1: int, num2: int = 2):\n",
    "    return num1 + num2\n",
    "add_two_numbers(8, 3)                                   # If we putt two arguments, the 2nd one argument will be replaced by default argument."
   ]
  },
  {
   "cell_type": "code",
   "execution_count": 3,
   "metadata": {},
   "outputs": [
    {
     "name": "stdout",
     "output_type": "stream",
     "text": [
      "Num1 Value: 12 and Num2 Value 8\n"
     ]
    },
    {
     "data": {
      "text/plain": [
       "20"
      ]
     },
     "execution_count": 3,
     "metadata": {},
     "output_type": "execute_result"
    }
   ],
   "source": [
    "def add_two_numbers(num1: int, num2: int):\n",
    "    print(f\"Num1 Value: {num1} and Num2 Value {num2}\")\n",
    "    return num1 + num2\n",
    "\n",
    "\n",
    "add_two_numbers(12, 8)                                                      # Function Calling."
   ]
  },
  {
   "cell_type": "code",
   "execution_count": 4,
   "metadata": {},
   "outputs": [
    {
     "name": "stdout",
     "output_type": "stream",
     "text": [
      "Num1 Value: 8 and Num2 Value 12\n"
     ]
    },
    {
     "data": {
      "text/plain": [
       "20"
      ]
     },
     "execution_count": 4,
     "metadata": {},
     "output_type": "execute_result"
    }
   ],
   "source": [
    "def add_two_numbers(num1: int, num2: int):\n",
    "    print(f\"Num1 Value: {num1} and Num2 Value {num2}\")\n",
    "    return num1 + num2\n",
    "\n",
    "\n",
    "add_two_numbers(num2 = 12, num1 = 8)      # arg1, arg2 keyword arguments.                                 # Function Calling with custom arguments."
   ]
  },
  {
   "cell_type": "markdown",
   "metadata": {},
   "source": [
    "# PRE DEFINED FUNCTIONS\n",
    "* Print\n",
    "* len\n",
    "* Execute\n",
    "* Id\n",
    "* Dir\n",
    "* Chr\n",
    "* Ordered "
   ]
  },
  {
   "cell_type": "markdown",
   "metadata": {},
   "source": [
    "# RETURN AND NONE RETURN FUNCTIONS"
   ]
  },
  {
   "cell_type": "code",
   "execution_count": 1,
   "metadata": {},
   "outputs": [
    {
     "name": "stdout",
     "output_type": "stream",
     "text": [
      "Pakistan\n"
     ]
    },
    {
     "data": {
      "text/plain": [
       "None"
      ]
     },
     "metadata": {},
     "output_type": "display_data"
    }
   ],
   "source": [
    "a : str = print(\"Pakistan\")\n",
    "display(a)"
   ]
  },
  {
   "cell_type": "code",
   "execution_count": 2,
   "metadata": {},
   "outputs": [
    {
     "data": {
      "text/plain": [
       "8"
      ]
     },
     "metadata": {},
     "output_type": "display_data"
    }
   ],
   "source": [
    "a : str = len(\"Pakistan\")\n",
    "display(a)"
   ]
  },
  {
   "cell_type": "markdown",
   "metadata": {},
   "source": [
    "# LAMBDA FUNCTIONS \n",
    "* One line Function \n",
    "* Without name function\n",
    "* One time use function \n",
    "\n",
    "# SYNTAX\n",
    "```\n",
    "lambda num1, num 2 : function body\n",
    "```\n",
    "### REFERENCE LINK \n",
    "* https://stackoverflow.com/questions/16501/what-is-a-lambda-function"
   ]
  },
  {
   "cell_type": "code",
   "execution_count": 20,
   "metadata": {},
   "outputs": [
    {
     "data": {
      "text/plain": [
       "5"
      ]
     },
     "execution_count": 20,
     "metadata": {},
     "output_type": "execute_result"
    }
   ],
   "source": [
    "a = lambda num1, num2 : num1 + num2 \n",
    "a(2, 3)"
   ]
  },
  {
   "cell_type": "code",
   "execution_count": 21,
   "metadata": {},
   "outputs": [
    {
     "data": {
      "text/plain": [
       "[1, 4, 9, 16, 25, 36, 49, 64, 81, 100]"
      ]
     },
     "execution_count": 21,
     "metadata": {},
     "output_type": "execute_result"
    }
   ],
   "source": [
    "data : list[int] = [1,2,3,4,5,6,7,8,9,10]\n",
    "data = list(map(lambda x:x**2, data))\n",
    "data"
   ]
  },
  {
   "cell_type": "code",
   "execution_count": 23,
   "metadata": {},
   "outputs": [
    {
     "data": {
      "text/plain": [
       "[2, 4, 6, 8, 10]"
      ]
     },
     "execution_count": 23,
     "metadata": {},
     "output_type": "execute_result"
    }
   ],
   "source": [
    "data : list[int] = [1,2,3,4,5,6,7,8,9,10]\n",
    "data = list(filter(lambda x:x%2 == 0, data ))\n",
    "data"
   ]
  },
  {
   "cell_type": "markdown",
   "metadata": {},
   "source": [
    "# GENERATOR FUNCTION\n",
    "* Iterate over every element one by one\n",
    "* Stop after every iteration \n",
    "* Remember previous iteration value\n",
    "* Next iteration \n",
    "    * Go forward by the last iterate value"
   ]
  },
  {
   "cell_type": "code",
   "execution_count": 29,
   "metadata": {},
   "outputs": [
    {
     "name": "stdout",
     "output_type": "stream",
     "text": [
      "[1, 2, 3, 4, 5, 6, 7, 8, 9, 10]\n"
     ]
    }
   ],
   "source": [
    "def my_range(start: int, end:int, step: int = 1):\n",
    "    for i in range( start, end+1, step):\n",
    "        yield i                                        # Generator Function \n",
    "        \n",
    "a = my_range(1,10)\n",
    "# print(a)                                             # Generator Function wil not execute if print this statement is used. \n",
    "print(list(a))                                         # Proper way to print Generator Function"
   ]
  },
  {
   "cell_type": "code",
   "execution_count": 39,
   "metadata": {},
   "outputs": [
    {
     "name": "stdout",
     "output_type": "stream",
     "text": [
      "1\n",
      "2\n",
      "3\n",
      "4\n",
      "5\n",
      "Pakistan Zindabad\n",
      "6\n",
      "<class 'generator'>\n"
     ]
    }
   ],
   "source": [
    "def my_range(start: int, end: int, step: int = 1):\n",
    "    for i in range(start, end+1, step):\n",
    "        yield i                                       # Generator Function\n",
    "a = my_range(1,10)\n",
    "print(next(a))                                        # Another way to print the Generator Function.\n",
    "print(next(a))\n",
    "print(next(a))\n",
    "print(next(a))\n",
    "print(next(a))\n",
    "print(\"Pakistan Zindabad\")\n",
    "print(next(a))\n",
    "print(type(a))"
   ]
  },
  {
   "cell_type": "markdown",
   "metadata": {},
   "source": [
    "# PASS UNLIMITED ARGUMENTS"
   ]
  },
  {
   "cell_type": "code",
   "execution_count": 11,
   "metadata": {},
   "outputs": [
    {
     "name": "stdout",
     "output_type": "stream",
     "text": [
      "(1, 2, 3, 4, 5, 6, 7, 8, 9) <class 'tuple'>\n"
     ]
    },
    {
     "data": {
      "text/plain": [
       "10"
      ]
     },
     "execution_count": 11,
     "metadata": {},
     "output_type": "execute_result"
    }
   ],
   "source": [
    "def abc(*nums):                                                              # Unlimited parameters.\n",
    "    print(nums, type(nums))\n",
    "    i = 0\n",
    "    for i in nums:\n",
    "        i = i+1\n",
    "    return i\n",
    "\n",
    "abc(1,2,3,4,5,6,7,8,9)"
   ]
  },
  {
   "cell_type": "code",
   "execution_count": null,
   "metadata": {},
   "outputs": [],
   "source": [
    "from typing import Tuple \n",
    "\n",
    "def greet(*names : Tuple[str,...]):                           # This function greets all person in the name tuple.\n",
    "    for name in names:\n",
    "        print(\"Hello\", name)\n",
    "    \n",
    "greet(\"Aslam.\", \"Amir.\", \"Asif.\", \"Usama.\", \"Aqeel.\")\n"
   ]
  },
  {
   "cell_type": "code",
   "execution_count": 4,
   "metadata": {},
   "outputs": [
    {
     "name": "stdout",
     "output_type": "stream",
     "text": [
      "{'a': 2, 'b': 3, 'c': 5, 'name': 'Tahir', 'age': 20, 'education': 'FSC Pre Medical'} <class 'dict'>\n"
     ]
    }
   ],
   "source": [
    "def xyz(**dicts):                                                           # Unlimited key words arguments.\n",
    "    print(dicts, type(dicts))\n",
    "    \n",
    "    \n",
    "xyz(a = 2, b = 3, c = 5, name = \"Tahir\", age = 20, education = \"FSC Pre Medical\")"
   ]
  },
  {
   "cell_type": "code",
   "execution_count": 21,
   "metadata": {},
   "outputs": [
    {
     "name": "stdout",
     "output_type": "stream",
     "text": [
      "{'a': 'Tahir', 'b': '20', 'c': 'Fsc Pre Medical'} <class 'dict'>\n"
     ]
    }
   ],
   "source": [
    "from typing import Dict\n",
    "\n",
    "def greet(**xyz : Dict[str, str]):\n",
    "    print(xyz)\n",
    "    \n",
    "xyz(a = \"Tahir\", b = \"20\", c = \"Fsc Pre Medical\")"
   ]
  },
  {
   "cell_type": "code",
   "execution_count": 10,
   "metadata": {},
   "outputs": [
    {
     "name": "stdout",
     "output_type": "stream",
     "text": [
      "1 2 (1, 2, 3, 4, 5) {'c': 20, 'name': 'Tahir', 'age': 20, 'z': 40}\n"
     ]
    }
   ],
   "source": [
    "def my_function(a, b, *abc, **xyz):\n",
    "    print(a,b, abc, xyz)\n",
    "    \n",
    "my_function(1,2, 1,2,3,4,5, c = 20, name = \"Tahir\", age = 20, z = 40)"
   ]
  },
  {
   "cell_type": "code",
   "execution_count": 25,
   "metadata": {},
   "outputs": [
    {
     "name": "stdout",
     "output_type": "stream",
     "text": [
      "1 2 (1, 2, 3, 4, 5) {'d': 3, 'x': 5, 'c': 7}\n"
     ]
    }
   ],
   "source": [
    "def my_function(a: int, b: int, *abc: int, **xyz: int)-> None:\n",
    "    print(a, b, abc, xyz)\n",
    "    \n",
    "my_function(1, 2, 1,2,3,4,5, d=3, x=5, c=7)"
   ]
  },
  {
   "cell_type": "markdown",
   "metadata": {},
   "source": [
    "# DECORATOR FUNCTION"
   ]
  },
  {
   "cell_type": "code",
   "execution_count": 39,
   "metadata": {},
   "outputs": [],
   "source": [
    "from typing import Callable\n",
    "\n",
    "def my_decorator(func: Callable[[], None])-> Callable[[], None]:\n",
    "    def wrapper():\n",
    "        print(\"Something is happening before the function is called.\")\n",
    "        func()\n",
    "        print(\"Something is happening after the function is called.\")\n",
    "        return wrapper\n",
    "    \n",
    "    @my_decorator\n",
    "    def say_hello():\n",
    "        print(\"Hello!\")\n",
    "        \n",
    "    say_hello()\n",
    "    "
   ]
  },
  {
   "cell_type": "code",
   "execution_count": 44,
   "metadata": {},
   "outputs": [
    {
     "ename": "TypeError",
     "evalue": "'NoneType' object is not callable",
     "output_type": "error",
     "traceback": [
      "\u001b[1;31m---------------------------------------------------------------------------\u001b[0m",
      "\u001b[1;31mTypeError\u001b[0m                                 Traceback (most recent call last)",
      "Cell \u001b[1;32mIn[44], line 13\u001b[0m\n\u001b[0;32m      9\u001b[0m \u001b[38;5;129m@my_decorator\u001b[39m\n\u001b[0;32m     10\u001b[0m \u001b[38;5;28;01mdef\u001b[39;00m \u001b[38;5;21msay_hello\u001b[39m(num1: \u001b[38;5;28mint\u001b[39m)\u001b[38;5;241m-\u001b[39m\u001b[38;5;241m>\u001b[39m \u001b[38;5;28;01mNone\u001b[39;00m:\n\u001b[0;32m     11\u001b[0m     \u001b[38;5;28mprint\u001b[39m(num1)\n\u001b[1;32m---> 13\u001b[0m \u001b[43msay_hello\u001b[49m\u001b[43m(\u001b[49m\u001b[38;5;241;43m100\u001b[39;49m\u001b[43m)\u001b[49m\n",
      "\u001b[1;31mTypeError\u001b[0m: 'NoneType' object is not callable"
     ]
    }
   ],
   "source": [
    "from typing import Callable\n",
    "\n",
    "def my_decorator(func: Callable[[int], None])-> Callable[[int], None]:\n",
    "    def wrapper(num1: int)-> None:\n",
    "        print(\"Something before the function is called.\")\n",
    "        func(num1)\n",
    "        print(\"Something is happening after the function is called.\")\n",
    "        return wrapper\n",
    "@my_decorator\n",
    "def say_hello(num1: int)-> None:\n",
    "    print(num1)\n",
    "    \n",
    "say_hello(100)"
   ]
  }
 ],
 "metadata": {
  "kernelspec": {
   "display_name": "Python 3",
   "language": "python",
   "name": "python3"
  },
  "language_info": {
   "codemirror_mode": {
    "name": "ipython",
    "version": 3
   },
   "file_extension": ".py",
   "mimetype": "text/x-python",
   "name": "python",
   "nbconvert_exporter": "python",
   "pygments_lexer": "ipython3",
   "version": "3.12.7"
  }
 },
 "nbformat": 4,
 "nbformat_minor": 2
}
