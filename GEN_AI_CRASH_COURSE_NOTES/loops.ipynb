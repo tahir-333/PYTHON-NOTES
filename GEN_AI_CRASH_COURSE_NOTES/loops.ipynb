{
 "cells": [
  {
   "cell_type": "markdown",
   "metadata": {},
   "source": [
    "# LOOP AND INPUT FROM USER\n",
    "* While\n",
    "* For\n",
    "* Controls\n",
    "    * Break\n",
    "    * Continue\n",
    "    * Pass\n",
    "* Input with input function\n",
    "* Input from console \n",
    "# LOOP WORKING ON ITERATIVE DATA TYPES\n",
    "* List\n",
    "* Dictionary\n",
    "* Tuple\n",
    "* String"
   ]
  },
  {
   "cell_type": "code",
   "execution_count": 1,
   "metadata": {},
   "outputs": [
    {
     "name": "stdout",
     "output_type": "stream",
     "text": [
      "1\n",
      "2\n",
      "3\n",
      "4\n",
      "5\n"
     ]
    }
   ],
   "source": [
    "list1 : list[int] = [1,2,3,4,5]\n",
    "for n in list1:                                      # Iteration is the printing of all elements in the list individually.\n",
    "    print(n)"
   ]
  },
  {
   "cell_type": "code",
   "execution_count": 3,
   "metadata": {},
   "outputs": [
    {
     "name": "stdout",
     "output_type": "stream",
     "text": [
      "The Current Number is: 1.\n",
      "The Current Number is: 2.\n",
      "The Current Number is: 3.\n",
      "The Current Number is: 4.\n",
      "The Current Number is: 5.\n"
     ]
    }
   ],
   "source": [
    "# Use of  F-STRING in loops.\n",
    "\n",
    "list1 : list[int] = [1,2,3,4,5]                 \n",
    "for n in list1:                                  # Iteration on list.\n",
    "    print(f\"The Current Number is: {n}.\")"
   ]
  },
  {
   "cell_type": "code",
   "execution_count": 5,
   "metadata": {},
   "outputs": [
    {
     "name": "stdout",
     "output_type": "stream",
     "text": [
      "The Current Number is: 1.\n",
      "The Current Number is: 2.\n",
      "The Current Number is: 3.\n",
      "The Current Number is: 4.\n",
      "The Current Number is: 5.\n"
     ]
    }
   ],
   "source": [
    "# Iteration on tuple.\n",
    "\n",
    "list1: tuple[int] = (1,2,3,4,5)\n",
    "for n in list1:\n",
    "    print(f\"The Current Number is: {n}.\")"
   ]
  },
  {
   "cell_type": "code",
   "execution_count": 10,
   "metadata": {},
   "outputs": [
    {
     "name": "stdout",
     "output_type": "stream",
     "text": [
      "The Current Character is: P.\n",
      "The Current Character is: a.\n",
      "The Current Character is: k.\n",
      "The Current Character is: i.\n",
      "The Current Character is: s.\n",
      "The Current Character is: t.\n",
      "The Current Character is: a.\n",
      "The Current Character is: n.\n"
     ]
    }
   ],
   "source": [
    "# Iteration on string.\n",
    "\n",
    "list1 : str = \"Pakistan\"\n",
    "for n in list1:\n",
    "    print(f\"The Current Character is: {n}.\")                  #     Use of F-STRING on for loop with string.\n",
    "    "
   ]
  },
  {
   "cell_type": "code",
   "execution_count": 35,
   "metadata": {},
   "outputs": [
    {
     "data": {
      "text/plain": [
       "'The key is :Name, and the Value is Tahir Abbas'"
      ]
     },
     "metadata": {},
     "output_type": "display_data"
    },
    {
     "data": {
      "text/plain": [
       "'The key is :Father Name, and the Value is Mazhar Abbas'"
      ]
     },
     "metadata": {},
     "output_type": "display_data"
    }
   ],
   "source": [
    "# Iteration on dict.\n",
    "list1 : dict[str, str] = {\"Name\": \"Tahir Abbas\", \"Father Name\": \"Mazhar Abbas\"}\n",
    "for k in list1:\n",
    "    # print(k)                                                                   # for k in list1:\n",
    "    # display(f\"The key is: {k}\")                                                # for k in list1:\n",
    "    # display(f\"The Value is: {list1[k]}\")                                       # for k in list1:\n",
    "    display(f\"The key is :{k}, and the Value is {list1[k]}\")                     # for k in list1:"
   ]
  },
  {
   "cell_type": "code",
   "execution_count": 49,
   "metadata": {},
   "outputs": [
    {
     "data": {
      "text/plain": [
       "'Value from the list of set: 1'"
      ]
     },
     "metadata": {},
     "output_type": "display_data"
    },
    {
     "data": {
      "text/plain": [
       "'Value from the list of set: 2'"
      ]
     },
     "metadata": {},
     "output_type": "display_data"
    },
    {
     "data": {
      "text/plain": [
       "'Value from the list of set: 3'"
      ]
     },
     "metadata": {},
     "output_type": "display_data"
    },
    {
     "data": {
      "text/plain": [
       "'Value from the list of set: 4'"
      ]
     },
     "metadata": {},
     "output_type": "display_data"
    },
    {
     "data": {
      "text/plain": [
       "'Value from the list of set: 5'"
      ]
     },
     "metadata": {},
     "output_type": "display_data"
    }
   ],
   "source": [
    "# Iteration does not perform on sets directly, to perform iteration on set, we have to type cast sets to list.\n",
    "\n",
    "list1 : list[set[int]] = list({1,2,3,3,4,5,4})\n",
    "for k in list1:\n",
    "    # print(k)\n",
    "    # print(v)\n",
    "    # display(f\"The dict key is :{k} and the value is {list1[k]}\")\n",
    "    display(f\"Value from the list of set: {k}\")"
   ]
  },
  {
   "cell_type": "code",
   "execution_count": 56,
   "metadata": {},
   "outputs": [
    {
     "name": "stdout",
     "output_type": "stream",
     "text": [
      "The set item is : 1.\n",
      "The set item is : 2.\n",
      "The set item is : 3.\n",
      "The set item is : 4.\n"
     ]
    }
   ],
   "source": [
    "# Iteration on sets.\n",
    "\n",
    "list1 : set[int] = {1,2,3,4,2,2,1}\n",
    "for n in list1:                                                      # Iteration on set using for loop.\n",
    "    print(f\"The set item is : {n}.\")"
   ]
  },
  {
   "cell_type": "markdown",
   "metadata": {},
   "source": [
    "# INPUT FROM USERS\n",
    "* Input function\n",
    "    * Default type = String\n",
    "\n",
    "* sys.argv (for console input in abc.py file )\n",
    "    * Default type = Object"
   ]
  },
  {
   "cell_type": "code",
   "execution_count": 2,
   "metadata": {},
   "outputs": [
    {
     "name": "stdout",
     "output_type": "stream",
     "text": [
      "<class 'str'>\n",
      "Welcome Dear Tahir Abbas!\n"
     ]
    }
   ],
   "source": [
    "name : str = input(\"What is your name?\")                   # Input from user by input function through jupyter notebook.\n",
    "print(type(name))\n",
    "# print(name)\n",
    "print(f\"Welcome Dear {name}!\")"
   ]
  }
 ],
 "metadata": {
  "kernelspec": {
   "display_name": "Python 3",
   "language": "python",
   "name": "python3"
  },
  "language_info": {
   "codemirror_mode": {
    "name": "ipython",
    "version": 3
   },
   "file_extension": ".py",
   "mimetype": "text/x-python",
   "name": "python",
   "nbconvert_exporter": "python",
   "pygments_lexer": "ipython3",
   "version": "3.12.7"
  }
 },
 "nbformat": 4,
 "nbformat_minor": 2
}
