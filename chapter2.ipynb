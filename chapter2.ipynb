{
 "cells": [
  {
   "cell_type": "markdown",
   "metadata": {},
   "source": [
    "# VARIABLES AND SIMPLE DATA TYPES"
   ]
  },
  {
   "cell_type": "code",
   "execution_count": 1,
   "metadata": {},
   "outputs": [
    {
     "name": "stdout",
     "output_type": "stream",
     "text": [
      "Hello World\n",
      "Hello! in the World of Python\n"
     ]
    }
   ],
   "source": [
    "print(\"Hello World\")\n",
    "message = \"Hello! in the World of Python\"\n",
    "print(message)"
   ]
  },
  {
   "cell_type": "markdown",
   "metadata": {},
   "source": [
    "# ERRORS OF VARIABLES"
   ]
  },
  {
   "cell_type": "code",
   "execution_count": 7,
   "metadata": {},
   "outputs": [
    {
     "ename": "NameError",
     "evalue": "name 'mesage' is not defined",
     "output_type": "error",
     "traceback": [
      "\u001b[1;31m---------------------------------------------------------------------------\u001b[0m",
      "\u001b[1;31mNameError\u001b[0m                                 Traceback (most recent call last)",
      "Cell \u001b[1;32mIn[7], line 2\u001b[0m\n\u001b[0;32m      1\u001b[0m message \u001b[38;5;241m=\u001b[39m \u001b[38;5;124m\"\u001b[39m\u001b[38;5;124mHello everybody my name is Tahir Abbas and i am here to teach you the modern Python\u001b[39m\u001b[38;5;124m\"\u001b[39m\n\u001b[1;32m----> 2\u001b[0m \u001b[38;5;28mprint\u001b[39m(\u001b[43mmesage\u001b[49m)\n",
      "\u001b[1;31mNameError\u001b[0m: name 'mesage' is not defined"
     ]
    }
   ],
   "source": [
    "message = \"Hello! everybody, my name is Tahir Abbas and i am here to teach you the modern Python\"\n",
    "print(mesage)"
   ]
  },
  {
   "cell_type": "code",
   "execution_count": 5,
   "metadata": {},
   "outputs": [
    {
     "name": "stdout",
     "output_type": "stream",
     "text": [
      "The result is: 3.0\n"
     ]
    }
   ],
   "source": [
    "# Simple Calculator\n",
    "\n",
    "# Function to perform basic calculations\n",
    "def calculate(num1, num2, operation):\n",
    "    if operation == '+':\n",
    "        return num1 + num2\n",
    "    elif operation == '-':\n",
    "        return num1 - num2\n",
    "    elif operation == '*':\n",
    "        return num1 * num2\n",
    "    elif operation == '/':\n",
    "        if num2 != 0:\n",
    "            return num1 / num2\n",
    "        else:\n",
    "            return \"Error! Division by zero.\"\n",
    "    else:\n",
    "        return \"Invalid operation\"\n",
    "\n",
    "# Taking user input\n",
    "num1 = float(input(\"Enter the first number: \"))\n",
    "operation = input(\"Enter the operation (+, -, *, /): \")\n",
    "num2 = float(input(\"Enter the second number: \"))\n",
    "\n",
    "# Displaying the result\n",
    "result = calculate(num1, num2, operation)\n",
    "print(f\"The result is: {result}\")\n"
   ]
  },
  {
   "cell_type": "code",
   "execution_count": 11,
   "metadata": {},
   "outputs": [
    {
     "name": "stdout",
     "output_type": "stream",
     "text": [
      "Select an operation:\n",
      "1. Addition (+)\n",
      "2. Subtraction (-)\n",
      "3. Multiplication (*)\n",
      "4. Division (/)\n",
      "5. Modulus (%)\n",
      "6. Exponentiation (^)\n",
      "The result is: 25.0\n"
     ]
    }
   ],
   "source": [
    "# Function for addition\n",
    "def add(x, y):\n",
    "    return x + y\n",
    "\n",
    "# Function for subtraction\n",
    "def subtract(x, y):\n",
    "    return x - y\n",
    "\n",
    "# Function for multiplication\n",
    "def multiply(x, y):\n",
    "    return x * y\n",
    "\n",
    "# Function for division with validation for division by zero\n",
    "def divide(x, y):\n",
    "    if y != 0:\n",
    "        return x / y\n",
    "    else:\n",
    "        return \"Error! Division by zero.\"\n",
    "\n",
    "# Function for modulus operation\n",
    "def modulus(x, y):\n",
    "    return x % y\n",
    "\n",
    "# Function for exponentiation\n",
    "def exponent(x, y):\n",
    "    return x ** y\n",
    "\n",
    "# Function to display calculator menu\n",
    "def calculator():\n",
    "    print(\"Select an operation:\")\n",
    "    print(\"1. Addition (+)\")\n",
    "    print(\"2. Subtraction (-)\")\n",
    "    print(\"3. Multiplication (*)\")\n",
    "    print(\"4. Division (/)\")\n",
    "    print(\"5. Modulus (%)\")\n",
    "    print(\"6. Exponentiation (^)\")\n",
    "\n",
    "    choice = input(\"Enter your choice (1/2/3/4/5/6): \")\n",
    "\n",
    "    if choice in ['1', '2', '3', '4', '5', '6']:\n",
    "        num1 = float(input(\"Enter the first number: \"))\n",
    "        num2 = float(input(\"Enter the second number: \"))\n",
    "\n",
    "        if choice == '1':\n",
    "            print(f\"The result is: {add(num1, num2)}\")\n",
    "        elif choice == '2':\n",
    "            print(f\"The result is: {subtract(num1, num2)}\")\n",
    "        elif choice == '3':\n",
    "            print(f\"The result is: {multiply(num1, num2)}\")\n",
    "        elif choice == '4':\n",
    "            print(f\"The result is: {divide(num1, num2)}\")\n",
    "        elif choice == '5':\n",
    "            print(f\"The result is: {modulus(num1, num2)}\")\n",
    "        elif choice == '6':\n",
    "            print(f\"The result is: {exponent(num1, num2)}\")\n",
    "    else:\n",
    "        print(\"Invalid input! Please select a valid operation.\")\n",
    "        \n",
    "\n",
    "if __name__ == \"__main__\":\n",
    "    calculator()\n"
   ]
  },
  {
   "cell_type": "markdown",
   "metadata": {},
   "source": [
    "# EXERCISE SOLUTION"
   ]
  },
  {
   "cell_type": "code",
   "execution_count": 2,
   "metadata": {},
   "outputs": [
    {
     "name": "stdout",
     "output_type": "stream",
     "text": [
      "Tahir, Usama, Aqeel\n",
      "Hello World\n"
     ]
    }
   ],
   "source": [
    "names = (\"Tahir, Usama, Aqeel\")\n",
    "print(names)\n",
    "names1 = (\"Hello World\")\n",
    "print(names1)"
   ]
  },
  {
   "cell_type": "markdown",
   "metadata": {},
   "source": [
    "# USE OF STRING\n",
    "* WE CAN USE STRING IN FOLLOWING WAYS:    \n",
    "    '''...''',   \"\"\"...\"\"\", \"...\""
   ]
  },
  {
   "cell_type": "code",
   "execution_count": 4,
   "metadata": {},
   "outputs": [
    {
     "name": "stdout",
     "output_type": "stream",
     "text": [
      "Hello, Tahir! where are you going?\n"
     ]
    }
   ],
   "source": [
    "message = \"Hello, Tahir! where are you going?\"                # Simple use of string.\n",
    "print(message)                                                 "
   ]
  },
  {
   "cell_type": "code",
   "execution_count": 9,
   "metadata": {},
   "outputs": [
    {
     "name": "stdout",
     "output_type": "stream",
     "text": [
      "Hello, Tahir!                  \n",
      "            Where are you  going? \n",
      "            I want to meet you.                 \n",
      "            Will you please let me to met you?\n"
     ]
    }
   ],
   "source": [
    "# Use of string to print message on multiple lines.\n",
    "\n",
    "message = \"\"\"Hello, Tahir!                  \n",
    "            Where are you  going? \n",
    "            I want to meet you.                 \n",
    "            Will you please let me to met you?\"\"\"\n",
    "print(message)"
   ]
  },
  {
   "cell_type": "code",
   "execution_count": 11,
   "metadata": {},
   "outputs": [
    {
     "name": "stdout",
     "output_type": "stream",
     "text": [
      "Hello everybody today we are going to learn some basic python's functions.\n"
     ]
    }
   ],
   "source": [
    "# Use of string within a string \n",
    "\n",
    "message = \"Hello everybody today we are going to learn some basic python's functions.\"\n",
    "print(message)        "
   ]
  },
  {
   "cell_type": "markdown",
   "metadata": {},
   "source": [
    "# CHANGING CASE WITH STRING\n",
    "* UPPER\n",
    "* LOWER\n",
    "* TITLE\n",
    "* CAPITALISE "
   ]
  },
  {
   "cell_type": "code",
   "execution_count": 3,
   "metadata": {},
   "outputs": [
    {
     "name": "stdout",
     "output_type": "stream",
     "text": [
      "tahir, ali , usama\n",
      "Tahir, Ali , Usama\n",
      "TAHIR, ALI , USAMA\n",
      "tahir, ali , usama\n",
      "Tahir, ali , usama\n"
     ]
    }
   ],
   "source": [
    "names = (\"tahir, ali , usama\")\n",
    "print(names)\n",
    "print(names.title())                            # Capitalize the 1st letter of each word in the string.\n",
    "print(names.upper())                            # Capitalizes the whole text.\n",
    "print(names.lower())                            # Lower the whole text.\n",
    "print(names.capitalize())                       # Capitalize the 1st letter of the line."
   ]
  },
  {
   "cell_type": "markdown",
   "metadata": {},
   "source": [
    "# USE OF F- STRING\n",
    "* USING VARIABLES IN THE STRING"
   ]
  },
  {
   "cell_type": "code",
   "execution_count": 4,
   "metadata": {},
   "outputs": [
    {
     "name": "stdout",
     "output_type": "stream",
     "text": [
      "Hello, Tahir Abbas.\n"
     ]
    }
   ],
   "source": [
    "first_name = \"Tahir\"\n",
    "last_name = \"Abbas\"\n",
    "full_name = f\"{first_name} {last_name}\"\n",
    "message = f\"Hello, {full_name}.\"\n",
    "print(message)"
   ]
  },
  {
   "cell_type": "markdown",
   "metadata": {},
   "source": [
    "# ADDING WHITESPACE TO STRING USING\n",
    "* TAB              (\\t)\n",
    "* NEWLINES         (\\n)"
   ]
  },
  {
   "cell_type": "code",
   "execution_count": 46,
   "metadata": {},
   "outputs": [
    {
     "name": "stdout",
     "output_type": "stream",
     "text": [
      "languages: \n",
      "\t PYTHON  \n",
      "\t C++ \n",
      "\t JAVASCRIPT\n"
     ]
    }
   ],
   "source": [
    "print(\"languages: \\n\\t PYTHON  \\n\\t C++ \\n\\t JAVASCRIPT\")        # \\t is used to add tab in the line, while \\n is used to add new line."
   ]
  },
  {
   "cell_type": "markdown",
   "metadata": {},
   "source": [
    "# STRIPING WHITESPACES"
   ]
  },
  {
   "cell_type": "code",
   "execution_count": 8,
   "metadata": {},
   "outputs": [
    {
     "data": {
      "text/plain": [
       "'  PYTHON  '"
      ]
     },
     "metadata": {},
     "output_type": "display_data"
    },
    {
     "data": {
      "text/plain": [
       "'PYTHON'"
      ]
     },
     "execution_count": 8,
     "metadata": {},
     "output_type": "execute_result"
    }
   ],
   "source": [
    "fav_lang = \"  PYTHON  \"\n",
    "display(fav_lang)\n",
    "fav_lang.rstrip()                        # Remove whitespaces from the right side.\n",
    "fav_lang.lstrip()                        # Removes whitespaces from the left side.\n",
    "fav_lang.strip()                         # Removes whitespaces from the both sides."
   ]
  },
  {
   "cell_type": "markdown",
   "metadata": {},
   "source": [
    "# REMOVING PREFIX AND SUFFIX"
   ]
  },
  {
   "cell_type": "code",
   "execution_count": 64,
   "metadata": {},
   "outputs": [
    {
     "data": {
      "text/plain": [
       "'www.google.co.uk'"
      ]
     },
     "execution_count": 64,
     "metadata": {},
     "output_type": "execute_result"
    }
   ],
   "source": [
    "Google = (\"https://www.google.co.uk\")\n",
    "Google.removeprefix(\"https://\")                       # Removal of prefix.\n",
    "# Google.removesuffix(\"www.google.co.uk\")             # Removal of suffix.\n"
   ]
  },
  {
   "cell_type": "markdown",
   "metadata": {},
   "source": [
    "# SYNTAX ERRORS WITH STRING"
   ]
  },
  {
   "cell_type": "code",
   "execution_count": 68,
   "metadata": {},
   "outputs": [
    {
     "ename": "SyntaxError",
     "evalue": "unterminated string literal (detected at line 1) (3195760254.py, line 1)",
     "output_type": "error",
     "traceback": [
      "\u001b[1;36m  Cell \u001b[1;32mIn[68], line 1\u001b[1;36m\u001b[0m\n\u001b[1;33m    message = ('One of the Python's strength is its diverse community')\u001b[0m\n\u001b[1;37m                                                                     ^\u001b[0m\n\u001b[1;31mSyntaxError\u001b[0m\u001b[1;31m:\u001b[0m unterminated string literal (detected at line 1)\n"
     ]
    }
   ],
   "source": [
    "# Python is confused with strings, not able to decide where to stop.\n",
    "# In order to avoid such error use double string (\"...\") to enclose the line and a single string as an appostrophy.\n",
    "message = ('One of the Python's strength is its diverse community')        \n",
    "print(message) "
   ]
  },
  {
   "cell_type": "markdown",
   "metadata": {},
   "source": [
    "# EXERCISE SOLUTION "
   ]
  },
  {
   "cell_type": "code",
   "execution_count": 72,
   "metadata": {},
   "outputs": [
    {
     "name": "stdout",
     "output_type": "stream",
     "text": [
      "Hello, Tahir Abbas! How are you feeling now?\n"
     ]
    }
   ],
   "source": [
    "name = \"Tahir Abbas\"\n",
    "message = f\"Hello, {name}! How are you feeling now?\"\n",
    "print(message)\n"
   ]
  },
  {
   "cell_type": "code",
   "execution_count": 78,
   "metadata": {},
   "outputs": [
    {
     "name": "stdout",
     "output_type": "stream",
     "text": [
      "Tahir Abbas\n",
      "TAHIR ABBAS\n",
      "tahir abbas\n",
      "Tahir abbas\n"
     ]
    }
   ],
   "source": [
    "name = (\"tahir AbBas\")\n",
    "print(name.title())\n",
    "print(name.upper())\n",
    "print(name.lower())\n",
    "print(name.capitalize())"
   ]
  },
  {
   "cell_type": "code",
   "execution_count": 9,
   "metadata": {},
   "outputs": [
    {
     "name": "stdout",
     "output_type": "stream",
     "text": [
      "ALBERT EINSTEIN Once said, A person who never made a mistake never tried anything new.\n"
     ]
    }
   ],
   "source": [
    "name = \"Albert Einstein\"\n",
    "quote = \"A person who never made a mistake never tried anything new\"\n",
    "message = f\"{name.upper()} Once said, {quote}.\"\n",
    "print(message)"
   ]
  },
  {
   "cell_type": "code",
   "execution_count": 88,
   "metadata": {},
   "outputs": [
    {
     "data": {
      "text/plain": [
       "'   Tahir Abbas   '"
      ]
     },
     "metadata": {},
     "output_type": "display_data"
    },
    {
     "data": {
      "text/plain": [
       "'   Tahir Abbas'"
      ]
     },
     "metadata": {},
     "output_type": "display_data"
    },
    {
     "data": {
      "text/plain": [
       "'Tahir Abbas   '"
      ]
     },
     "metadata": {},
     "output_type": "display_data"
    },
    {
     "data": {
      "text/plain": [
       "'Tahir Abbas'"
      ]
     },
     "metadata": {},
     "output_type": "display_data"
    }
   ],
   "source": [
    "name = \"   Tahir Abbas   \"\n",
    "display(name)\n",
    "display(name.rstrip())\n",
    "display(name.lstrip())\n",
    "display(name.strip())"
   ]
  },
  {
   "cell_type": "code",
   "execution_count": 91,
   "metadata": {},
   "outputs": [
    {
     "name": "stdout",
     "output_type": "stream",
     "text": [
      "https://www.google.co.uk/\n",
      "www.google.co.uk/\n"
     ]
    },
    {
     "data": {
      "text/plain": [
       "'https://'"
      ]
     },
     "metadata": {},
     "output_type": "display_data"
    }
   ],
   "source": [
    "Google = \"https://www.google.co.uk/\"\n",
    "print(Google)\n",
    "print(Google.removeprefix(\"https://\"))\n",
    "display(Google.removesuffix(\"www.google.co.uk/\"))"
   ]
  },
  {
   "cell_type": "markdown",
   "metadata": {},
   "source": [
    " # NUMBERS\n",
    " * INTEGERS              (1,2,3)\n",
    " * FLOAT                 (1.2, 3.5,5.0)\n",
    " * BOL                   (True, False)\n",
    " * MULTIPLICATION        (*)\n",
    " * ADDITION              (+)\n",
    " * SUBTRACTION           (-)\n",
    " * DIVISION              (/)\n",
    " * EXPONENT              (**)"
   ]
  },
  {
   "cell_type": "code",
   "execution_count": 96,
   "metadata": {},
   "outputs": [
    {
     "data": {
      "text/plain": [
       "15"
      ]
     },
     "metadata": {},
     "output_type": "display_data"
    },
    {
     "data": {
      "text/plain": [
       "-5"
      ]
     },
     "metadata": {},
     "output_type": "display_data"
    },
    {
     "data": {
      "text/plain": [
       "50"
      ]
     },
     "metadata": {},
     "output_type": "display_data"
    },
    {
     "data": {
      "text/plain": [
       "0.5"
      ]
     },
     "metadata": {},
     "output_type": "display_data"
    },
    {
     "data": {
      "text/plain": [
       "9765625"
      ]
     },
     "metadata": {},
     "output_type": "display_data"
    }
   ],
   "source": [
    "a = 5\n",
    "b = 10\n",
    "display(a+b)\n",
    "display(a-b)\n",
    "display(a*b)\n",
    "display(a/b)\n",
    "display(a**b)"
   ]
  },
  {
   "cell_type": "markdown",
   "metadata": {},
   "source": [
    "# UNDERSCORES IN NUMBERS "
   ]
  },
  {
   "cell_type": "code",
   "execution_count": 10,
   "metadata": {},
   "outputs": [
    {
     "data": {
      "text/plain": [
       "'14_000_000_000'"
      ]
     },
     "metadata": {},
     "output_type": "display_data"
    }
   ],
   "source": [
    "universe_age = \"14_000_000_000\"\n",
    "display(universe_age)"
   ]
  },
  {
   "cell_type": "markdown",
   "metadata": {},
   "source": [
    "# MULTIPLE ASSIGHMENT"
   ]
  },
  {
   "cell_type": "code",
   "execution_count": 105,
   "metadata": {},
   "outputs": [
    {
     "name": "stdout",
     "output_type": "stream",
     "text": [
      "1 2 3\n",
      "1\n",
      "2\n",
      "3\n"
     ]
    }
   ],
   "source": [
    "x,y,z = 1,2,3                             # We can assign multiple value to multiple variables within one line.\n",
    "print(x,y,z)\n",
    "print(x)\n",
    "print(y)\n",
    "print(z)"
   ]
  },
  {
   "cell_type": "markdown",
   "metadata": {},
   "source": [
    "# CONSTANTS"
   ]
  },
  {
   "cell_type": "code",
   "execution_count": 107,
   "metadata": {},
   "outputs": [
    {
     "name": "stdout",
     "output_type": "stream",
     "text": [
      "14000000000\n"
     ]
    }
   ],
   "source": [
    "UNIVERSE_AGE = \"14000000000\"         # Sometimes we have to print same value of a variable throughout the life of program, in python to tackle such problems Capital letters are used to represent the constant. \n",
    "print(UNIVERSE_AGE)"
   ]
  },
  {
   "cell_type": "markdown",
   "metadata": {},
   "source": [
    "# EXERCISE"
   ]
  },
  {
   "cell_type": "code",
   "execution_count": 12,
   "metadata": {},
   "outputs": [
    {
     "name": "stdout",
     "output_type": "stream",
     "text": [
      "8\n",
      "8\n",
      "8\n",
      "8\n",
      "8\n"
     ]
    }
   ],
   "source": [
    "print(5+3)\n",
    "print(8-0)\n",
    "print(1*8)\n",
    "print(\"%.0f\" % round(8))          # Function is used to limit decimal numbers.   % symbol is used to get reminder.\n",
    "print(8**1)"
   ]
  },
  {
   "cell_type": "code",
   "execution_count": 135,
   "metadata": {},
   "outputs": [
    {
     "data": {
      "text/plain": [
       "3"
      ]
     },
     "metadata": {},
     "output_type": "display_data"
    },
    {
     "name": "stdout",
     "output_type": "stream",
     "text": [
      "My Favorite number is 3.\n"
     ]
    }
   ],
   "source": [
    "fav_num = 3\n",
    "display(fav_num)\n",
    "message = f\"My Favorite number is {fav_num}.\"\n",
    "print(message)"
   ]
  },
  {
   "cell_type": "markdown",
   "metadata": {},
   "source": [
    "# COMMENTS "
   ]
  },
  {
   "cell_type": "code",
   "execution_count": null,
   "metadata": {},
   "outputs": [],
   "source": [
    "# In Python comments are used to trace code in the form of local language, in other words when we are working at a large \n",
    "# project we have to keep in mind that this part of code is used for what, in order to overcome such problems comments are used."
   ]
  },
  {
   "cell_type": "markdown",
   "metadata": {},
   "source": [
    "# THE ZEN OF PYTHON\n",
    "* Set of rules in python programming."
   ]
  },
  {
   "cell_type": "code",
   "execution_count": 136,
   "metadata": {},
   "outputs": [
    {
     "name": "stdout",
     "output_type": "stream",
     "text": [
      "The Zen of Python, by Tim Peters\n",
      "\n",
      "Beautiful is better than ugly.\n",
      "Explicit is better than implicit.\n",
      "Simple is better than complex.\n",
      "Complex is better than complicated.\n",
      "Flat is better than nested.\n",
      "Sparse is better than dense.\n",
      "Readability counts.\n",
      "Special cases aren't special enough to break the rules.\n",
      "Although practicality beats purity.\n",
      "Errors should never pass silently.\n",
      "Unless explicitly silenced.\n",
      "In the face of ambiguity, refuse the temptation to guess.\n",
      "There should be one-- and preferably only one --obvious way to do it.\n",
      "Although that way may not be obvious at first unless you're Dutch.\n",
      "Now is better than never.\n",
      "Although never is often better than *right* now.\n",
      "If the implementation is hard to explain, it's a bad idea.\n",
      "If the implementation is easy to explain, it may be a good idea.\n",
      "Namespaces are one honking great idea -- let's do more of those!\n"
     ]
    }
   ],
   "source": [
    "import this"
   ]
  }
 ],
 "metadata": {
  "kernelspec": {
   "display_name": "Python 3",
   "language": "python",
   "name": "python3"
  },
  "language_info": {
   "codemirror_mode": {
    "name": "ipython",
    "version": 3
   },
   "file_extension": ".py",
   "mimetype": "text/x-python",
   "name": "python",
   "nbconvert_exporter": "python",
   "pygments_lexer": "ipython3",
   "version": "3.12.6"
  }
 },
 "nbformat": 4,
 "nbformat_minor": 2
}
