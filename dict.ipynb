{
 "cells": [
  {
   "cell_type": "markdown",
   "metadata": {},
   "source": [
    "# DICTIONARY"
   ]
  },
  {
   "cell_type": "code",
   "execution_count": 13,
   "metadata": {},
   "outputs": [
    {
     "name": "stdout",
     "output_type": "stream",
     "text": [
      "{'color': 'green', 'points': 5}\n"
     ]
    }
   ],
   "source": [
    "alien_0= {\"color\": \"green\",\n",
    "          \"points\": 5}\n",
    "print(alien_0)\n"
   ]
  },
  {
   "cell_type": "markdown",
   "metadata": {},
   "source": [
    "# ACCESSING VALUES IN DICT."
   ]
  },
  {
   "cell_type": "code",
   "execution_count": 16,
   "metadata": {},
   "outputs": [
    {
     "name": "stdout",
     "output_type": "stream",
     "text": [
      "{'color': 'green', 'points': 5}\n"
     ]
    },
    {
     "data": {
      "text/plain": [
       "'green'"
      ]
     },
     "metadata": {},
     "output_type": "display_data"
    },
    {
     "data": {
      "text/plain": [
       "5"
      ]
     },
     "metadata": {},
     "output_type": "display_data"
    }
   ],
   "source": [
    "alien_0 = {\"color\": \"green\",\n",
    "           \"points\": 5}\n",
    "print(alien_0)\n",
    "display(alien_0[\"color\"])\n",
    "display(alien_0[\"points\"])"
   ]
  },
  {
   "cell_type": "markdown",
   "metadata": {},
   "source": [
    "# USE OF F-STRING IN DICT."
   ]
  },
  {
   "cell_type": "code",
   "execution_count": 20,
   "metadata": {},
   "outputs": [
    {
     "name": "stdout",
     "output_type": "stream",
     "text": [
      "{'color': 'green', 'points': 5}\n"
     ]
    },
    {
     "data": {
      "text/plain": [
       "'You have earned 5.'"
      ]
     },
     "metadata": {},
     "output_type": "display_data"
    }
   ],
   "source": [
    "alien_0 = {\"color\": \"green\",\n",
    "           \"points\": 5}\n",
    "print(alien_0)\n",
    "new_points = alien_0[\"points\"]\n",
    "display(f\"You have earned {new_points}.\")"
   ]
  },
  {
   "cell_type": "markdown",
   "metadata": {},
   "source": [
    "# ADDITION OF NEW KEY-VALUE PAIRS"
   ]
  },
  {
   "cell_type": "code",
   "execution_count": 23,
   "metadata": {},
   "outputs": [
    {
     "name": "stdout",
     "output_type": "stream",
     "text": [
      "{}\n"
     ]
    },
    {
     "data": {
      "text/plain": [
       "{'x_position': 0, 'y_position': 25}"
      ]
     },
     "metadata": {},
     "output_type": "display_data"
    }
   ],
   "source": [
    "alien_0 = {}\n",
    "print(alien_0)\n",
    "alien_0[\"x_position\"] = 0\n",
    "alien_0[\"y_position\"]  =25\n",
    "display(alien_0)"
   ]
  },
  {
   "cell_type": "markdown",
   "metadata": {},
   "source": [
    "# MODIFYING VALUES IN DICT."
   ]
  },
  {
   "cell_type": "code",
   "execution_count": 31,
   "metadata": {},
   "outputs": [
    {
     "name": "stdout",
     "output_type": "stream",
     "text": [
      "{'color': 'green', 'points': 5}\n"
     ]
    },
    {
     "data": {
      "text/plain": [
       "'The aliens color is green'"
      ]
     },
     "metadata": {},
     "output_type": "display_data"
    },
    {
     "data": {
      "text/plain": [
       "'The alien is now yellow colored.'"
      ]
     },
     "metadata": {},
     "output_type": "display_data"
    }
   ],
   "source": [
    "alien_0 = {\"color\": \"green\",\n",
    "           \"points\": 5}\n",
    "print(alien_0)\n",
    "display(f\"The aliens color is {alien_0[\"color\"]}\")\n",
    "alien_0[\"color\"] = \"yellow\"\n",
    "display(f\"The alien is now {alien_0[\"color\"]} colored.\")"
   ]
  },
  {
   "cell_type": "code",
   "execution_count": 36,
   "metadata": {},
   "outputs": [
    {
     "data": {
      "text/plain": [
       "{'x_position': 0, 'y_position': 25, 'speed': 'medium'}"
      ]
     },
     "metadata": {},
     "output_type": "display_data"
    },
    {
     "name": "stdout",
     "output_type": "stream",
     "text": [
      "Original position: 0\n",
      "New Position: 2\n"
     ]
    }
   ],
   "source": [
    "alien_0 = {\"x_position\": 0, \"y_position\": 25, \"speed\": \"medium\"}\n",
    "display(alien_0)\n",
    "print(f\"Original position: {alien_0[\"x_position\"]}\")\n",
    "if alien_0[\"speed\"] == \"slow\" :\n",
    "    x_increment = 1\n",
    "elif alien_0[\"speed\"] == \"medium\":\n",
    "    x_increment = 2\n",
    "else:\n",
    "    x_increment = 3\n",
    "alien_0[\"x_position\"] = alien_0[\"x_position\"] + x_increment\n",
    "print(f\"New Position: {alien_0[\"x_position\"]}\")\n"
   ]
  },
  {
   "cell_type": "markdown",
   "metadata": {},
   "source": [
    "# REMOVING KEY-VALUE PAIR"
   ]
  },
  {
   "cell_type": "code",
   "execution_count": 40,
   "metadata": {},
   "outputs": [
    {
     "data": {
      "text/plain": [
       "{'color': 'green', 'points': 5}"
      ]
     },
     "metadata": {},
     "output_type": "display_data"
    },
    {
     "data": {
      "text/plain": [
       "{'color': 'green'}"
      ]
     },
     "metadata": {},
     "output_type": "display_data"
    }
   ],
   "source": [
    "alien_0 = {\"color\": \"green\",\n",
    "           \"points\": 5}\n",
    "display(alien_0)\n",
    "del alien_0[\"points\"]   # Del is used to permanent delete a key value from the dictionary.\n",
    "display(alien_0)"
   ]
  },
  {
   "cell_type": "markdown",
   "metadata": {},
   "source": [
    "# A DICT OF SIMILAR OBJECTS."
   ]
  },
  {
   "cell_type": "code",
   "execution_count": 65,
   "metadata": {},
   "outputs": [
    {
     "name": "stdout",
     "output_type": "stream",
     "text": [
      "{'Tahir': 'Python', 'Usama': 'C++', 'Aqeel': 'Java Script', 'Aslam': 'NextJs'}\n",
      "Tahir's favorite_language is Python.\n"
     ]
    },
    {
     "data": {
      "text/plain": [
       "\"Usama's Favourite Language is C++\""
      ]
     },
     "metadata": {},
     "output_type": "display_data"
    },
    {
     "name": "stdout",
     "output_type": "stream",
     "text": [
      "Aqeel's Favorite Language is java script\n",
      "Aslam's Favorite Language is NEXTJS\n"
     ]
    }
   ],
   "source": [
    "favorite_lang = {\n",
    "    \"Tahir\" : \"Python\",\n",
    "    \"Usama\" : \"C++\",\n",
    "    \"Aqeel\" : \"Java Script\",\n",
    "    \"Aslam\" : \"NextJs\"\n",
    "}\n",
    "print(favorite_lang)\n",
    "language1 = favorite_lang[\"Tahir\"].capitalize()\n",
    "print(f\"Tahir's favorite_language is {language1}.\")\n",
    "language2 = favorite_lang[\"Usama\"].title()\n",
    "display(f\"Usama's Favourite Language is {language2}\")\n",
    "language3 = favorite_lang[\"Aqeel\"].lower()\n",
    "print(f\"Aqeel's Favorite Language is {language3}\")\n",
    "language4 = favorite_lang[\"Aslam\"].upper()\n",
    "print(f\"Aslam's Favorite Language is {language4}\")\n",
    "\n"
   ]
  },
  {
   "cell_type": "markdown",
   "metadata": {},
   "source": [
    "# USING GET TO ACCESS THE VALUES"
   ]
  },
  {
   "cell_type": "code",
   "execution_count": 72,
   "metadata": {},
   "outputs": [
    {
     "name": "stdout",
     "output_type": "stream",
     "text": [
      "{'color': 'green', 'points': 5}\n"
     ]
    },
    {
     "ename": "KeyError",
     "evalue": "'name'",
     "output_type": "error",
     "traceback": [
      "\u001b[1;31m---------------------------------------------------------------------------\u001b[0m",
      "\u001b[1;31mKeyError\u001b[0m                                  Traceback (most recent call last)",
      "Cell \u001b[1;32mIn[72], line 4\u001b[0m\n\u001b[0;32m      1\u001b[0m alien \u001b[38;5;241m=\u001b[39m {\u001b[38;5;124m\"\u001b[39m\u001b[38;5;124mcolor\u001b[39m\u001b[38;5;124m\"\u001b[39m: \u001b[38;5;124m\"\u001b[39m\u001b[38;5;124mgreen\u001b[39m\u001b[38;5;124m\"\u001b[39m,\n\u001b[0;32m      2\u001b[0m         \u001b[38;5;124m\"\u001b[39m\u001b[38;5;124mpoints\u001b[39m\u001b[38;5;124m\"\u001b[39m: \u001b[38;5;241m5\u001b[39m }\n\u001b[0;32m      3\u001b[0m \u001b[38;5;28mprint\u001b[39m(alien)\n\u001b[1;32m----> 4\u001b[0m \u001b[38;5;28mprint\u001b[39m(\u001b[43malien\u001b[49m\u001b[43m[\u001b[49m\u001b[38;5;124;43m\"\u001b[39;49m\u001b[38;5;124;43mname\u001b[39;49m\u001b[38;5;124;43m\"\u001b[39;49m\u001b[43m]\u001b[49m)\n",
      "\u001b[1;31mKeyError\u001b[0m: 'name'"
     ]
    }
   ],
   "source": [
    "alien = {\"color\": \"green\",\n",
    "        \"points\": 5 }\n",
    "print(alien)\n",
    "print(alien[\"name\"])      # Key Error will occure, if you want to get a key value that does not actually exist in the dict."
   ]
  },
  {
   "cell_type": "code",
   "execution_count": 76,
   "metadata": {},
   "outputs": [
    {
     "name": "stdout",
     "output_type": "stream",
     "text": [
      "{'color': 'green', 'points': 5}\n"
     ]
    },
    {
     "data": {
      "text/plain": [
       "'no name value assigned'"
      ]
     },
     "metadata": {},
     "output_type": "display_data"
    }
   ],
   "source": [
    "alien = {\"color\": \"green\",\n",
    "         \"points\": 5}\n",
    "print(alien)\n",
    "name_value = alien.get(\"name\", \"no name value assigned\")   # We can also assign a value instead of error in output.\n",
    "display(name_value)"
   ]
  },
  {
   "cell_type": "markdown",
   "metadata": {},
   "source": [
    "# EXERCISE 1 SOLUTION"
   ]
  },
  {
   "cell_type": "code",
   "execution_count": 94,
   "metadata": {},
   "outputs": [
    {
     "name": "stdout",
     "output_type": "stream",
     "text": [
      "{'first_name': 'Tahir', 'second_name': 'Ababs', 'age': 20, 'city': 'Lahore'}\n",
      "Tahir\n",
      "Ababs\n",
      "20\n",
      "Lahore\n"
     ]
    }
   ],
   "source": [
    "\n",
    "dict = {\n",
    "    \"first_name\": \"Tahir\",\n",
    "    \"second_name\": \"Ababs\",\n",
    "    \"age\": 20,\n",
    "    \"city\": \"Lahore\"\n",
    "}\n",
    "print(dict)\n",
    "print(dict[\"first_name\"])\n",
    "print(dict[\"second_name\"])\n",
    "print(dict[\"age\"])\n",
    "print(dict[\"city\"])"
   ]
  },
  {
   "cell_type": "code",
   "execution_count": 122,
   "metadata": {},
   "outputs": [
    {
     "name": "stdout",
     "output_type": "stream",
     "text": [
      "{'Tahir': 3, 'Usama': 4, 'Aqeel': 5, 'Aslam': 6}\n",
      "3\n"
     ]
    },
    {
     "data": {
      "text/plain": [
       "\"Tahir's favorite number is 3.\""
      ]
     },
     "metadata": {},
     "output_type": "display_data"
    },
    {
     "data": {
      "text/plain": [
       "\"Usama's favorite number is 4.\""
      ]
     },
     "metadata": {},
     "output_type": "display_data"
    },
    {
     "data": {
      "text/plain": [
       "\"Aqeel's favorite number is 5.\""
      ]
     },
     "metadata": {},
     "output_type": "display_data"
    },
    {
     "data": {
      "text/plain": [
       "\"Aslam's favorite number is 6\""
      ]
     },
     "metadata": {},
     "output_type": "display_data"
    }
   ],
   "source": [
    "dict = {\"Tahir\": 3,\n",
    "        \"Usama\": 4,\n",
    "        \"Aqeel\": 5,\n",
    "        \"Aslam\": 6}\n",
    "print(dict)\n",
    "print(dict[\"Tahir\"])\n",
    "fav_num1 = dict[\"Tahir\"]\n",
    "display(f\"Tahir's favorite number is {fav_num1}.\")\n",
    "fav_num2 = dict[\"Usama\"]\n",
    "display(f\"Usama's favorite number is {fav_num2}.\")\n",
    "fav_num3 = dict[\"Aqeel\"]\n",
    "display(f\"Aqeel's favorite number is {fav_num3}.\")\n",
    "fav_num4 = dict[\"Aslam\"]\n",
    "display(f\"Aslam's favorite number is {fav_num4}\")"
   ]
  },
  {
   "cell_type": "code",
   "execution_count": 148,
   "metadata": {},
   "outputs": [
    {
     "data": {
      "text/plain": [
       "{'agile': 'active',\n",
       " 'choose': 'select',\n",
       " 'obtain': 'gain',\n",
       " 'policy': 'a plan',\n",
       " 'elect': 'select'}"
      ]
     },
     "metadata": {},
     "output_type": "display_data"
    },
    {
     "name": "stdout",
     "output_type": "stream",
     "text": [
      "agile:\n",
      " active.\n",
      "choose:\n",
      " select.\n",
      "obtain:\n",
      " gain.\n",
      "policy:\n",
      " a plan.\n",
      "elect:\n",
      " select.\n"
     ]
    }
   ],
   "source": [
    "glossary = {\n",
    "    \"agile\": \"active\",\n",
    "    \"choose\": \"select\",\n",
    "    \"obtain\" : \"gain\",\n",
    "    \"policy\" : \"a plan\",\n",
    "    \"elect\" : \"select\"\n",
    "}\n",
    "display(glossary)\n",
    "\n",
    "for word, meaning in glossary.items():\n",
    "    print(f\"{word}:\\n {meaning}.\")\n",
    "    "
   ]
  },
  {
   "cell_type": "markdown",
   "metadata": {},
   "source": [
    "# LOOPING THROUGH DIVTIONARY\n",
    "* LOOPING THROUGH ALL KEY-VALUE PAIRS THROUGH DICTIONARY."
   ]
  },
  {
   "cell_type": "code",
   "execution_count": 152,
   "metadata": {},
   "outputs": [
    {
     "name": "stdout",
     "output_type": "stream",
     "text": [
      "{'user_name': 'Tahir Ababs', 'first_name': 'Tahir', 'last_name': 'Abbas'}\n",
      "\n",
      "Key: user_name\n",
      "Value: Tahir Ababs\n",
      "\n",
      "Key: first_name\n",
      "Value: Tahir\n",
      "\n",
      "Key: last_name\n",
      "Value: Abbas\n"
     ]
    }
   ],
   "source": [
    "user1 = {\"user_name\": \"Tahir Ababs\",\n",
    "         \"first_name\": \"Tahir\",\n",
    "         \"last_name\": \"Abbas\"}\n",
    "print(user1)\n",
    "for key, value in user1.items():\n",
    "    print(f\"\\nKey: {key}\")\n",
    "    print(f\"Value: {value}\")"
   ]
  },
  {
   "cell_type": "code",
   "execution_count": 155,
   "metadata": {},
   "outputs": [
    {
     "name": "stdout",
     "output_type": "stream",
     "text": [
      "{'Tahir': 3, 'Usama': 4, 'Aqeel': 5, 'Aslam': 6}\n",
      "\n",
      "Tahir's favorite number is 3.\n",
      "\n",
      "Usama's favorite number is 4.\n",
      "\n",
      "Aqeel's favorite number is 5.\n",
      "\n",
      "Aslam's favorite number is 6.\n"
     ]
    }
   ],
   "source": [
    "dict = {\"Tahir\": 3,\n",
    "        \"Usama\": 4,\n",
    "        \"Aqeel\": 5,\n",
    "        \"Aslam\": 6}\n",
    "print(dict)\n",
    "for key, value in dict.items():\n",
    "    print(f\"\\n{key}'s favorite number is {value}.\")"
   ]
  },
  {
   "cell_type": "markdown",
   "metadata": {},
   "source": [
    "# LOOPING THROUGH ALL KEYS IN DICT."
   ]
  },
  {
   "cell_type": "code",
   "execution_count": 161,
   "metadata": {},
   "outputs": [
    {
     "name": "stdout",
     "output_type": "stream",
     "text": [
      "{'Tahir': 3, 'Usama': 4, 'Aqeel': 5, 'Aslam': 6}\n",
      "Tahir\n",
      "Usama\n",
      "Aqeel\n",
      "Aslam\n"
     ]
    }
   ],
   "source": [
    "dict = {\"Tahir\": 3,\n",
    "        \"Usama\": 4,\n",
    "        \"Aqeel\": 5,\n",
    "        \"Aslam\": 6}\n",
    "print(dict)\n",
    "for key in dict.keys():\n",
    "    print(key)"
   ]
  },
  {
   "cell_type": "markdown",
   "metadata": {},
   "source": [
    "# LOOPING THROUGH ALL VALUES"
   ]
  },
  {
   "cell_type": "code",
   "execution_count": 163,
   "metadata": {},
   "outputs": [
    {
     "name": "stdout",
     "output_type": "stream",
     "text": [
      "{'Tahir': 3, 'Usama': 4, 'Aqeel': 5, 'Aslam': 6}\n",
      "3\n",
      "4\n",
      "5\n",
      "6\n"
     ]
    }
   ],
   "source": [
    "dict = {\"Tahir\": 3,\n",
    "        \"Usama\": 4,\n",
    "        \"Aqeel\": 5,\n",
    "        \"Aslam\": 6}\n",
    "print(dict)\n",
    "for value in dict.values():\n",
    "    print(value)"
   ]
  },
  {
   "cell_type": "markdown",
   "metadata": {},
   "source": [
    "# LOOPING THROUGH ALL KEY-VALUES(ITEMS)"
   ]
  },
  {
   "cell_type": "code",
   "execution_count": 171,
   "metadata": {},
   "outputs": [
    {
     "name": "stdout",
     "output_type": "stream",
     "text": [
      "{'Tahir': 3, 'Usama': 4, 'Aqeel': 5, 'Aslam': 6}\n",
      "Tahir: 3\n",
      "Usama: 4\n",
      "Aqeel: 5\n",
      "Aslam: 6\n"
     ]
    }
   ],
   "source": [
    "dict = {\"Tahir\": 3,\n",
    "        \"Usama\": 4,\n",
    "        \"Aqeel\": 5,\n",
    "        \"Aslam\": 6}\n",
    "print(dict)\n",
    "for key,value in dict.items():\n",
    "    print(f\"{key}: {value}\")"
   ]
  },
  {
   "cell_type": "code",
   "execution_count": 173,
   "metadata": {},
   "outputs": [
    {
     "name": "stdout",
     "output_type": "stream",
     "text": [
      "{'Tahir': 3, 'Usama': 4, 'Aqeel': 5, 'Aslam': 6}\n",
      "[('Tahir', 3), ('Usama', 4), ('Aqeel', 5), ('Aslam', 6)]\n"
     ]
    }
   ],
   "source": [
    "dict = {\"Tahir\": 3,\n",
    "        \"Usama\": 4,\n",
    "        \"Aqeel\": 5,\n",
    "        \"Aslam\": 6}\n",
    "print(dict)\n",
    "print(list(dict.items()))                       # Using list and item functions at a time."
   ]
  },
  {
   "cell_type": "code",
   "execution_count": 182,
   "metadata": {},
   "outputs": [
    {
     "name": "stdout",
     "output_type": "stream",
     "text": [
      "{'Tahir': 'Python', 'Usama': 'C++', 'Aqeel': 'JavaScript', 'Aslam': 'NextJs'}\n",
      "Hi! Tahir\n",
      "Hi! Usama\n",
      "\tUsama, I see you love C++.\n",
      "Hi! Aqeel\n",
      "\tAqeel, I see you love JavaScript.\n",
      "Hi! Aslam\n"
     ]
    }
   ],
   "source": [
    "fav_lang = {\"Tahir\": \"Python\",\n",
    "            \"Usama\": \"C++\",\n",
    "            \"Aqeel\": \"JavaScript\",\n",
    "            \"Aslam\": \"NextJs\"}\n",
    "print(fav_lang)\n",
    "friends = [\"Aqeel\", \"Usama\"]\n",
    "for name in fav_lang.keys():\n",
    " print(f\"Hi! {name.title()}\")\n",
    " if name in friends:\n",
    "     language = fav_lang[name.title()]\n",
    "     print(f\"\\t{name.title()}, I see you love {language}.\")\n"
   ]
  },
  {
   "cell_type": "code",
   "execution_count": 183,
   "metadata": {},
   "outputs": [
    {
     "name": "stdout",
     "output_type": "stream",
     "text": [
      "{'Tahir': 'Python', 'Usama': 'C++', 'Aqeel': 'JavaScript', 'Aslam': 'NextJs'}\n",
      "Hi! Tahir\n",
      "Eron, please take out the pool!\n",
      "Hi! Usama\n",
      "Eron, please take out the pool!\n",
      "Hi! Aqeel\n",
      "Eron, please take out the pool!\n",
      "Hi! Aslam\n",
      "Eron, please take out the pool!\n"
     ]
    }
   ],
   "source": [
    "fav_lang = {\"Tahir\": \"Python\",\n",
    "            \"Usama\": \"C++\",\n",
    "            \"Aqeel\": \"JavaScript\",\n",
    "            \"Aslam\": \"NextJs\"}\n",
    "print(fav_lang)\n",
    "friends = [\"Aqeel\", \"Usama\"]\n",
    "for name in fav_lang.keys():\n",
    " print(f\"Hi! {name.title()}\")\n",
    " if \"Erin\" not in fav_lang.keys():\n",
    "     print(\"Eron, please take out the pool!\")"
   ]
  },
  {
   "cell_type": "markdown",
   "metadata": {},
   "source": [
    "# LOOPING KEYS IN A PARTICULAR ORDER"
   ]
  },
  {
   "cell_type": "code",
   "execution_count": 187,
   "metadata": {},
   "outputs": [
    {
     "name": "stdout",
     "output_type": "stream",
     "text": [
      "{'Tahir': 'python', 'Usama': 'C++', 'Aqeel': 'JavaScript'}\n",
      "Aqeel, Thank You for taking the pool!\n",
      "Tahir, Thank You for taking the pool!\n",
      "Usama, Thank You for taking the pool!\n"
     ]
    }
   ],
   "source": [
    "fav_lang = {\"Tahir\": \"python\",\n",
    "            \"Usama\": \"C++\",\n",
    "            \"Aqeel\": \"JavaScript\" }\n",
    "print(fav_lang)\n",
    "for name in sorted(fav_lang.keys()):\n",
    "    print(f\"{name.title()}, Thank You for taking the pool!\")"
   ]
  },
  {
   "cell_type": "markdown",
   "metadata": {},
   "source": [
    "# LOOPING THROUGH ALL VALUES IN DICT."
   ]
  },
  {
   "cell_type": "code",
   "execution_count": 191,
   "metadata": {},
   "outputs": [
    {
     "name": "stdout",
     "output_type": "stream",
     "text": [
      "{'Tahir': 'Python', 'Usama': 'C++', 'Aqeel': 'JavaScript', 'Aslam': 'Python'}\n",
      "The following languages have been mentioned:\n",
      "Python\n",
      "C++\n",
      "Javascript\n",
      "Python\n"
     ]
    }
   ],
   "source": [
    "fav_lang = {\"Tahir\": \"Python\",\n",
    "            \"Usama\": \"C++\",\n",
    "            \"Aqeel\": \"JavaScript\",\n",
    "            \"Aslam\": \"Python\"}\n",
    "print(fav_lang)\n",
    "print(\"The following languages have been mentioned:\")\n",
    "for language in fav_lang.values():\n",
    "    print(language.title())"
   ]
  },
  {
   "cell_type": "markdown",
   "metadata": {},
   "source": [
    "# USE OF SET\n",
    "* IT IS USED TO PRINT UNIQUE VALUES, IF THERE ARE MORE THAN ONE SAME VALUES IN THE DICTIONARY, SET WILL PRINT ONLY ONE TIME THE DUPLICATE VALUES."
   ]
  },
  {
   "cell_type": "code",
   "execution_count": 195,
   "metadata": {},
   "outputs": [
    {
     "name": "stdout",
     "output_type": "stream",
     "text": [
      "{'Tahir': 'Python', 'Usama': 'C++', 'Aqeel': 'JavaScript', 'Aslam': 'Python'}\n",
      "The following languages have been mentioned:\n",
      "Python\n",
      "Javascript\n",
      "C++\n"
     ]
    }
   ],
   "source": [
    "fav_lang = {\"Tahir\": \"Python\",\n",
    "            \"Usama\": \"C++\",\n",
    "            \"Aqeel\": \"JavaScript\",\n",
    "            \"Aslam\": \"Python\"}\n",
    "print(fav_lang)\n",
    "print(\"The following languages have been mentioned:\")\n",
    "for language in set (fav_lang.values()):\n",
    "    print(language.title())\n"
   ]
  }
 ],
 "metadata": {
  "kernelspec": {
   "display_name": "Python 3",
   "language": "python",
   "name": "python3"
  },
  "language_info": {
   "codemirror_mode": {
    "name": "ipython",
    "version": 3
   },
   "file_extension": ".py",
   "mimetype": "text/x-python",
   "name": "python",
   "nbconvert_exporter": "python",
   "pygments_lexer": "ipython3",
   "version": "3.12.6"
  }
 },
 "nbformat": 4,
 "nbformat_minor": 2
}
