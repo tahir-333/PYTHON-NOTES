{
 "cells": [
  {
   "cell_type": "markdown",
   "metadata": {},
   "source": [
    "# IF STATEMENT "
   ]
  },
  {
   "cell_type": "code",
   "execution_count": 14,
   "metadata": {},
   "outputs": [
    {
     "name": "stdout",
     "output_type": "stream",
     "text": [
      "['audi', 'tayota', 'bmw', 'sazuki']\n",
      "Audi\n",
      "Tayota\n",
      "BMW\n",
      "Sazuki\n"
     ]
    }
   ],
   "source": [
    "cars = [\"audi\", \"tayota\", \"bmw\", \"sazuki\"]\n",
    "print(cars)\n",
    "for car in cars:                                          # Test of Equality with string.\n",
    "    if car == \"bmw\":                                      # Use of if statement to perform a specific task. \n",
    "        print(car.upper())\n",
    "    else:\n",
    "        print(car.title())\n",
    "        \n",
    "    \n"
   ]
  },
  {
   "cell_type": "markdown",
   "metadata": {},
   "source": [
    "# CONDITIONAL TESTS\n",
    "* At the heart of every if statement, is an expression that can be evaluated as true or false, and is called as conditional test.\n",
    "* IF the condition is True, python will execute the code with the specified condition as described in the if statement, and if the condition is False then in that case Python will not execute the code as True, but in False condition.\n"
   ]
  },
  {
   "cell_type": "code",
   "execution_count": 15,
   "metadata": {},
   "outputs": [
    {
     "name": "stdout",
     "output_type": "stream",
     "text": [
      "['Tahir', 'tahir', 'Usama', 'Aqeel']\n"
     ]
    }
   ],
   "source": [
    "# Python is a case-sensitive language, means that  in Python Car and car are considered as two separate elements not the same elements.\n",
    "\n",
    "names = [\"Tahir\", \"tahir\", \"Usama\", \"Aqeel\"]\n",
    "print(names)\n"
   ]
  },
  {
   "cell_type": "markdown",
   "metadata": {},
   "source": [
    "# CHECKING FOR INEQUALITY"
   ]
  },
  {
   "cell_type": "code",
   "execution_count": 21,
   "metadata": {},
   "outputs": [
    {
     "name": "stdout",
     "output_type": "stream",
     "text": [
      "The ordered car is not available yet or it is out of stock\n"
     ]
    }
   ],
   "source": [
    "ordered_car = \"Mercedes\"\n",
    "if ordered_car != \"Sazuki\":                       # Use of inequality in Python.\n",
    "    print(\"The ordered car is not available yet or it is out of stock\")"
   ]
  },
  {
   "cell_type": "markdown",
   "metadata": {},
   "source": [
    "# NUMERICAL  COMPARISON "
   ]
  },
  {
   "cell_type": "code",
   "execution_count": 24,
   "metadata": {},
   "outputs": [
    {
     "name": "stdout",
     "output_type": "stream",
     "text": [
      "You are not eligible for apply. \n"
     ]
    }
   ],
   "source": [
    "answer = 30\n",
    "if answer != 18:                                     \n",
    "    print(\"You are not eligible for apply. \")\n"
   ]
  },
  {
   "cell_type": "code",
   "execution_count": 25,
   "metadata": {},
   "outputs": [
    {
     "name": "stdout",
     "output_type": "stream",
     "text": [
      "You are eligible and can proceed.\n"
     ]
    }
   ],
   "source": [
    "answer = 18\n",
    "if answer != 18:\n",
    "    print(\"You are not eligible to apply.\")\n",
    "else:\n",
    "    print(\"You are eligible and can proceed.\")"
   ]
  },
  {
   "cell_type": "code",
   "execution_count": 27,
   "metadata": {},
   "outputs": [
    {
     "name": "stdout",
     "output_type": "stream",
     "text": [
      "You are eligible to prceed.\n"
     ]
    }
   ],
   "source": [
    "age = 18\n",
    "if age == 18:\n",
    "    print(\"You are eligible to proceed.\")\n",
    "else:\n",
    "    print(\"We are sorry, you cannot proceed, as you are does not meet our requirements.\")"
   ]
  },
  {
   "cell_type": "code",
   "execution_count": 31,
   "metadata": {},
   "outputs": [
    {
     "name": "stdout",
     "output_type": "stream",
     "text": [
      "Congratulations you are eligible to apply here, as you meet our requirements.\n"
     ]
    }
   ],
   "source": [
    "age = 18\n",
    "if age >= 19:\n",
    "    print(\"We are sorry, you are not eligible to apply here.\")\n",
    "else:\n",
    "    print(\"Congratulations you are eligible to apply here, as you meet our requirements.\")"
   ]
  },
  {
   "cell_type": "code",
   "execution_count": 33,
   "metadata": {},
   "outputs": [
    {
     "name": "stdout",
     "output_type": "stream",
     "text": [
      "We are sorry, you cannot proceed more, as you does not meet our requirements.\n"
     ]
    }
   ],
   "source": [
    "age = 17\n",
    "if age <= 17:\n",
    "    print(\"We are sorry, you cannot proceed more, as you does not meet our requirements.\")\n",
    "else:\n",
    "    print(\"Congratulations you can proceed more as you meet our requirements.\")"
   ]
  },
  {
   "cell_type": "markdown",
   "metadata": {},
   "source": [
    "# CHECKING MULTIPLE CONDITIONS\n",
    "* Using AND\n",
    "* Using OR"
   ]
  },
  {
   "cell_type": "code",
   "execution_count": 35,
   "metadata": {},
   "outputs": [
    {
     "name": "stdout",
     "output_type": "stream",
     "text": [
      "False\n"
     ]
    }
   ],
   "source": [
    "age_0 = 21\n",
    "age_1 = 18\n",
    "if (age_0 >= 21) and (age_1 >=21):                     # Checking multiple conditions using and.\n",
    "    print(\"True\")\n",
    "else:\n",
    "    print(\"False\")"
   ]
  },
  {
   "cell_type": "code",
   "execution_count": 36,
   "metadata": {},
   "outputs": [
    {
     "name": "stdout",
     "output_type": "stream",
     "text": [
      "True\n"
     ]
    }
   ],
   "source": [
    "age_0 = 21\n",
    "age_1 = 22\n",
    "if (age_0 >=21) and (age_1 >= 21):                    # Checking multiple conditions using and.\n",
    "    print(\"True\")\n",
    "else:\n",
    "    print(\"False\")"
   ]
  },
  {
   "cell_type": "code",
   "execution_count": 37,
   "metadata": {},
   "outputs": [
    {
     "name": "stdout",
     "output_type": "stream",
     "text": [
      "True\n"
     ]
    }
   ],
   "source": [
    "age_0 = 22\n",
    "age_1 = 18\n",
    "if (age_0 >=21) or (age_1 >=21):                    # Checking multiple conditions using or.\n",
    "    print(\"True\")\n",
    "else:\n",
    "    print(False)"
   ]
  },
  {
   "cell_type": "code",
   "execution_count": 38,
   "metadata": {},
   "outputs": [
    {
     "name": "stdout",
     "output_type": "stream",
     "text": [
      "False\n"
     ]
    }
   ],
   "source": [
    "age_0 = 16\n",
    "age_1 =18\n",
    "if (age_0 >= 21) or (age_1 >= 21):                # Checking multiple conditions using or.\n",
    "    print(\"True\")\n",
    "else:\n",
    "    print(\"False\")"
   ]
  },
  {
   "cell_type": "markdown",
   "metadata": {},
   "source": [
    "# CHECKING WHETHER A VALUE IS IN THE LIST"
   ]
  },
  {
   "cell_type": "code",
   "execution_count": 74,
   "metadata": {},
   "outputs": [
    {
     "name": "stdout",
     "output_type": "stream",
     "text": [
      "['Mercedes', 'Carolla', 'Sazuki']\n",
      "True\n"
     ]
    }
   ],
   "source": [
    "cars = [\"Mercedes\", \"Carolla\", \"Sazuki\"]\n",
    "print(cars)\n",
    "ordered_car = \"Sazuki\"                    # Sazuki is present in the list, so Python will return True as output.\n",
    "if ordered_car in cars:\n",
    "    print(\"True\")\n",
    "else:\n",
    "    print(\"False\")\n"
   ]
  },
  {
   "cell_type": "code",
   "execution_count": 76,
   "metadata": {},
   "outputs": [
    {
     "name": "stdout",
     "output_type": "stream",
     "text": [
      "['Mercedes', 'Carolla', 'Sazuki']\n",
      "False\n"
     ]
    }
   ],
   "source": [
    "cars = [\"Mercedes\", \"Carolla\", \"Sazuki\"]\n",
    "print(cars)\n",
    "ordered_car = \"Rolls Roys\"            # Rolls Roys is not present in the list, so Python will return False as output.\n",
    "if ordered_car in cars:\n",
    "    print(\"True\")\n",
    "else:\n",
    "    print(\"False\")"
   ]
  },
  {
   "cell_type": "markdown",
   "metadata": {},
   "source": [
    "# CHECKING WHETHER A VALUE IS NOT IN THE LIST"
   ]
  },
  {
   "cell_type": "code",
   "execution_count": 79,
   "metadata": {},
   "outputs": [
    {
     "name": "stdout",
     "output_type": "stream",
     "text": [
      "You have excess, and can share your posts.\n"
     ]
    }
   ],
   "source": [
    "banned_users = [\"Usama\", \"Aqeel\", \"Aslam\"]\n",
    "user = \"Tahir\"\n",
    "if user in banned_users:                                     # Python will execute if statement in output, as user name \"Tahir\" does not exist in banned users list.\n",
    "    print(\"You have not more access in this website.\")\n",
    "else:\n",
    "    print(\"You have excess, and can share your posts.\")"
   ]
  },
  {
   "cell_type": "code",
   "execution_count": 83,
   "metadata": {},
   "outputs": [
    {
     "name": "stdout",
     "output_type": "stream",
     "text": [
      "We are sorry, you cannot share any post here, as you are officially banned from this website.\n"
     ]
    }
   ],
   "source": [
    "banned_users = [\"Usama\", \"Aqeel\",\" Aslam\"]\n",
    "user = \"Usama\"\n",
    "if user in banned_users:\n",
    "    print(\"We are sorry, you cannot share any post here, as you are officially banned from this website.\")\n",
    "else:                                                                     # Python will execute else statement in output, as the user name \"Usama\" exist in the banned users list.\n",
    "    print(\"You are a valid user, and can share posts in this website.\")\n"
   ]
  },
  {
   "cell_type": "markdown",
   "metadata": {},
   "source": [
    "# EXERCISE SOLUTION "
   ]
  },
  {
   "cell_type": "code",
   "execution_count": 87,
   "metadata": {},
   "outputs": [
    {
     "name": "stdout",
     "output_type": "stream",
     "text": [
      "['Goat', 'Buffalo', 'Cow']\n",
      "True\n"
     ]
    }
   ],
   "source": [
    "# Test for equality with string.\n",
    "\n",
    "animals = [\"Goat\", \"Buffalo\", \"Cow\"]\n",
    "print(animals)\n",
    "for animal in animals:\n",
    "    if animal == \"Goat\":\n",
    "        print(\"True\")\n",
    "    \n",
    "    "
   ]
  },
  {
   "cell_type": "code",
   "execution_count": 89,
   "metadata": {},
   "outputs": [
    {
     "name": "stdout",
     "output_type": "stream",
     "text": [
      "True\n"
     ]
    }
   ],
   "source": [
    "# Test for equality with string.\n",
    "\n",
    "animals = [ \"Goat\", \"Cow\", \"Buffalo\"]\n",
    "for animal in animals:\n",
    "    if animal == \"Cow\":\n",
    "        print(\"True\")"
   ]
  },
  {
   "cell_type": "code",
   "execution_count": 90,
   "metadata": {},
   "outputs": [
    {
     "name": "stdout",
     "output_type": "stream",
     "text": [
      "True\n"
     ]
    }
   ],
   "source": [
    "# Test for equality with string.\n",
    "\n",
    "animals = [\"Goat\", \"Cow\", \"Buffalo\"]\n",
    "for animal in animals:\n",
    "    if animal == \"Buffalo\":\n",
    "        print(\"True\")"
   ]
  },
  {
   "cell_type": "code",
   "execution_count": 14,
   "metadata": {},
   "outputs": [
    {
     "name": "stdout",
     "output_type": "stream",
     "text": [
      "False\n"
     ]
    }
   ],
   "source": [
    "# Test for inequality with string.\n",
    "\n",
    "requested_animal = \"Cow\"\n",
    "if requested_animal != \"Goat\":\n",
    "    print(\"False\")\n",
    "else:\n",
    "    print(\"True\")\n"
   ]
  },
  {
   "cell_type": "code",
   "execution_count": 13,
   "metadata": {},
   "outputs": [
    {
     "name": "stdout",
     "output_type": "stream",
     "text": [
      "False\n"
     ]
    }
   ],
   "source": [
    "# Test for inequality with string.\n",
    "\n",
    "requested_animal = [\"Cow\"]\n",
    "if requested_animal != \"Buffalo\":\n",
    "    print(\"False\")\n",
    "else:\n",
    "    print(\"True\")"
   ]
  },
  {
   "cell_type": "code",
   "execution_count": 15,
   "metadata": {},
   "outputs": [
    {
     "name": "stdout",
     "output_type": "stream",
     "text": [
      "Fslse\n"
     ]
    }
   ],
   "source": [
    "# Test of inequality with string.\n",
    "\n",
    "requested_car = \"Mercedes\"\n",
    "if requested_car != \"Rolls Roys\":\n",
    "    print(\"Fslse\")\n",
    "else:\n",
    "    print(\"True\")"
   ]
  },
  {
   "cell_type": "code",
   "execution_count": 53,
   "metadata": {},
   "outputs": [
    {
     "name": "stdout",
     "output_type": "stream",
     "text": [
      "You are eligible to proceed.\n"
     ]
    }
   ],
   "source": [
    "age_0 = 18\n",
    "age_1 = 18\n",
    "if (age_0==18) and (age_1==18):\n",
    "    print(\"You are eligible to proceed.\")\n",
    "else:\n",
    "    print(\"You are not eligible.\")"
   ]
  },
  {
   "cell_type": "code",
   "execution_count": 57,
   "metadata": {},
   "outputs": [
    {
     "name": "stdout",
     "output_type": "stream",
     "text": [
      "You are eligible.\n"
     ]
    }
   ],
   "source": [
    "age_0 = 18\n",
    "age_1 = 22\n",
    "if (age_0 == 18) or (age_1 == 18):\n",
    "    print(\"You are eligible.\")\n",
    "else:\n",
    "    print(\"You are not eligible.\")"
   ]
  },
  {
   "cell_type": "code",
   "execution_count": 59,
   "metadata": {},
   "outputs": [
    {
     "name": "stdout",
     "output_type": "stream",
     "text": [
      "You are eligible.\n"
     ]
    }
   ],
   "source": [
    "age_0 = 18\n",
    "age_1 = 22\n",
    "if (age_0 >= 17) and (age_1 >=17):\n",
    "    print(\"You are eligible.\")\n",
    "else:\n",
    "    print(\"You are not eligible.\")"
   ]
  },
  {
   "cell_type": "code",
   "execution_count": 54,
   "metadata": {},
   "outputs": [
    {
     "name": "stdout",
     "output_type": "stream",
     "text": [
      "You are not eligible.\n"
     ]
    }
   ],
   "source": [
    "age_0 = 19\n",
    "age_1 = 13\n",
    "if (age_0 ==18) and (age_1==18):\n",
    "    print(\"You are eligible.\")\n",
    "else:\n",
    "    print(\"You are not eligible.\")"
   ]
  },
  {
   "cell_type": "code",
   "execution_count": 63,
   "metadata": {},
   "outputs": [
    {
     "name": "stdout",
     "output_type": "stream",
     "text": [
      "You are not eligible.\n"
     ]
    }
   ],
   "source": [
    "age_0 = 18\n",
    "age_1 = 11\n",
    "if (age_0 < 18) or (age_1 <18):\n",
    "    print(\"You are not eligible.\")\n",
    "else:\n",
    "    print(\"You are eligible.\")"
   ]
  },
  {
   "cell_type": "code",
   "execution_count": 66,
   "metadata": {},
   "outputs": [
    {
     "name": "stdout",
     "output_type": "stream",
     "text": [
      "you are not eligible.\n"
     ]
    }
   ],
   "source": [
    "age = 17\n",
    "if age <=17:\n",
    "    print(\"you are not eligible.\")\n",
    "else:\n",
    "    print(\"You are eligible.\")"
   ]
  },
  {
   "cell_type": "code",
   "execution_count": 69,
   "metadata": {},
   "outputs": [
    {
     "name": "stdout",
     "output_type": "stream",
     "text": [
      "True\n"
     ]
    }
   ],
   "source": [
    "list = [1,2,3,4,5]\n",
    "if 2 in list:\n",
    "    print(\"True\")\n",
    "else:\n",
    "    print(\"False\")"
   ]
  },
  {
   "cell_type": "code",
   "execution_count": 71,
   "metadata": {},
   "outputs": [
    {
     "name": "stdout",
     "output_type": "stream",
     "text": [
      "True\n"
     ]
    }
   ],
   "source": [
    "list = [1,2,4,5]\n",
    "if 3 not in list:\n",
    "    print(\"True\")\n",
    "else:\n",
    "    print(\"False\")"
   ]
  },
  {
   "cell_type": "code",
   "execution_count": 73,
   "metadata": {},
   "outputs": [
    {
     "name": "stdout",
     "output_type": "stream",
     "text": [
      "False\n"
     ]
    }
   ],
   "source": [
    "list = [1,2,3]\n",
    "if 4 not in list:\n",
    "    print(\"False\")\n",
    "else:\n",
    "    print(\"True\")"
   ]
  },
  {
   "cell_type": "code",
   "execution_count": 74,
   "metadata": {},
   "outputs": [
    {
     "name": "stdout",
     "output_type": "stream",
     "text": [
      "False\n"
     ]
    }
   ],
   "source": [
    "list = [1,2,3]\n",
    "if 1 in list:\n",
    "    print(\"False\")\n",
    "else:\n",
    "    print(\"True\")"
   ]
  },
  {
   "cell_type": "markdown",
   "metadata": {},
   "source": [
    "# USE OF IF-ELIF-AND-ELSE WITHOUT F-STRING"
   ]
  },
  {
   "cell_type": "code",
   "execution_count": 79,
   "metadata": {},
   "outputs": [
    {
     "name": "stdout",
     "output_type": "stream",
     "text": [
      "Your admission cost is 50$.\n"
     ]
    }
   ],
   "source": [
    "age = 20\n",
    "if age <4:\n",
    "    print(\"Your admission cost is 0$.\")\n",
    "elif age < 18:\n",
    "    print(\"Your admission cost is 25$.\")\n",
    "else:\n",
    "    print(\"Your admission cost is 50$.\")"
   ]
  },
  {
   "cell_type": "markdown",
   "metadata": {},
   "source": [
    "# USE OF IF-ELIF-AND-ELSE WITH F-STRING"
   ]
  },
  {
   "cell_type": "code",
   "execution_count": 84,
   "metadata": {},
   "outputs": [
    {
     "name": "stdout",
     "output_type": "stream",
     "text": [
      "Your admission price is 0$.\n"
     ]
    }
   ],
   "source": [
    "age = 12\n",
    "if age < 18:\n",
    "    price = 0\n",
    "elif age > 18:\n",
    "    price = 25\n",
    "else:\n",
    "    price = 40\n",
    "    \n",
    "print(f\"Your admission price is {price}$.\")\n"
   ]
  },
  {
   "cell_type": "markdown",
   "metadata": {},
   "source": [
    "# TESTING MULTIPLE CONDITIONS "
   ]
  },
  {
   "cell_type": "code",
   "execution_count": 97,
   "metadata": {},
   "outputs": [
    {
     "name": "stdout",
     "output_type": "stream",
     "text": [
      "Adding Mushroom\n",
      "Adding Extra Cheese\n",
      "\n",
      "Finished making your pizza!\n"
     ]
    }
   ],
   "source": [
    "requested_toppings = [\"Mushroom\", \"Extra Cheese\"]\n",
    "if \"Mushroom\" in requested_toppings:\n",
    "    print(\"Adding Mushroom\")\n",
    "if \"Peppironi\" in requested_toppings:\n",
    "    print(\"Adding Peppironi\")\n",
    "if \"Extra Cheese\" in requested_toppings:\n",
    "    print(\"Adding Extra Cheese\")\n",
    "print(\"\\nFinished making your pizza!\")"
   ]
  },
  {
   "cell_type": "code",
   "execution_count": 102,
   "metadata": {},
   "outputs": [
    {
     "name": "stdout",
     "output_type": "stream",
     "text": [
      "Adding Mushroom\n",
      "\n",
      " Finished pizza making!\n"
     ]
    }
   ],
   "source": [
    "requested_toppings = [\"Mushroom\", \"Extra Cheese\"]\n",
    "if \"Mushroom\" in requested_toppings:\n",
    "    print(\"Adding Mushroom\")\n",
    "elif \"Peppironi\" in requested_toppings:\n",
    "    print(\"Adding Peppironi\")\n",
    "elif \"Extra Cheese\" in requested_toppings:\n",
    "    print(\"Adding Extra Cheese\")\n",
    "print(\"\\n Finished pizza making!\")"
   ]
  },
  {
   "cell_type": "markdown",
   "metadata": {},
   "source": [
    "# SUMMARY \n",
    "* If you want only one block of code to run, use an if-elif-else \n",
    "chain. \n",
    "* If more than one block of code needs to run, use a series of independent if statements."
   ]
  },
  {
   "cell_type": "markdown",
   "metadata": {},
   "source": [
    "# EXERCISE SOLUTION"
   ]
  },
  {
   "cell_type": "code",
   "execution_count": 107,
   "metadata": {},
   "outputs": [
    {
     "name": "stdout",
     "output_type": "stream",
     "text": [
      "You have earned 5 points.\n"
     ]
    }
   ],
   "source": [
    "# 5-3\n",
    "\n",
    "alien_color = \"Green\"\n",
    "if alien_color == \"Green\":\n",
    "    print(\"You have earned 5 points.\")"
   ]
  },
  {
   "cell_type": "code",
   "execution_count": 108,
   "metadata": {},
   "outputs": [],
   "source": [
    "alien_color = \"Green\"\n",
    "if alien_color == \"Red\":\n",
    "    print(\"You have earned 5 points.\")"
   ]
  },
  {
   "cell_type": "code",
   "execution_count": 111,
   "metadata": {},
   "outputs": [
    {
     "name": "stdout",
     "output_type": "stream",
     "text": [
      "You have earned 10 points.\n"
     ]
    }
   ],
   "source": [
    "# 5-4\n",
    "\n",
    "alien_color = \"Red\"\n",
    "if alien_color == \"Green\":\n",
    "    print(\"You have earned 5 points.\")\n",
    "elif alien_color != \"Green\":\n",
    "    print(\"You have earned 10 points.\")"
   ]
  },
  {
   "cell_type": "code",
   "execution_count": 112,
   "metadata": {},
   "outputs": [
    {
     "name": "stdout",
     "output_type": "stream",
     "text": [
      "You have earned 3 points.\n"
     ]
    }
   ],
   "source": [
    "alien_color = \"Red\"\n",
    "if alien_color == \"Red\":\n",
    "    print(\"You have earned 3 points.\")\n",
    "else:\n",
    "    print(\"You have earned 0 points.\")"
   ]
  },
  {
   "cell_type": "code",
   "execution_count": 113,
   "metadata": {},
   "outputs": [
    {
     "name": "stdout",
     "output_type": "stream",
     "text": [
      "You have earned 50 points.\n"
     ]
    }
   ],
   "source": [
    "alien_color = \"Red\"\n",
    "if alien_color == \"Green\":\n",
    "    print(\"You have earned 10 points.\")\n",
    "else:\n",
    "    print(\"You have earned 50 points.\")"
   ]
  },
  {
   "cell_type": "code",
   "execution_count": 129,
   "metadata": {},
   "outputs": [
    {
     "name": "stdout",
     "output_type": "stream",
     "text": [
      "You have earned 5 points.\n"
     ]
    }
   ],
   "source": [
    "# 5-5\n",
    "\n",
    "alien_color = \"Red\"\n",
    "if alien_color == \"Red\":\n",
    "    print(\"You have earned 5 points.\")\n",
    "elif alien_color == \"Green\":\n",
    "    print(\"You have earned 10 points.\")\n",
    "elif alien_color == \"Blue\":\n",
    "    print(\"You have earned 15 points. \")\n",
    "else:\n",
    "    print(\"You have earned 0 points.\")"
   ]
  },
  {
   "cell_type": "code",
   "execution_count": 130,
   "metadata": {},
   "outputs": [
    {
     "name": "stdout",
     "output_type": "stream",
     "text": [
      "You have earned 10 points.\n"
     ]
    }
   ],
   "source": [
    "alien_color = \"Green\"\n",
    "if alien_color == \"Red\":\n",
    "    print(\"You have earned 5 points.\")\n",
    "elif alien_color == \"Green\":\n",
    "    print(\"You have earned 10 points.\")\n",
    "elif alien_color == \"Blue\":\n",
    "    print(\"You have earned 15 points.\")\n",
    "else:\n",
    "    print(\"You have earned 0 points.\")"
   ]
  },
  {
   "cell_type": "code",
   "execution_count": 131,
   "metadata": {},
   "outputs": [
    {
     "name": "stdout",
     "output_type": "stream",
     "text": [
      "You have earned 15 points.\n"
     ]
    }
   ],
   "source": [
    "alien_color = \"Blue\"\n",
    "if alien_color == \"Red\":\n",
    "    print(\"You have earned 5 points.\")\n",
    "elif alien_color == \"Green\":\n",
    "    print(\"You have earned 10 points.\")\n",
    "elif alien_color == \"Blue\":\n",
    "    print(\"You have earned 15 points.\")\n",
    "else:\n",
    "    print(\"You have 0 points.\")"
   ]
  },
  {
   "cell_type": "code",
   "execution_count": 182,
   "metadata": {},
   "outputs": [
    {
     "name": "stdout",
     "output_type": "stream",
     "text": [
      "The person is baby.\n"
     ]
    }
   ],
   "source": [
    "# 5-6\n",
    "\n",
    "age = 1\n",
    "if age <2:\n",
    "    print(\"The person is baby.\")\n",
    "elif (age >=2) and (age < 4):\n",
    "    print(\"The person is toddler.\")\n",
    "elif (age >= 4) and (age <13):\n",
    "    print(\"The person is kid.\")\n",
    "elif (age >=13) and (age <20):\n",
    "    print(\"The person is Teenager.\")\n",
    "elif (age>=20) and (age <65):\n",
    "    print(\"The person is adult.\")\n",
    "else:\n",
    "    print(\"The person is elder.\")"
   ]
  },
  {
   "cell_type": "code",
   "execution_count": 183,
   "metadata": {},
   "outputs": [
    {
     "name": "stdout",
     "output_type": "stream",
     "text": [
      "The person is toddler.\n"
     ]
    }
   ],
   "source": [
    "age = 3\n",
    "if age <2:\n",
    "    print(\"The person is baby.\")\n",
    "elif (age >=2) and (age < 4):\n",
    "    print(\"The person is toddler.\")\n",
    "elif (age >= 4) and (age <13):\n",
    "    print(\"The person is kid.\")\n",
    "elif (age >=13) and (age <20):\n",
    "    print(\"The person is Teenager.\")\n",
    "elif (age>=20) and (age <65):\n",
    "    print(\"The person is adult.\")\n",
    "else:\n",
    "    print(\"The person is elder.\")"
   ]
  },
  {
   "cell_type": "code",
   "execution_count": 184,
   "metadata": {},
   "outputs": [
    {
     "name": "stdout",
     "output_type": "stream",
     "text": [
      "The person is kid.\n"
     ]
    }
   ],
   "source": [
    "age = 5\n",
    "if age <2:\n",
    "    print(\"The person is baby.\")\n",
    "elif (age >=2) and (age < 4):\n",
    "    print(\"The person is toddler.\")\n",
    "elif (age >= 4) and (age <13):\n",
    "    print(\"The person is kid.\")\n",
    "elif (age >=13) and (age <20):\n",
    "    print(\"The person is Teenager.\")\n",
    "elif (age>=20) and (age <65):\n",
    "    print(\"The person is adult.\")\n",
    "else:\n",
    "    print(\"The person is elder.\")"
   ]
  },
  {
   "cell_type": "code",
   "execution_count": 186,
   "metadata": {},
   "outputs": [
    {
     "name": "stdout",
     "output_type": "stream",
     "text": [
      "The person is Teenager.\n"
     ]
    }
   ],
   "source": [
    "age = 14\n",
    "if age <2:\n",
    "    print(\"The person is baby.\")\n",
    "elif (age >=2) and (age < 4):\n",
    "    print(\"The person is toddler.\")\n",
    "elif (age >= 4) and (age <13):\n",
    "    print(\"The person is kid.\")\n",
    "elif (age >=13) and (age <20):\n",
    "    print(\"The person is Teenager.\")\n",
    "elif (age>=20) and (age <65):\n",
    "    print(\"The person is adult.\")\n",
    "else:\n",
    "    print(\"The person is elder.\")"
   ]
  },
  {
   "cell_type": "code",
   "execution_count": 189,
   "metadata": {},
   "outputs": [
    {
     "name": "stdout",
     "output_type": "stream",
     "text": [
      "The person is adult.\n"
     ]
    }
   ],
   "source": [
    "age = 64\n",
    "if age <2:\n",
    "    print(\"The person is baby.\")\n",
    "elif (age >=2) and (age < 4):\n",
    "    print(\"The person is toddler.\")\n",
    "elif (age >= 4) and (age <13):\n",
    "    print(\"The person is kid.\")\n",
    "elif (age >=13) and (age <20):\n",
    "    print(\"The person is Teenager.\")\n",
    "elif (age>=20) and (age <65):\n",
    "    print(\"The person is adult.\")\n",
    "else:\n",
    "    print(\"The person is elder.\")"
   ]
  },
  {
   "cell_type": "code",
   "execution_count": 190,
   "metadata": {},
   "outputs": [
    {
     "name": "stdout",
     "output_type": "stream",
     "text": [
      "The person is elder.\n"
     ]
    }
   ],
   "source": [
    "age = 100\n",
    "if age <2:\n",
    "    print(\"The person is baby.\")\n",
    "elif (age >=2) and (age < 4):\n",
    "    print(\"The person is toddler.\")\n",
    "elif (age >= 4) and (age <13):\n",
    "    print(\"The person is kid.\")\n",
    "elif (age >=13) and (age <20):\n",
    "    print(\"The person is Teenager.\")\n",
    "elif (age>=20) and (age <65):\n",
    "    print(\"The person is adult.\")\n",
    "else:\n",
    "    print(\"The person is elder.\")"
   ]
  },
  {
   "cell_type": "code",
   "execution_count": 231,
   "metadata": {},
   "outputs": [
    {
     "name": "stdout",
     "output_type": "stream",
     "text": [
      "I really likes Mangoes.\n",
      "I does not like  Cherry.\n",
      "I really likes Apples.\n",
      "I does not likes Apricote.\n",
      "I really likes Bananas.\n"
     ]
    }
   ],
   "source": [
    "# 5-7\n",
    "\n",
    "fav_fruits = [\"Apple\", \"Banana\", \"Mango\"]\n",
    "if \"Mango\" in fav_fruits:\n",
    "    print(\"I really likes Mangoes.\")\n",
    "if \"Cherry\" not in fav_fruits:\n",
    "    print(\"I does not like  Cherry.\")\n",
    "if \"Apple\" in fav_fruits:\n",
    "    print(\"I really likes Apples.\")\n",
    "if \"Apricot\" not in fav_fruits:\n",
    "    print(\"I does not likes Apricote.\")\n",
    "if \"Banana\" in fav_fruits:\n",
    "    print(\"I really likes Bananas.\")\n",
    "else:\n",
    "    print(\"None\")"
   ]
  },
  {
   "cell_type": "markdown",
   "metadata": {},
   "source": [
    "# USING IF STATEMENTS WITH LISTS\n",
    "* Checking for special items.\n",
    "* Checking that a list is not empty."
   ]
  },
  {
   "cell_type": "code",
   "execution_count": 235,
   "metadata": {},
   "outputs": [
    {
     "name": "stdout",
     "output_type": "stream",
     "text": [
      " Adding mushroom.\n",
      " Adding green chilli.\n",
      " Adding extra cheese.\n",
      "\n",
      " Finished making your pizza!\n"
     ]
    }
   ],
   "source": [
    "requested_toppings = [\"mushroom\", \"green chilli\", \"extra cheese\"]\n",
    "for requested_topping in requested_toppings:\n",
    "    print(f\" Adding {requested_topping}.\")\n",
    "print(\"\\n Finished making your pizza!\")"
   ]
  },
  {
   "cell_type": "code",
   "execution_count": 241,
   "metadata": {},
   "outputs": [
    {
     "name": "stdout",
     "output_type": "stream",
     "text": [
      "Adding mushroom.\n",
      "Sorry, we are out of green chilli.\n",
      "Adding extra cheese.\n",
      "\n",
      " Finished pizza making!\n"
     ]
    }
   ],
   "source": [
    "requested_toppings = [\"mushroom\", \"green chilli\", \"extra cheese\"]\n",
    "for requested_topping in requested_toppings:\n",
    "    if requested_topping == \"green chilli\":\n",
    "        print(\"Sorry, we are out of green chilli.\")\n",
    "        \n",
    "    else:\n",
    "        \n",
    "         print(f\"Adding {requested_topping}.\")\n",
    "print(\"\\n Finished pizza making!\")"
   ]
  },
  {
   "cell_type": "code",
   "execution_count": 255,
   "metadata": {},
   "outputs": [
    {
     "name": "stdout",
     "output_type": "stream",
     "text": [
      "Are you sure you want plain pizza.\n"
     ]
    }
   ],
   "source": [
    "requested_toppings = [ ]\n",
    "if requested_toppings:\n",
    "    pass\n",
    "\n",
    "\n",
    "else:\n",
    "    print(\"Are you sure you want plain pizza.\")"
   ]
  },
  {
   "cell_type": "markdown",
   "metadata": {},
   "source": [
    "# USING MULTIPLE LISTS"
   ]
  },
  {
   "cell_type": "code",
   "execution_count": 269,
   "metadata": {},
   "outputs": [
    {
     "name": "stdout",
     "output_type": "stream",
     "text": [
      "Adding mushroom.\n",
      "\n",
      " Sorry we do not have french fries.\n",
      "Adding extra cheese.\n",
      "\n",
      " Finished making pizza!\n"
     ]
    }
   ],
   "source": [
    "available_toppings = [\"mushroom\", \"green chilli\", \"olives\", \"pepperoni\", \"pineapple\", \"extra cheese\"]\n",
    "requested_toppings = [ \"mushroom\", \"french fries\", \"extra cheese\"]\n",
    "for requested_topping in requested_toppings:\n",
    "    if requested_topping in available_toppings:\n",
    "        print(f\"Adding {requested_topping}.\")\n",
    "    else:\n",
    "        print(f\"\\n Sorry we do not have {requested_topping}.\")\n",
    "print(\"\\n Finished making pizza!\")"
   ]
  },
  {
   "cell_type": "markdown",
   "metadata": {},
   "source": [
    "# EXERCISE SOLUTION "
   ]
  },
  {
   "cell_type": "code",
   "execution_count": 275,
   "metadata": {},
   "outputs": [
    {
     "name": "stdout",
     "output_type": "stream",
     "text": [
      "Hello Tahir, Thank you for logging in again.\n",
      "Hello Usama, Thank you for logging in again.\n",
      "Hello Aslam, Thank you for logging in again.\n",
      "Hello Asif, Thank you for logging in again.\n",
      "\n",
      "Hello, admin would you like to see the status report?\n"
     ]
    }
   ],
   "source": [
    "# 5-8\n",
    "\n",
    "usernames  = [\"Tahir\", \"Usama\", \"Aslam\", \"Asif\", \"Admin\"]\n",
    "for username in usernames:\n",
    "    if username == \"Admin\":\n",
    "        print(\"\\nHello, admin would you like to see the status report?\")\n",
    "    else:\n",
    "        print(f\"Hello {username}, Thank you for logging in again.\")"
   ]
  },
  {
   "cell_type": "code",
   "execution_count": 278,
   "metadata": {},
   "outputs": [
    {
     "name": "stdout",
     "output_type": "stream",
     "text": [
      "Hello Tahir, Thank You for logging in again.\n",
      "Hello Usama, Thank You for logging in again.\n",
      "Hello, Admin would you like to see the status report?\n",
      "Hello Aqeel, Thank You for logging in again.\n"
     ]
    }
   ],
   "source": [
    "# 5-9\n",
    "\n",
    "usernames = [\"Tahir\", \"Usama\",\"Admin\", \"Aqeel\"]\n",
    "for username in usernames:\n",
    "    if username == \"Admin\":\n",
    "        print(\"Hello, Admin would you like to see the status report?\")\n",
    "    else:\n",
    "        print(f\"Hello {username}, Thank You for logging in again.\")"
   ]
  },
  {
   "cell_type": "code",
   "execution_count": 281,
   "metadata": {},
   "outputs": [
    {
     "name": "stdout",
     "output_type": "stream",
     "text": [
      "We need to find some users!\n"
     ]
    }
   ],
   "source": [
    "usernames = [ ]\n",
    "for username in usernames:\n",
    "    if username == \"Admin\":\n",
    "        print(\"Hello Admin, Would you like to see the status report?\")\n",
    "    else:\n",
    "        print(\"hello {username}, Thank You for logging in again.\")\n",
    "else: \n",
    "    print(\"We need to find some users!\")"
   ]
  },
  {
   "cell_type": "code",
   "execution_count": 6,
   "metadata": {},
   "outputs": [
    {
     "name": "stdout",
     "output_type": "stream",
     "text": [
      "This username is already taken, try another.\n",
      "The username is available.\n",
      "The username is available.\n",
      "The username is available.\n",
      "This username is already taken, try another.\n"
     ]
    }
   ],
   "source": [
    "# 5-10\n",
    "\n",
    "current_users = [\"Tahir\", \"Usama\", \"Aslam\", \"Aqeel\", \"Asif\"]\n",
    "new_users = [\"Tahir\", \"Alian\", \"Ahmad\", \"Aon\", \"Aqeel\"]\n",
    "for new_user in new_users:\n",
    "    if new_user in current_users:\n",
    "        print(\"This username is already taken, try another.\")\n",
    "    else: \n",
    "        print(\"The username is available.\")"
   ]
  },
  {
   "cell_type": "code",
   "execution_count": 13,
   "metadata": {},
   "outputs": [
    {
     "name": "stdout",
     "output_type": "stream",
     "text": [
      "1st\n",
      "2nd\n",
      "3rd\n",
      "4th\n",
      "5th\n",
      "6th\n",
      "7th\n",
      "8th\n",
      "9th\n"
     ]
    }
   ],
   "source": [
    "# 5-11\n",
    "\n",
    "lists = [1, 2, 3, 4, 5, 6, 7, 8, 9]\n",
    "for list in lists:\n",
    "    # print(list)\n",
    "    if list == 1:\n",
    "        print(f\"{list}st\")\n",
    "    elif list == 2:\n",
    "        print(f\"{list}nd\")\n",
    "    elif list == 3:\n",
    "        print(f\"{list}rd\")\n",
    "    else:\n",
    "        print(f\"{list}th\")"
   ]
  }
 ],
 "metadata": {
  "kernelspec": {
   "display_name": "Python 3",
   "language": "python",
   "name": "python3"
  },
  "language_info": {
   "codemirror_mode": {
    "name": "ipython",
    "version": 3
   },
   "file_extension": ".py",
   "mimetype": "text/x-python",
   "name": "python",
   "nbconvert_exporter": "python",
   "pygments_lexer": "ipython3",
   "version": "3.12.7"
  }
 },
 "nbformat": 4,
 "nbformat_minor": 2
}
