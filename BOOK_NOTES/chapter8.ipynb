{
 "cells": [
  {
   "cell_type": "markdown",
   "metadata": {},
   "source": [
    "# FUNCTIONS\n",
    "* You use functions in programming to bundle a set of instructions that you want to use repeatedly or that, because of their complexity, are better self-contained in a sub-program and called when needed. That means that a function is a piece of code written to carry out a specified task."
   ]
  },
  {
   "cell_type": "code",
   "execution_count": 5,
   "metadata": {},
   "outputs": [
    {
     "name": "stdout",
     "output_type": "stream",
     "text": [
      "Hello!\n",
      "Hello!\n",
      "Hello!\n"
     ]
    }
   ],
   "source": [
    "# A SIMPLE FUNCTION\n",
    "\n",
    "def greet():                                                  # Defining the function.\n",
    "    print(\"Hello!\")                                           # Function body.              # Job of function.\n",
    "    \n",
    "greet()                                                       # The Calling of the function.\n",
    "greet()\n",
    "greet()"
   ]
  },
  {
   "cell_type": "markdown",
   "metadata": {},
   "source": [
    "# PASSING INFORMATION TO THE FUNCTION "
   ]
  },
  {
   "cell_type": "code",
   "execution_count": 10,
   "metadata": {},
   "outputs": [
    {
     "name": "stdout",
     "output_type": "stream",
     "text": [
      "Hello,TAHIR!\n"
     ]
    }
   ],
   "source": [
    "def greet(username):                                                     # Defining the function with one parameter.\n",
    "    print(f\"Hello,{username.upper()}!\")                                  # Function Body.\n",
    "                                               \n",
    "\n",
    "greet(\"Tahir\")                                                           # Calling the Function having one argument required. "
   ]
  },
  {
   "cell_type": "markdown",
   "metadata": {},
   "source": [
    "# EXERCISE SOLUTION"
   ]
  },
  {
   "cell_type": "code",
   "execution_count": 11,
   "metadata": {},
   "outputs": [
    {
     "name": "stdout",
     "output_type": "stream",
     "text": [
      "We are learning about the functions in this chapter\n"
     ]
    }
   ],
   "source": [
    "# 8-1\n",
    "\n",
    "def display_message():\n",
    "    print(\"We are learning about the functions in this chapter\")\n",
    "    \n",
    "    \n",
    "display_message()"
   ]
  },
  {
   "cell_type": "code",
   "execution_count": 13,
   "metadata": {},
   "outputs": [
    {
     "name": "stdout",
     "output_type": "stream",
     "text": [
      "One of my favorites books is KHOOD SA KHUDA TAK.\n"
     ]
    }
   ],
   "source": [
    "# 8-2\n",
    "\n",
    "def fav_book(title):\n",
    "    print(f\"One of my favorites books is {title.upper()}.\")\n",
    "    \n",
    "    \n",
    "fav_book(\"Khood Sa Khuda Tak\")"
   ]
  },
  {
   "cell_type": "markdown",
   "metadata": {},
   "source": [
    "# PASSING THE ARGUMENTS \n",
    "* Because a function definition can have multiple parameters, a function call \n",
    "may need multiple arguments. You can pass arguments to your functions \n",
    "in a number of ways. You can use positional arguments, which need to be in \n",
    "the same order the parameters were written; keyword arguments, where each \n",
    "argument consists of a variable name and a value; and lists and dictionaries \n",
    "of values. Let’s look at each of these in turn"
   ]
  },
  {
   "cell_type": "markdown",
   "metadata": {},
   "source": [
    "# POSITIONAL ARGUMENTS \n",
    "* Positional arguments require the arguments to be passed at the right position."
   ]
  },
  {
   "cell_type": "code",
   "execution_count": 17,
   "metadata": {},
   "outputs": [
    {
     "name": "stdout",
     "output_type": "stream",
     "text": [
      "My infromations are Islamic.\n",
      "The title of my information is SPIRTUALISATION.\n"
     ]
    }
   ],
   "source": [
    "def information(type, title):\n",
    "    print(f\"My infromations are {type}.\")\n",
    "    print(f\"The title of my information is {title.upper()}.\")\n",
    "    \n",
    "    \n",
    "information(\"Islamic\", \"Spirtualisation\")"
   ]
  },
  {
   "cell_type": "markdown",
   "metadata": {},
   "source": [
    "# MULTIPLE FUNCTION CALLING \n",
    "* We can call the multiple times."
   ]
  },
  {
   "cell_type": "code",
   "execution_count": 22,
   "metadata": {},
   "outputs": [
    {
     "name": "stdout",
     "output_type": "stream",
     "text": [
      "My informations are Islamic.\n",
      "The title of my information is SPIRTUALIZATION.\n",
      "My informations are Political.\n",
      "The title of my information is INFRASTRUCTURE.\n"
     ]
    }
   ],
   "source": [
    "# Calling the function multiple times.\n",
    "\n",
    "\n",
    "def information(type, title):\n",
    "    print(f\"My informations are {type}.\")\n",
    "    print(f\"The title of my information is {title.upper()}.\")\n",
    "    \n",
    "information(\"Islamic\", \"Spirtualization\")\n",
    "information(\"Political\", \"Infrastructure\")"
   ]
  },
  {
   "cell_type": "markdown",
   "metadata": {},
   "source": [
    "# ORDER MATTERS IN POSITIONAL ARGUMENTS \n",
    "* While passing the positional arguments, you must keep in mind to pass the correct order of the positional argument, otherwise you may get some funny (wrong) results."
   ]
  },
  {
   "cell_type": "code",
   "execution_count": 40,
   "metadata": {},
   "outputs": [
    {
     "name": "stdout",
     "output_type": "stream",
     "text": [
      "My name is FSC Pre Medical.\n",
      "My qualification is TAHIR ABBAS.\n",
      "My name is Tahir Abbas.\n",
      "My qualification is FSC PRE MEDICAL.\n"
     ]
    }
   ],
   "source": [
    "def intro(name, qualification):\n",
    "    print(f\"My name is {name}.\")\n",
    "    print(f\"My qualification is {qualification.upper()}.\")\n",
    "    \n",
    "\n",
    "intro(\"FSC Pre Medical\", \"Tahir Abbas\")                                  # The wrong order of passing the arguments.\n",
    "intro(\"Tahir Abbas\", \"FSC Pre Medical\")                                  # The right order of passing the arguments."
   ]
  },
  {
   "cell_type": "markdown",
   "metadata": {},
   "source": [
    "# KEYWORD ARGUMENTS\n",
    "* While passing the keyword arguments, it is not necessary to follow the rule of positional arguments, here we define key along with the value as argument. "
   ]
  },
  {
   "cell_type": "code",
   "execution_count": 49,
   "metadata": {},
   "outputs": [
    {
     "name": "stdout",
     "output_type": "stream",
     "text": [
      "My name is Tahir Abbas.\n",
      "My qualification is FSC Pre Medical.\n",
      "My name is Tahir Abbas.\n",
      "My qualification is FSC Pre Medical.\n"
     ]
    }
   ],
   "source": [
    "def info(name, qualification):\n",
    "    print(f\"My name is {name}.\")\n",
    "    print(f\"My qualification is {qualification}.\")\n",
    "    \n",
    "    \n",
    "info(name = \"Tahir Abbas\", qualification = \"FSC Pre Medical\")\n",
    "info(qualification = \"FSC Pre Medical\", name = \"Tahir Abbas\")                      # Here we see positional arguments does not matter as we define the keyword arguments."
   ]
  },
  {
   "cell_type": "markdown",
   "metadata": {},
   "source": [
    "# DEFAULT VALUES\n",
    "* We can use default values for any one or more arguments.\n",
    "* While calling the function we do not need to add two arguments, as one is default so, we van use only one arguments, there will be no any negative result of this, because the second missing argument will take the default value.\n",
    "* We can also reassign the default value whiling calling the function, in that case, default value will be overtaken by rewritten value."
   ]
  },
  {
   "cell_type": "code",
   "execution_count": 51,
   "metadata": {},
   "outputs": [
    {
     "data": {
      "text/plain": [
       "6"
      ]
     },
     "execution_count": 51,
     "metadata": {},
     "output_type": "execute_result"
    }
   ],
   "source": [
    "def add(a, b = 5):\n",
    "    return a + b\n",
    "\n",
    "\n",
    "add(1)                                                        # Calling the function having one default value.\n",
    "    "
   ]
  },
  {
   "cell_type": "code",
   "execution_count": 52,
   "metadata": {},
   "outputs": [
    {
     "data": {
      "text/plain": [
       "5"
      ]
     },
     "execution_count": 52,
     "metadata": {},
     "output_type": "execute_result"
    }
   ],
   "source": [
    "def add(a, b = 5):\n",
    "    return a + b\n",
    "\n",
    "add(1, 4)                # Calling the function in which default value is overtaken by reassigned value to the default parameter."
   ]
  },
  {
   "cell_type": "code",
   "execution_count": 53,
   "metadata": {},
   "outputs": [
    {
     "data": {
      "text/plain": [
       "10"
      ]
     },
     "execution_count": 53,
     "metadata": {},
     "output_type": "execute_result"
    }
   ],
   "source": [
    "def add(a = 5, b= 5):\n",
    "    return a + b\n",
    "\n",
    "\n",
    "add()                    # Calling the function having all the default values."
   ]
  },
  {
   "cell_type": "markdown",
   "metadata": {},
   "source": [
    "# AVOIDING THE ARGUMENT ERRORS\n",
    "* While calling the function, we may get some errors, like if we pass only one arguments instead of two or we do not even pass any argument, it may result in an error as given below...\n",
    "* Passing more arguments then the requirements also result as an error..."
   ]
  },
  {
   "cell_type": "code",
   "execution_count": 54,
   "metadata": {},
   "outputs": [
    {
     "ename": "TypeError",
     "evalue": "add() missing 2 required positional arguments: 'a' and 'b'",
     "output_type": "error",
     "traceback": [
      "\u001b[1;31m---------------------------------------------------------------------------\u001b[0m",
      "\u001b[1;31mTypeError\u001b[0m                                 Traceback (most recent call last)",
      "Cell \u001b[1;32mIn[54], line 5\u001b[0m\n\u001b[0;32m      1\u001b[0m \u001b[38;5;28;01mdef\u001b[39;00m \u001b[38;5;21madd\u001b[39m(a, b):\n\u001b[0;32m      2\u001b[0m     \u001b[38;5;28;01mreturn\u001b[39;00m a \u001b[38;5;241m+\u001b[39m b\n\u001b[1;32m----> 5\u001b[0m \u001b[43madd\u001b[49m\u001b[43m(\u001b[49m\u001b[43m)\u001b[49m\n",
      "\u001b[1;31mTypeError\u001b[0m: add() missing 2 required positional arguments: 'a' and 'b'"
     ]
    }
   ],
   "source": [
    "def add(a, b):\n",
    "    return a + b\n",
    "\n",
    "\n",
    "add()                                                       # Error while all  the arguments are missing."
   ]
  },
  {
   "cell_type": "code",
   "execution_count": 55,
   "metadata": {},
   "outputs": [
    {
     "ename": "TypeError",
     "evalue": "add() missing 1 required positional argument: 'b'",
     "output_type": "error",
     "traceback": [
      "\u001b[1;31m---------------------------------------------------------------------------\u001b[0m",
      "\u001b[1;31mTypeError\u001b[0m                                 Traceback (most recent call last)",
      "Cell \u001b[1;32mIn[55], line 5\u001b[0m\n\u001b[0;32m      1\u001b[0m \u001b[38;5;28;01mdef\u001b[39;00m \u001b[38;5;21madd\u001b[39m(a, b):\n\u001b[0;32m      2\u001b[0m     \u001b[38;5;28;01mreturn\u001b[39;00m a \u001b[38;5;241m+\u001b[39m b\n\u001b[1;32m----> 5\u001b[0m \u001b[43madd\u001b[49m\u001b[43m(\u001b[49m\u001b[38;5;241;43m1\u001b[39;49m\u001b[43m)\u001b[49m\n",
      "\u001b[1;31mTypeError\u001b[0m: add() missing 1 required positional argument: 'b'"
     ]
    }
   ],
   "source": [
    "def add(a, b):\n",
    "    return a + b\n",
    "\n",
    "\n",
    "add(1)                                                     # Error while one argument is missing."
   ]
  },
  {
   "cell_type": "code",
   "execution_count": 56,
   "metadata": {},
   "outputs": [
    {
     "ename": "TypeError",
     "evalue": "add() takes 2 positional arguments but 3 were given",
     "output_type": "error",
     "traceback": [
      "\u001b[1;31m---------------------------------------------------------------------------\u001b[0m",
      "\u001b[1;31mTypeError\u001b[0m                                 Traceback (most recent call last)",
      "Cell \u001b[1;32mIn[56], line 5\u001b[0m\n\u001b[0;32m      1\u001b[0m \u001b[38;5;28;01mdef\u001b[39;00m \u001b[38;5;21madd\u001b[39m(a, b):\n\u001b[0;32m      2\u001b[0m     \u001b[38;5;28;01mreturn\u001b[39;00m a \u001b[38;5;241m+\u001b[39m b\n\u001b[1;32m----> 5\u001b[0m \u001b[43madd\u001b[49m\u001b[43m(\u001b[49m\u001b[38;5;241;43m1\u001b[39;49m\u001b[43m,\u001b[49m\u001b[43m \u001b[49m\u001b[38;5;241;43m3\u001b[39;49m\u001b[43m,\u001b[49m\u001b[43m \u001b[49m\u001b[38;5;241;43m4\u001b[39;49m\u001b[43m)\u001b[49m\n",
      "\u001b[1;31mTypeError\u001b[0m: add() takes 2 positional arguments but 3 were given"
     ]
    }
   ],
   "source": [
    "def add(a, b):\n",
    "    return a + b\n",
    "\n",
    "\n",
    "add(1, 3, 4)                                           # Error while passing the more arguments then the requirement."
   ]
  },
  {
   "cell_type": "markdown",
   "metadata": {},
   "source": [
    "# EXERCISE SOLUTION "
   ]
  },
  {
   "cell_type": "code",
   "execution_count": 58,
   "metadata": {},
   "outputs": [
    {
     "name": "stdout",
     "output_type": "stream",
     "text": [
      "The size of my Shirt is 32.\n",
      "The following message should be printed on my shirt: Have a nice day!.\n"
     ]
    }
   ],
   "source": [
    "# 8-3                                 # Using the positional arguments.\n",
    "\n",
    "def make_shirt(size, message):\n",
    "    print(f\"The size of my Shirt is {size}.\")\n",
    "    print(f\"The following message should be printed on my shirt: {message}.\")\n",
    "    \n",
    "    \n",
    "make_shirt(\"32\", \"Have a nice day!\" )"
   ]
  },
  {
   "cell_type": "code",
   "execution_count": 65,
   "metadata": {},
   "outputs": [
    {
     "name": "stdout",
     "output_type": "stream",
     "text": [
      "The size of my shirt is 33.\n",
      "The following message should be printed on my shirt: Have a nice day!.\n",
      "The size of my shirt is 33.\n",
      "The following message should be printed on my shirt: Have a nice day!.\n"
     ]
    }
   ],
   "source": [
    "# 8-3                                 # Using the keyword arguments.\n",
    "\n",
    "def make_shirt(size, message):\n",
    "    print(f\"The size of my shirt is {size}.\")\n",
    "    print(f\"The following message should be printed on my shirt: {message}.\")\n",
    "    \n",
    "    \n",
    "make_shirt(size = \"33\", message = \"Have a nice day!\")\n",
    "make_shirt(message = \"Have a nice day!\", size = \"33\")\n"
   ]
  },
  {
   "cell_type": "code",
   "execution_count": 72,
   "metadata": {},
   "outputs": [
    {
     "name": "stdout",
     "output_type": "stream",
     "text": [
      "MY shirt size is large having following text on it: I love Python.\n"
     ]
    }
   ],
   "source": [
    "# 8-4\n",
    "\n",
    "def make_shirt(size = \"large\", message = \"I love Python\"):\n",
    "    print(f\"MY shirt size is {size} having following text on it: {message}.\")\n",
    "    \n",
    "    \n",
    "    \n",
    "make_shirt()"
   ]
  },
  {
   "cell_type": "code",
   "execution_count": 75,
   "metadata": {},
   "outputs": [
    {
     "name": "stdout",
     "output_type": "stream",
     "text": [
      "My shirt size is small and I LOVE PYTHON is printed on it.\n"
     ]
    }
   ],
   "source": [
    "def make_shirt(size, message = \"I Love Python\"):\n",
    "    print(f\"My shirt size is {size} and {message.upper()} is printed on it.\")\n",
    "    \n",
    "    \n",
    "make_shirt(\"small\")"
   ]
  },
  {
   "cell_type": "code",
   "execution_count": 76,
   "metadata": {},
   "outputs": [
    {
     "name": "stdout",
     "output_type": "stream",
     "text": [
      "My shirt size is 35 and I LOVE PYTHON is printed on it.\n"
     ]
    }
   ],
   "source": [
    "def make_shirt(size, message = \"I LOve Python\"):\n",
    "    print(f\"My shirt size is {size} and {message.upper()} is printed on it.\")\n",
    "    \n",
    "    \n",
    "make_shirt(35)"
   ]
  },
  {
   "cell_type": "code",
   "execution_count": 77,
   "metadata": {},
   "outputs": [
    {
     "name": "stdout",
     "output_type": "stream",
     "text": [
      "The Gujranwala city is in Pakistan.\n"
     ]
    }
   ],
   "source": [
    "# 8-5\n",
    "\n",
    "def describe_city(name, country):\n",
    "    print(f\"The {name} city is in {country}.\")\n",
    "    \n",
    "    \n",
    "describe_city(\"Gujranwala\", \"Pakistan\")"
   ]
  },
  {
   "cell_type": "code",
   "execution_count": 80,
   "metadata": {},
   "outputs": [
    {
     "name": "stdout",
     "output_type": "stream",
     "text": [
      "The Islamabad city is in Pakistan.\n",
      "The Karachi city is in Pakistan.\n",
      "The Yew Yark city is in America.\n"
     ]
    }
   ],
   "source": [
    "def describe_city(name, country = \"Pakistan\"):\n",
    "    print(f\"The {name} city is in {country}.\")\n",
    "    \n",
    "describe_city(\"Islamabad\")\n",
    "describe_city(\"Karachi\")\n",
    "describe_city(\"Yew Yark\", \"America\")"
   ]
  },
  {
   "cell_type": "markdown",
   "metadata": {},
   "source": [
    "# RETURN VALUES \n",
    "* A function doesn’t always have to display its output directly. Instead, it can \n",
    "process some data and then return a value or set of values. The value the \n",
    "function returns is called a return value. The return statement takes a value \n",
    "from inside a function and sends it back to the line that called the function. Return values allow you to move much of your program’s grunt \n",
    "work into functions, which can simplify the body of your program."
   ]
  },
  {
   "cell_type": "markdown",
   "metadata": {},
   "source": [
    " # RETURNING A SIMPLE VALUE\n",
    " * Let’s look at a function that takes a first and last name, and returns a neatly \n",
    "formatted full name:"
   ]
  },
  {
   "cell_type": "code",
   "execution_count": 85,
   "metadata": {},
   "outputs": [
    {
     "data": {
      "text/plain": [
       "'TAHIR ABBAS'"
      ]
     },
     "execution_count": 85,
     "metadata": {},
     "output_type": "execute_result"
    }
   ],
   "source": [
    "def get_formatted_name(first_name, last_name):\n",
    "    \"\"\"Return a full name, neatly formatted\"\"\"\n",
    "    full_name = f\"{first_name} {last_name}\"\n",
    "    return full_name.upper()\n",
    "\n",
    "get_formatted_name(\"Tahir\", \"Abbas\")"
   ]
  },
  {
   "cell_type": "markdown",
   "metadata": {},
   "source": [
    "# MAKING AN ARGUMENT OPTIONAL\n",
    "* To make the middle name optional, we can give the middle_name argument \n",
    "an empty default value and ignore the argument unless the user provides a \n",
    "value. To make get_formatted_name() work without a middle name, we set the \n",
    "default value of middle_name to an empty string and move it to the end of the \n",
    "list of parameters"
   ]
  },
  {
   "cell_type": "code",
   "execution_count": 96,
   "metadata": {},
   "outputs": [
    {
     "data": {
      "text/plain": [
       "'TAHIR   ABBAS'"
      ]
     },
     "execution_count": 96,
     "metadata": {},
     "output_type": "execute_result"
    }
   ],
   "source": [
    "def get_formatted_name(first_name, last_name, middle_name = \" \"):\n",
    "    \"\"\"Return a full name neatly formatted\"\"\"\n",
    "    if middle_name:\n",
    "        full_name = f\"{first_name} {middle_name} {last_name}\"\n",
    "    else:\n",
    "        full_name = f\"{full_name} {last_name}\"\n",
    "    return full_name.upper()\n",
    "    \n",
    "    \n",
    "get_formatted_name(\"Tahir\", \"Abbas\")                            # Person having first and last name.\n",
    " \n",
    "    "
   ]
  },
  {
   "cell_type": "code",
   "execution_count": 99,
   "metadata": {},
   "outputs": [
    {
     "data": {
      "text/plain": [
       "'TAHIR ABBAS KHAN'"
      ]
     },
     "execution_count": 99,
     "metadata": {},
     "output_type": "execute_result"
    }
   ],
   "source": [
    "def get_formated_name(first_name, last_name, middle_name = \" \"):\n",
    "    \"\"\"Return a full name formatted neatly \"\"\"\n",
    "    if middle_name:\n",
    "        full_name = f\"{first_name} {middle_name} {last_name}\"\n",
    "    else:\n",
    "        full_name = f\"{first_name} {last_name}\"\n",
    "    return full_name.upper()\n",
    "\n",
    "get_formated_name(\"Tahir\", \"Khan\", \"Abbas\")                 # Person having first, middle and the last name."
   ]
  }
 ],
 "metadata": {
  "kernelspec": {
   "display_name": "Python 3",
   "language": "python",
   "name": "python3"
  },
  "language_info": {
   "codemirror_mode": {
    "name": "ipython",
    "version": 3
   },
   "file_extension": ".py",
   "mimetype": "text/x-python",
   "name": "python",
   "nbconvert_exporter": "python",
   "pygments_lexer": "ipython3",
   "version": "3.12.7"
  }
 },
 "nbformat": 4,
 "nbformat_minor": 2
}
