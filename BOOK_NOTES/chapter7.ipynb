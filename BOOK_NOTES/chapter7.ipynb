{
 "cells": [
  {
   "cell_type": "markdown",
   "metadata": {},
   "source": [
    "# USER INPUT AND WHILE LOOPS "
   ]
  },
  {
   "cell_type": "markdown",
   "metadata": {},
   "source": [
    "# 1. HOW THE INPUT( ) FUNCTION WORKS \n",
    "*  The input() function pauses your program and waits for the user to enter \n",
    "some text. Once Python receives the user’s input, it assigns that input to a \n",
    "variable to make it convenient for you to work with.\n",
    "*  For example, the following program asks the user to enter user name, \n",
    "then displays that message back to the user :"
   ]
  },
  {
   "cell_type": "code",
   "execution_count": 3,
   "metadata": {},
   "outputs": [
    {
     "name": "stdout",
     "output_type": "stream",
     "text": [
      "TAHIR ABBAS\n"
     ]
    }
   ],
   "source": [
    "message = input(\"Enter Your Name:  \")\n",
    "print(message)"
   ]
  },
  {
   "cell_type": "code",
   "execution_count": 1,
   "metadata": {},
   "outputs": [
    {
     "name": "stdout",
     "output_type": "stream",
     "text": [
      "TAHIR ABBAS\n"
     ]
    }
   ],
   "source": [
    "# Sometimes, you want to write a prompt that is longer than one line, you might want to tell the user why you are asking for certain information,\n",
    "# in order to do so use the following method.\n",
    "\n",
    "\n",
    "prompt = \"If you share your name, we will personalize the message you see .\"\n",
    "prompt = prompt + \"\\n What is your name?\"\n",
    "name = input(prompt)\n",
    "print(name)"
   ]
  },
  {
   "cell_type": "markdown",
   "metadata": {},
   "source": [
    "# 2. USING INT( ) TO ACCEPT THE NUMERICAL VALUES "
   ]
  },
  {
   "cell_type": "code",
   "execution_count": 8,
   "metadata": {},
   "outputs": [
    {
     "name": "stdout",
     "output_type": "stream",
     "text": [
      "20\n"
     ]
    }
   ],
   "source": [
    " # When you require integer input from the user, simple without comparing the input with any other value, python will return the output without any error.\n",
    " # But if you require integer input from the user, and you are going to compare such input using if statement, it will result in an error (see cell 2), \n",
    " # the reason is this that you are going to compare a string with an integer, to overcome such problem convert your input variable that is \n",
    " # string into integer as given below in 3rd cell.\n",
    "\n",
    "\n",
    "\n",
    "\n",
    "age = input(\"Enter Your Age: \")                   \n",
    "print(age)"
   ]
  },
  {
   "cell_type": "code",
   "execution_count": 14,
   "metadata": {},
   "outputs": [
    {
     "name": "stdout",
     "output_type": "stream",
     "text": [
      "17\n"
     ]
    },
    {
     "ename": "TypeError",
     "evalue": "'>=' not supported between instances of 'str' and 'int'",
     "output_type": "error",
     "traceback": [
      "\u001b[1;31m---------------------------------------------------------------------------\u001b[0m",
      "\u001b[1;31mTypeError\u001b[0m                                 Traceback (most recent call last)",
      "Cell \u001b[1;32mIn[14], line 3\u001b[0m\n\u001b[0;32m      1\u001b[0m age \u001b[38;5;241m=\u001b[39m \u001b[38;5;28minput\u001b[39m(\u001b[38;5;124m\"\u001b[39m\u001b[38;5;124mEnter Your Age: \u001b[39m\u001b[38;5;124m\"\u001b[39m)\n\u001b[0;32m      2\u001b[0m \u001b[38;5;28mprint\u001b[39m(age)\n\u001b[1;32m----> 3\u001b[0m \u001b[38;5;28;01mif\u001b[39;00m \u001b[43mage\u001b[49m\u001b[43m \u001b[49m\u001b[38;5;241;43m>\u001b[39;49m\u001b[38;5;241;43m=\u001b[39;49m\u001b[43m \u001b[49m\u001b[38;5;241;43m18\u001b[39;49m:\n\u001b[0;32m      4\u001b[0m     \u001b[38;5;28mprint\u001b[39m(\u001b[38;5;124m\"\u001b[39m\u001b[38;5;130;01m\\n\u001b[39;00m\u001b[38;5;124m You are  Eligible\u001b[39m\u001b[38;5;124m\"\u001b[39m)\n\u001b[0;32m      5\u001b[0m \u001b[38;5;28;01melse\u001b[39;00m:\n",
      "\u001b[1;31mTypeError\u001b[0m: '>=' not supported between instances of 'str' and 'int'"
     ]
    }
   ],
   "source": [
    "age = input(\"Enter Your Age: \")\n",
    "print(age)\n",
    "if age >= 18:\n",
    "    print(\"\\n You are  Eligible\")\n",
    "else:\n",
    "    print(\"\\n We are sorry, you are not eligible\")\n"
   ]
  },
  {
   "cell_type": "code",
   "execution_count": 17,
   "metadata": {},
   "outputs": [
    {
     "name": "stdout",
     "output_type": "stream",
     "text": [
      "17\n",
      "Sorry, you cannot proceed, as you are not eligible.\n"
     ]
    }
   ],
   "source": [
    "age = input(\"Enter Your Age: \")\n",
    "age = int(age)\n",
    "print(age)\n",
    "if age >= 18:\n",
    "    print(\"\\n You are Eligible.\")\n",
    "else:\n",
    "    print(\"Sorry, you cannot proceed, as you are not eligible.\")"
   ]
  },
  {
   "cell_type": "code",
   "execution_count": 18,
   "metadata": {},
   "outputs": [
    {
     "name": "stdout",
     "output_type": "stream",
     "text": [
      "18\n",
      "You are eligible.\n"
     ]
    }
   ],
   "source": [
    "age = input(\"Enter Your Age: \")\n",
    "age = int(age)\n",
    "print(age)\n",
    "if age >= 18:\n",
    "    print(\"You are eligible.\")\n",
    "else: \n",
    "    print(\"Sorry, you cannot proceed, as you not eligible.\")"
   ]
  },
  {
   "cell_type": "markdown",
   "metadata": {},
   "source": [
    "# THE MODULO OPERATOR ( % )\n",
    "*  A useful tool for working with numerical information is the modulo operator (%), \n",
    "which divides one number by another number and returns the remainder."
   ]
  },
  {
   "cell_type": "code",
   "execution_count": 19,
   "metadata": {},
   "outputs": [
    {
     "data": {
      "text/plain": [
       "1"
      ]
     },
     "execution_count": 19,
     "metadata": {},
     "output_type": "execute_result"
    }
   ],
   "source": [
    "4%3"
   ]
  },
  {
   "cell_type": "code",
   "execution_count": 21,
   "metadata": {},
   "outputs": [
    {
     "data": {
      "text/plain": [
       "0"
      ]
     },
     "execution_count": 21,
     "metadata": {},
     "output_type": "execute_result"
    }
   ],
   "source": [
    "2%1"
   ]
  },
  {
   "cell_type": "code",
   "execution_count": 6,
   "metadata": {},
   "outputs": [
    {
     "name": "stdout",
     "output_type": "stream",
     "text": [
      "\n",
      " The number 10 is Even. \n"
     ]
    }
   ],
   "source": [
    "number = input(\"Enter the number and i will tell you whether the number is even or odd\")\n",
    "number =  int(number)\n",
    "# print(number)\n",
    "if number %2 == 0:\n",
    "    print(f\"\\n The number {number} is Even. \")\n",
    "else:\n",
    "    print(f\"\\n The number {number} is Odd.\")\n",
    "    "
   ]
  },
  {
   "cell_type": "code",
   "execution_count": 29,
   "metadata": {},
   "outputs": [
    {
     "name": "stdout",
     "output_type": "stream",
     "text": [
      "\n",
      " The number 3 is Odd.\n"
     ]
    }
   ],
   "source": [
    "number = input(\"Enter the number and i will tell you whether the number is even or odd\")\n",
    "number = int(number)\n",
    "if number %2 == 0:\n",
    "    print(f\"\\n The number {number} is Even.\")\n",
    "else:\n",
    "    print(f\"\\n The number {number} is Odd.\")"
   ]
  },
  {
   "cell_type": "markdown",
   "metadata": {},
   "source": [
    "# EXERCISE SOLUTION"
   ]
  },
  {
   "cell_type": "code",
   "execution_count": 33,
   "metadata": {},
   "outputs": [
    {
     "name": "stdout",
     "output_type": "stream",
     "text": [
      "Let me see if i can find you a Rolls Roys.\n"
     ]
    }
   ],
   "source": [
    " # 7-1\n",
    "\n",
    "Rental_car = input(\"What kind of rental car you are looking for\")\n",
    "message = f\"Let me see if i can find you a {Rental_car}.\"\n",
    "print(message)"
   ]
  },
  {
   "cell_type": "code",
   "execution_count": 38,
   "metadata": {},
   "outputs": [
    {
     "name": "stdout",
     "output_type": "stream",
     "text": [
      "8\n",
      "Your table is ready.\n"
     ]
    }
   ],
   "source": [
    "# 7-2 \n",
    "\n",
    "dinner = input(\"Tell me how many people are in your group?\")\n",
    "dinner = int(dinner)\n",
    "print(dinner)\n",
    "message = \" You will have to wait for the table. \"\n",
    "if dinner > 8:\n",
    "    print(message)\n",
    "else:\n",
    "    print(\"Your table is ready.\")"
   ]
  },
  {
   "cell_type": "code",
   "execution_count": 37,
   "metadata": {},
   "outputs": [
    {
     "name": "stdout",
     "output_type": "stream",
     "text": [
      "10\n",
      "You will have to wait for the table.\n"
     ]
    }
   ],
   "source": [
    "dinner = input(\"Tell me how many people are in your group?\")\n",
    "dinner = int(dinner)\n",
    "print(dinner)\n",
    "message = \"You will have to wait for the table.\"\n",
    "if dinner > 8:\n",
    "    print(message)\n",
    "else:\n",
    "    print(\"Your table is ready.\")"
   ]
  },
  {
   "cell_type": "code",
   "execution_count": 7,
   "metadata": {},
   "outputs": [
    {
     "name": "stdout",
     "output_type": "stream",
     "text": [
      "This number 100 is multiple of 10.\n"
     ]
    }
   ],
   "source": [
    "# 7-3\n",
    "\n",
    "number = input(\"Give me a number and i will tell you whether the number is multiple of 10 or not.\")\n",
    "number = int(number)\n",
    "if number %10 == 0:\n",
    "    print(f\"This number {number} is multiple of 10.\")\n",
    "else:\n",
    "    print(f\"This number {number} is not the multiple of 10.\")"
   ]
  },
  {
   "cell_type": "code",
   "execution_count": 43,
   "metadata": {},
   "outputs": [
    {
     "name": "stdout",
     "output_type": "stream",
     "text": [
      "This number 15 is not the multiple of 10.\n"
     ]
    }
   ],
   "source": [
    "number = input(\"Give me a number and i will tell you whether the number is multiple of 10 or not.\")\n",
    "number = int(number)\n",
    "if number %10 == 0:\n",
    "    print(f\"This number {number} is multiple of 10.\")\n",
    "else:\n",
    "    print(f\"This number {number} is not the multiple of 10.\")"
   ]
  },
  {
   "cell_type": "markdown",
   "metadata": {},
   "source": [
    "# WHILE LOOP\n",
    "*  The for loop takes a collection of items and executes a block of code once \n",
    "for each item in the collection. In contrast, the while loop runs as long as, or \n",
    "while, a certain condition is true"
   ]
  },
  {
   "cell_type": "code",
   "execution_count": 10,
   "metadata": {},
   "outputs": [
    {
     "name": "stdout",
     "output_type": "stream",
     "text": [
      "1\n",
      "2\n",
      "3\n",
      "4\n",
      "5\n"
     ]
    }
   ],
   "source": [
    "i = 1                                                      # Initialization of loop.\n",
    "while i <= 5:                                              # Termination of loop.\n",
    "    print(i)\n",
    "    i = i+1                                                # Updation in loop."
   ]
  },
  {
   "cell_type": "markdown",
   "metadata": {},
   "source": [
    "# LETTING THE USER CHOSE WHEN TO QUIT"
   ]
  },
  {
   "cell_type": "code",
   "execution_count": 2,
   "metadata": {},
   "outputs": [
    {
     "name": "stdout",
     "output_type": "stream",
     "text": [
      "Hello!\n",
      "How are you?\n",
      "What are you doing?\n",
      "Quit\n"
     ]
    }
   ],
   "source": [
    "prompt = \"\\tTell me something and i will repeat back to you:\"\n",
    "prompt = prompt + \"\\t Enter 'Quit' to end the program.\"\n",
    "\n",
    "message = \" \"\n",
    "while message != \"Quit\":                                   # Cell will continue until we did not write Quit in the input message, all the messages we write before Quit will print, but cell will never end or stop until we input a Quit message.\n",
    "    message = input(prompt)\n",
    "    print(message)"
   ]
  },
  {
   "cell_type": "markdown",
   "metadata": {},
   "source": [
    "# USING A FLAG"
   ]
  },
  {
   "cell_type": "code",
   "execution_count": 4,
   "metadata": {},
   "outputs": [
    {
     "name": "stdout",
     "output_type": "stream",
     "text": [
      "Hello!\n",
      "\n",
      "How are you?\n",
      "What are you doing?\n"
     ]
    }
   ],
   "source": [
    "active = True \n",
    "while active:\n",
    "    message = input(prompt)\n",
    "    if message == \"Quit\":\n",
    "        active = False\n",
    "    else:\n",
    "        print(message)\n",
    "        "
   ]
  },
  {
   "cell_type": "markdown",
   "metadata": {},
   "source": [
    "# USING BREAK TO EXIT THE WHILE LOOP\n",
    "* Break is used to end the while loop, when the certain specified condition is True."
   ]
  },
  {
   "cell_type": "code",
   "execution_count": 6,
   "metadata": {},
   "outputs": [
    {
     "name": "stdout",
     "output_type": "stream",
     "text": [
      "1\n",
      "2\n",
      "3\n"
     ]
    }
   ],
   "source": [
    "i = 1                                                  # Initialization of loop.\n",
    "while i <= 5:                                          # Termination of the loop.\n",
    "    print(i)\n",
    "    if i == 3:                                         \n",
    "        break                                          # Use of break to end the loop, when the specified condition in if statement is True.\n",
    "    i = i+1                                            # Updation in loop by number."
   ]
  },
  {
   "cell_type": "code",
   "execution_count": 8,
   "metadata": {},
   "outputs": [
    {
     "name": "stdout",
     "output_type": "stream",
     "text": [
      "1\n",
      "2\n",
      "3\n",
      "4\n",
      "5\n",
      "6\n",
      "7\n"
     ]
    }
   ],
   "source": [
    "i = 1                                                # Initialization of the loop.\n",
    "while i <= 10:                                       # Termination of the loop.\n",
    "    print(i)\n",
    "    if i ==7:\n",
    "        break                                        #Use of break to end the loop, when the specified condition in the if statement is True. \n",
    "    i = i+1                                          # Updation in loop by number."
   ]
  },
  {
   "cell_type": "code",
   "execution_count": 11,
   "metadata": {},
   "outputs": [
    {
     "name": "stdout",
     "output_type": "stream",
     "text": [
      "1\n",
      "3\n",
      "5\n",
      "7\n",
      "9\n",
      "11\n",
      "13\n",
      "15\n"
     ]
    }
   ],
   "source": [
    "i = 1                                              # Initialization in the loop.\n",
    "while i <= 20:                                     # Termination of the loop.\n",
    "    print(i)\n",
    "    if i == 15:                                    \n",
    "        break                                      # Use of break to end the loop, when the specified condition in the if statement is True.\n",
    "    i = i+2                                        # Updation in loop by number."
   ]
  },
  {
   "cell_type": "markdown",
   "metadata": {},
   "source": [
    "# USING CONTINUE IN THE LOOP\n",
    "* Continue in the loop is used to skip the specified number using the i f statement."
   ]
  },
  {
   "cell_type": "code",
   "execution_count": 16,
   "metadata": {},
   "outputs": [
    {
     "name": "stdout",
     "output_type": "stream",
     "text": [
      "1\n",
      "3\n",
      "5\n",
      "7\n",
      "9\n"
     ]
    }
   ],
   "source": [
    "i = 0                              # Initialization of the loop.\n",
    "while i < 10:                      # Termination of the loop.\n",
    "    i = i+1                        # Updation in loop by number.\n",
    "    if i%2 == 0:                   # Use of if condition along with continue to skip the even numbers and print odd numbers.\n",
    "        continue\n",
    "    print(i)"
   ]
  },
  {
   "cell_type": "code",
   "execution_count": 17,
   "metadata": {},
   "outputs": [
    {
     "name": "stdout",
     "output_type": "stream",
     "text": [
      "2\n",
      "4\n",
      "6\n",
      "8\n",
      "10\n"
     ]
    }
   ],
   "source": [
    "i = 1                                # Initialization of the loop.\n",
    "while i < 10:                        # Termination of the loop.\n",
    "    i = i+1                          # Updation in loop by number.\n",
    "    if i% 2!= 0:                     # Use of continue along with if statement to print even numbers and skip odd numbers.\n",
    "        continue\n",
    "    print(i)"
   ]
  },
  {
   "cell_type": "markdown",
   "metadata": {},
   "source": [
    "# INFINITE LOOPS\n",
    "* Infinite loop are such loops that does not end...."
   ]
  },
  {
   "cell_type": "code",
   "execution_count": null,
   "metadata": {},
   "outputs": [],
   "source": [
    "i = 1                                           # Initialization of the loop.\n",
    "while i <= 5:                                   # Termination of the loop.\n",
    "    print(i)\n",
    "                                                # Here we forget to add the value by which loop should update, so loop will continue and never stop, in order to stop click in the output terminal and pres ctr+C, or simply delete the terminal. \n",
    "    \n",
    "    "
   ]
  },
  {
   "cell_type": "markdown",
   "metadata": {},
   "source": [
    "# EXERCISE SOLUTION"
   ]
  },
  {
   "cell_type": "code",
   "execution_count": 30,
   "metadata": {},
   "outputs": [
    {
     "name": "stdout",
     "output_type": "stream",
     "text": [
      "I'll add Red Chilli to your pizza!\n",
      "I'll add Green Chilli to your pizza!\n",
      "I'll add Chicken to your pizza!\n",
      "\n",
      "Your pizza will have the following toppings:\n",
      "- Red Chilli\n",
      "- Green Chilli\n",
      "- Chicken\n"
     ]
    }
   ],
   "source": [
    "# Initialize an empty list to store toppings\n",
    "toppings = []\n",
    "\n",
    "# Start the loop\n",
    "while True:\n",
    "    topping = input(\"Enter a pizza topping (or 'quit' to finish): \")\n",
    "    \n",
    "    # Check if the user wants to quit\n",
    "    if topping.lower() == 'quit':\n",
    "        break\n",
    "    \n",
    "    # Add the topping to the list and print a confirmation message\n",
    "    toppings.append(topping)\n",
    "    print(f\"I'll add {topping} to your pizza!\")\n",
    "\n",
    "# Optionally, print the final list of toppings\n",
    "print(\"\\nYour pizza will have the following toppings:\")\n",
    "for topping in toppings:\n",
    "    print(f\"- {topping}\")\n"
   ]
  },
  {
   "cell_type": "code",
   "execution_count": 35,
   "metadata": {},
   "outputs": [
    {
     "name": "stdout",
     "output_type": "stream",
     "text": [
      "Your ticket cost is 15$.\n"
     ]
    }
   ],
   "source": [
    "prompt = input(\"Enter Your Age: \")\n",
    "prompt = int(prompt)\n",
    "if prompt <3:\n",
    "    print(\"Your ticket is free.\")\n",
    "elif prompt >3 and prompt <13:\n",
    "    print(\"Your ticket cost is 10$.\")\n",
    "else:\n",
    "    print(\"Your ticket cost is 15$.\")\n",
    "    "
   ]
  },
  {
   "cell_type": "code",
   "execution_count": 48,
   "metadata": {},
   "outputs": [
    {
     "data": {
      "text/plain": [
       "193245"
      ]
     },
     "execution_count": 48,
     "metadata": {},
     "output_type": "execute_result"
    }
   ],
   "source": [
    "def addition(a,b):\n",
    "    sum = a+b\n",
    "    return sum\n",
    "\n",
    "addition(94898,98347)"
   ]
  }
 ],
 "metadata": {
  "kernelspec": {
   "display_name": "Python 3",
   "language": "python",
   "name": "python3"
  },
  "language_info": {
   "codemirror_mode": {
    "name": "ipython",
    "version": 3
   },
   "file_extension": ".py",
   "mimetype": "text/x-python",
   "name": "python",
   "nbconvert_exporter": "python",
   "pygments_lexer": "ipython3",
   "version": "3.12.7"
  }
 },
 "nbformat": 4,
 "nbformat_minor": 2
}
