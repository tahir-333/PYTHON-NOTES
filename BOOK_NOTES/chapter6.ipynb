{
 "cells": [
  {
   "cell_type": "markdown",
   "metadata": {},
   "source": [
    "# DICTIONARIES\n",
    "* In Python, dictionaries are mutable data structures that allow you to store key-value pairs.\n",
    "* Dictionary can be created using the dict( ) constructor or curly braces' { }'. \n",
    "* Once you have created a dictionary, you can add, remove, or update elements using the methods dict. update( ), dict. pop( ), and dict.\n",
    "* A dictionary in Python is a collection of key-value pairs.\n",
    "* Each key is connected to a value, and you can use a key to access the value associated with that key.\n",
    "* A key’s value can be a number, a string, a list, or even another dictionary.\n",
    "* In fact, you can use any object that you can create in Python as a value in a dictionary.\n",
    "*  A key-value pair is a set of values associated with each other.\n",
    "* When you provide a key, Python returns the value associated with that key. \n",
    "* Every key is connected to its value by a colon, and individual key-value pairs are separated by commas. \n",
    "* You can store as many key-value pairs as you want in a dictionary."
   ]
  },
  {
   "cell_type": "markdown",
   "metadata": {},
   "source": [
    "# A SIMPLE DICTIONARY"
   ]
  },
  {
   "cell_type": "code",
   "execution_count": 5,
   "metadata": {},
   "outputs": [
    {
     "name": "stdout",
     "output_type": "stream",
     "text": [
      "{'color': 'green', 'points': 5}\n"
     ]
    }
   ],
   "source": [
    "alien_0 = {\"color\": \"green\", \"points\": 5 }\n",
    "print(alien_0)\n"
   ]
  },
  {
   "cell_type": "markdown",
   "metadata": {},
   "source": [
    "# ACCESSING VALUES IN DICTIONARY"
   ]
  },
  {
   "cell_type": "code",
   "execution_count": 8,
   "metadata": {},
   "outputs": [
    {
     "name": "stdout",
     "output_type": "stream",
     "text": [
      "green\n",
      "5\n"
     ]
    }
   ],
   "source": [
    "alien_0 = {\"color\": \"green\", \"points\": 5}\n",
    "print(alien_0[\"color\"])\n",
    "print(alien_0[\"points\"])"
   ]
  },
  {
   "cell_type": "code",
   "execution_count": 11,
   "metadata": {},
   "outputs": [
    {
     "name": "stdout",
     "output_type": "stream",
     "text": [
      "You have just earned 5 points.\n"
     ]
    }
   ],
   "source": [
    "alien_0 = {\"color\": \"green\", \"points\": 5}\n",
    "new_points = alien_0[\"points\"]\n",
    "print(f\"You have just earned {new_points} points.\")"
   ]
  },
  {
   "cell_type": "markdown",
   "metadata": {},
   "source": [
    "# ADDING NEW KEY VALUE PAIRS"
   ]
  },
  {
   "cell_type": "code",
   "execution_count": 16,
   "metadata": {},
   "outputs": [
    {
     "name": "stdout",
     "output_type": "stream",
     "text": [
      "{'color': 'green', 'points': 5}\n",
      "{'color': 'green', 'points': 5, 'x_position': 0, 'y_position': 25}\n"
     ]
    }
   ],
   "source": [
    "alien_0 = {\"color\": \"green\", \"points\": 5}\n",
    "print(alien_0)\n",
    "alien_0[\"x_position\"] = 0\n",
    "alien_0[\"y_position\"] = 25\n",
    "print(alien_0)"
   ]
  },
  {
   "cell_type": "markdown",
   "metadata": {},
   "source": [
    "# STARTING WITH AN EMPTY DICTIONARY"
   ]
  },
  {
   "cell_type": "code",
   "execution_count": 20,
   "metadata": {},
   "outputs": [
    {
     "name": "stdout",
     "output_type": "stream",
     "text": [
      "{'color': 'green', 'points': 5}\n"
     ]
    }
   ],
   "source": [
    "alien_0 = { }\n",
    "alien_0[\"color\"] = \"green\"\n",
    "alien_0[\"points\"] = 5\n",
    "print(alien_0)\n"
   ]
  },
  {
   "cell_type": "markdown",
   "metadata": {},
   "source": [
    "# MODIFYING VALUES IN THE DICTIONARY"
   ]
  },
  {
   "cell_type": "code",
   "execution_count": 26,
   "metadata": {},
   "outputs": [
    {
     "name": "stdout",
     "output_type": "stream",
     "text": [
      "The Alien's color is green.\n",
      "Now the Alien's color is Yellow.\n"
     ]
    }
   ],
   "source": [
    "alien_0 = {\"color\": \"green\"}\n",
    "print(f\"The Alien's color is {alien_0[\"color\"]}.\")\n",
    "alien_0[\"color\"] = \"Yellow\"\n",
    "print(f\"Now the Alien's color is {alien_0[\"color\"]}.\")"
   ]
  },
  {
   "cell_type": "code",
   "execution_count": 34,
   "metadata": {},
   "outputs": [
    {
     "name": "stdout",
     "output_type": "stream",
     "text": [
      "The original position: 0.\n",
      "The New Position: 2.\n"
     ]
    }
   ],
   "source": [
    "alien_0 = {\"x_position\": 0, \"y_position\": 25, \"speed\": \"medium\"}\n",
    "print(f\"The original position: {alien_0[\"x_position\"]}.\")\n",
    "if alien_0[\"speed\"] == \"slow\":\n",
    "    x_increment = 1\n",
    "elif alien_0[\"speed\"] == \"medium\":\n",
    "    x_increment = 2\n",
    "else:\n",
    "    x_increment = 3\n",
    "alien_0[\"x_position\"] = alien_0[\"x_position\"] + x_increment\n",
    "print(f\"The New Position: {alien_0[\"x_position\"]}.\")"
   ]
  },
  {
   "cell_type": "code",
   "execution_count": 35,
   "metadata": {},
   "outputs": [
    {
     "name": "stdout",
     "output_type": "stream",
     "text": [
      "The original position: 0.\n",
      "The New Position: 3.\n"
     ]
    }
   ],
   "source": [
    "alien_0 = {\"x_position\": 0, \"y_position\": 25, \"speed\": \"medium\"}\n",
    "print(f\"The original position: {alien_0[\"x_position\"]}.\")\n",
    "if alien_0[\"speed\"] == \"slow\":\n",
    "    x_increment = 1\n",
    "elif alien_0[\"speed\"] == \"fast\":\n",
    "    x_increment = 2\n",
    "else:\n",
    "    x_increment = 3\n",
    "alien_0[\"x_position\"] = alien_0[\"x_position\"] + x_increment\n",
    "print(f\"The New Position: {alien_0[\"x_position\"]}.\")"
   ]
  },
  {
   "cell_type": "markdown",
   "metadata": {},
   "source": [
    "# REMOVING KEY-VALUE PAIRS"
   ]
  },
  {
   "cell_type": "code",
   "execution_count": 43,
   "metadata": {},
   "outputs": [
    {
     "name": "stdout",
     "output_type": "stream",
     "text": [
      "{'color': 'green', 'points': 5}\n",
      "{'color': 'green'}\n"
     ]
    }
   ],
   "source": [
    "alien_0 = {\"color\": \"green\", \"points\": 5}\n",
    "print(alien_0)\n",
    "del alien_0[\"points\"]\n",
    "print(alien_0)"
   ]
  },
  {
   "cell_type": "markdown",
   "metadata": {},
   "source": [
    "# A DICTIONARY OF SIMILAR OBJECTS"
   ]
  },
  {
   "cell_type": "code",
   "execution_count": 46,
   "metadata": {},
   "outputs": [
    {
     "name": "stdout",
     "output_type": "stream",
     "text": [
      "Tahir's Favorite Language is PYTHON.\n"
     ]
    }
   ],
   "source": [
    "favorite_lang = {\n",
    "    \"Tahir\": \"Python\",\n",
    "    \"Usama\": \"C++\",\n",
    "    \"Aqeel\": \"Rust\",\n",
    "    \"Aslam\": \"Python\"\n",
    "}\n",
    "language = favorite_lang[\"Tahir\"].upper()\n",
    "print(f\"Tahir's Favorite Language is {language}.\")"
   ]
  },
  {
   "cell_type": "markdown",
   "metadata": {},
   "source": [
    "# USING GET TO ACCESS THE VALUES "
   ]
  },
  {
   "cell_type": "code",
   "execution_count": 55,
   "metadata": {},
   "outputs": [
    {
     "name": "stdout",
     "output_type": "stream",
     "text": [
      "{'color': 'green', 'speed': 'slow'}\n"
     ]
    },
    {
     "ename": "KeyError",
     "evalue": "'points'",
     "output_type": "error",
     "traceback": [
      "\u001b[1;31m---------------------------------------------------------------------------\u001b[0m",
      "\u001b[1;31mKeyError\u001b[0m                                  Traceback (most recent call last)",
      "Cell \u001b[1;32mIn[55], line 3\u001b[0m\n\u001b[0;32m      1\u001b[0m alien_0 \u001b[38;5;241m=\u001b[39m {\u001b[38;5;124m\"\u001b[39m\u001b[38;5;124mcolor\u001b[39m\u001b[38;5;124m\"\u001b[39m: \u001b[38;5;124m\"\u001b[39m\u001b[38;5;124mgreen\u001b[39m\u001b[38;5;124m\"\u001b[39m, \u001b[38;5;124m\"\u001b[39m\u001b[38;5;124mspeed\u001b[39m\u001b[38;5;124m\"\u001b[39m: \u001b[38;5;124m\"\u001b[39m\u001b[38;5;124mslow\u001b[39m\u001b[38;5;124m\"\u001b[39m}\n\u001b[0;32m      2\u001b[0m \u001b[38;5;28mprint\u001b[39m(alien_0)\n\u001b[1;32m----> 3\u001b[0m \u001b[38;5;28mprint\u001b[39m(\u001b[43malien_0\u001b[49m\u001b[43m[\u001b[49m\u001b[38;5;124;43m\"\u001b[39;49m\u001b[38;5;124;43mpoints\u001b[39;49m\u001b[38;5;124;43m\"\u001b[39;49m\u001b[43m]\u001b[49m)\n",
      "\u001b[1;31mKeyError\u001b[0m: 'points'"
     ]
    }
   ],
   "source": [
    "alien_0 = {\"color\": \"green\", \"speed\": \"slow\"}\n",
    "print(alien_0)\n",
    "print(alien_0[\"points\"])             # If you ask for the key value that does not actually exist in the dictionary, it will result the following error.\n",
    "                                     # In order to overcome such problems, use get () functions as given in the next cell."
   ]
  },
  {
   "cell_type": "code",
   "execution_count": 65,
   "metadata": {},
   "outputs": [
    {
     "name": "stdout",
     "output_type": "stream",
     "text": [
      "{'color': 'green', 'speed': 'slow'}\n",
      "No point value assigned.\n"
     ]
    }
   ],
   "source": [
    "alien_0 = {\"color\": \"green\", \"speed\": \"slow\"}\n",
    "print(alien_0)\n",
    "point_value = alien_0.get(\"points\", \"No point value assigned.\")            # If we specify the key and the value, it will give that in output, as in this case we get, No point value assigned as output.\n",
    "print(point_value)"
   ]
  },
  {
   "cell_type": "code",
   "execution_count": 73,
   "metadata": {},
   "outputs": [
    {
     "name": "stdout",
     "output_type": "stream",
     "text": [
      "{'color': 'green', 'speed': 'slow'}\n",
      "None\n"
     ]
    }
   ],
   "source": [
    "alien_0 = {\"color\": \"green\", \"speed\": \"slow\"}\n",
    "print(alien_0)\n",
    "point_value = alien_0.get(\"points\")               # If we does not specify the value of key, it will return None as output.\n",
    "print(point_value)                                # But if the specified key value exist in the dict, we will get that original value."
   ]
  },
  {
   "cell_type": "markdown",
   "metadata": {},
   "source": [
    "# EXERCISE SOLUTION\n"
   ]
  },
  {
   "cell_type": "code",
   "execution_count": 76,
   "metadata": {},
   "outputs": [
    {
     "name": "stdout",
     "output_type": "stream",
     "text": [
      "{'first-name': 'Tahir', 'last_name': 'Abbas', 'age': 20, 'city': 'Lahore'}\n"
     ]
    }
   ],
   "source": [
    "# 6-1\n",
    "\n",
    "information = {\n",
    "    \"first-name\": \"Tahir\",\n",
    "    \"last_name\": \"Abbas\",\n",
    "    \"age\" : 20,\n",
    "    \"city\": \"Lahore\"\n",
    "}\n",
    "print(information)"
   ]
  },
  {
   "cell_type": "code",
   "execution_count": 94,
   "metadata": {},
   "outputs": [
    {
     "name": "stdout",
     "output_type": "stream",
     "text": [
      "{'Tahir': 3, 'Usama': 5, 'Aqeel': 7, 'Aslam': 9, 'Asif': 0}\n",
      "Tahir's Favorite Number is 3.\n",
      "Usama's Favorite Number is 5.\n",
      "Aqeel's Favorite Number is 7.\n",
      "Aslam's Favorite Number is 9.\n",
      "Asif's Favorite Number is 0.\n"
     ]
    }
   ],
   "source": [
    "# 6-2 \n",
    "\n",
    "fav_numbers = {\n",
    "    \"Tahir\": 3,\n",
    "    \"Usama\": 5,\n",
    "    \"Aqeel\": 7,\n",
    "    \"Aslam\": 9,\n",
    "    \"Asif\": 0\n",
    "}\n",
    "print(fav_numbers)\n",
    "number_0 = fav_numbers[\"Tahir\"]\n",
    "number_1 = fav_numbers[\"Usama\"]\n",
    "number_2 = fav_numbers[\"Aqeel\"]\n",
    "number_3 = fav_numbers[\"Aslam\"]\n",
    "number_4 = fav_numbers[\"Asif\"]\n",
    "print(f\"Tahir's Favorite Number is {number_0}.\")\n",
    "print(f\"Usama's Favorite Number is {number_1}.\")\n",
    "print(f\"Aqeel's Favorite Number is {number_2}.\")\n",
    "print(f\"Aslam's Favorite Number is {number_3}.\")\n",
    "print(f\"Asif's Favorite Number is {number_4}.\")"
   ]
  },
  {
   "cell_type": "code",
   "execution_count": 96,
   "metadata": {},
   "outputs": [
    {
     "name": "stdout",
     "output_type": "stream",
     "text": [
      "list: A list is a data structure in Python that is a mutable, or changeable, ordered sequence of elements, represented by square brackets []\n",
      "tuple: Tuple are very similar to list, but are immutable, represented by parenthesis ()\n",
      "dictionary: A dictionary in Python is an unordered collection of data elements. A dictionary item has a key/value pair. A colon (:) separates each key from its value, commas divide the elements, and curly braces {} surround the entire thing.\n",
      "variables: Python variables are simply containers for storing data values. \n",
      "string: In Python, strings are used for representing textual data. A string is a sequence of characters enclosed in either single quotes ('') or double quotes (“”).\n"
     ]
    }
   ],
   "source": [
    "# 6-3\n",
    "\n",
    "Glossary = {\n",
    "    \"list\": \"A list is a data structure in Python that is a mutable, or changeable, ordered sequence of elements, represented by square brackets []\",\n",
    "    \"tuple\": \"Tuple are very similar to list, but are immutable, represented by parenthesis ()\",\n",
    "    \"dictionary\": \"A dictionary in Python is an unordered collection of data elements. A dictionary item has a key/value pair. A colon (:) separates each key from its value, commas divide the elements, and curly braces {} surround the entire thing.\",\n",
    "    \"variables\": \"Python variables are simply containers for storing data values. \",\n",
    "    \"string\": \"In Python, strings are used for representing textual data. A string is a sequence of characters enclosed in either single quotes ('') or double quotes (“”).\"\n",
    "    }\n",
    "for word, meaning in Glossary.items():\n",
    "    print(f\"{word}: {meaning}\")"
   ]
  },
  {
   "cell_type": "code",
   "execution_count": 4,
   "metadata": {},
   "outputs": [
    {
     "name": "stdout",
     "output_type": "stream",
     "text": [
      "list\n",
      "A list is a data structure in Python that is a mutable, or changeable, ordered sequence of elements, represented by square brackets []\n",
      "\n",
      "tuple\n",
      "Tuple are very similar to list, but are immutable, represented by parenthesis ()\n",
      "\n",
      "dictionary\n",
      "A dictionary in Python is an unordered collection of data elements. A dictionary item has a key/value pair. A colon (:) separates each key from its value, commas divide the elements, and curly braces {} surround the entire thing.\n",
      "\n",
      "variables\n",
      "Python variables are simply containers for storing data values. \n",
      "\n",
      "string\n",
      "In Python, strings are used for representing textual data. A string is a sequence of characters enclosed in either single quotes ('') or double quotes (“”).\n",
      "\n"
     ]
    }
   ],
   "source": [
    "Glossary = {\n",
    "    \"list\": \"A list is a data structure in Python that is a mutable, or changeable, ordered sequence of elements, represented by square brackets []\",\n",
    "    \"tuple\": \"Tuple are very similar to list, but are immutable, represented by parenthesis ()\",\n",
    "    \"dictionary\": \"A dictionary in Python is an unordered collection of data elements. A dictionary item has a key/value pair. A colon (:) separates each key from its value, commas divide the elements, and curly braces {} surround the entire thing.\",\n",
    "    \"variables\": \"Python variables are simply containers for storing data values. \",\n",
    "    \"string\": \"In Python, strings are used for representing textual data. A string is a sequence of characters enclosed in either single quotes ('') or double quotes (“”).\"\n",
    "    }\n",
    "for word, meaning in Glossary.items():\n",
    "    print(word)\n",
    "    print(meaning)\n",
    "    print()"
   ]
  },
  {
   "cell_type": "markdown",
   "metadata": {},
   "source": [
    "# LOOPING THROUGH ALL THE KEYS IN THE  DICTIONARY"
   ]
  },
  {
   "cell_type": "code",
   "execution_count": 103,
   "metadata": {},
   "outputs": [
    {
     "name": "stdout",
     "output_type": "stream",
     "text": [
      "{'name': 'Tahir', 'age': 20, 'education': 'FSC Pre Medical', 'city': 'Lahore'}\n",
      "name\n",
      "age\n",
      "education\n",
      "city\n"
     ]
    }
   ],
   "source": [
    "information = {\n",
    "    \"name\": \"Tahir\",\n",
    "    \"age\": 20,\n",
    "    \"education\": \"FSC Pre Medical\",\n",
    "    \"city\": \"Lahore\"\n",
    "}\n",
    "print(information)\n",
    "for keys in information.keys():\n",
    "    print(keys)"
   ]
  },
  {
   "cell_type": "markdown",
   "metadata": {},
   "source": [
    "# LOOPING THROUGH KEYS IN A PARTICULAR ORDER"
   ]
  },
  {
   "cell_type": "code",
   "execution_count": 108,
   "metadata": {},
   "outputs": [
    {
     "name": "stdout",
     "output_type": "stream",
     "text": [
      "{'name': 'Tahir Abbas', 'age': 20, 'education': 'FSC Pre Medical', 'school': 'GHSS'}\n",
      "age\n",
      "education\n",
      "name\n",
      "school\n"
     ]
    }
   ],
   "source": [
    "information = {\n",
    "    \"name\": \"Tahir Abbas\",\n",
    "    \"age\": 20,\n",
    "    \"education\": \"FSC Pre Medical\",\n",
    "    \"school\": \"GHSS\"\n",
    "}\n",
    "print(information)\n",
    "for keys in sorted(information.keys()):                             # Keys will arrange in alphabetical order.\n",
    "    print(keys)"
   ]
  },
  {
   "cell_type": "markdown",
   "metadata": {},
   "source": [
    "# LOOPING THROUGH ALL THE VALUES IN DICTIONARY"
   ]
  },
  {
   "cell_type": "code",
   "execution_count": 111,
   "metadata": {},
   "outputs": [
    {
     "name": "stdout",
     "output_type": "stream",
     "text": [
      "Python\n",
      "C++\n",
      "Java Script\n",
      "Python\n"
     ]
    }
   ],
   "source": [
    "fav_lang = {\n",
    "    \"Tahir\": \"Python\",\n",
    "    \"Usama\": \"C++\",\n",
    "    \"Aqeel\": \"Java Script\",\n",
    "    \"Aslam\": \"Python\"\n",
    "}\n",
    "for values in fav_lang.values():\n",
    "    print(values)"
   ]
  },
  {
   "cell_type": "code",
   "execution_count": 112,
   "metadata": {},
   "outputs": [
    {
     "name": "stdout",
     "output_type": "stream",
     "text": [
      "C++\n",
      "Java Script\n",
      "Python\n",
      "Python\n"
     ]
    }
   ],
   "source": [
    "fav_lang = {\n",
    "    \"Tahir\": \"Python\",\n",
    "    \"Usama\": \"C++\",\n",
    "    \"Aqeel\": \"Java Script\",\n",
    "    \"Aslam\": \"Python\"\n",
    "}\n",
    "for values in sorted(fav_lang.values()):                    # Looping through all the values in alphabetical order.\n",
    "    print(values)"
   ]
  },
  {
   "cell_type": "markdown",
   "metadata": {},
   "source": [
    "# USE OF SET\n",
    "* In python set is used to avoid duplication.\n",
    "* Sets are represented by curly braces as like dictionaries { }, and all the elements in the set are separated by comas."
   ]
  },
  {
   "cell_type": "code",
   "execution_count": 116,
   "metadata": {},
   "outputs": [
    {
     "name": "stdout",
     "output_type": "stream",
     "text": [
      "Java Script\n",
      "C++\n",
      "Python\n"
     ]
    }
   ],
   "source": [
    "fav_lang = {\n",
    "    \"Tahir\": \"Python\",\n",
    "    \"Usama\": \"C++\",\n",
    "    \"Aqeel\": \"Java Script\",\n",
    "    \"Aslam\": \"Python\"\n",
    "}\n",
    "for values in set(fav_lang.values()):\n",
    "    print(values)"
   ]
  },
  {
   "cell_type": "markdown",
   "metadata": {},
   "source": [
    "# LOOPING THROUGH ALL THE KEY-VALUE PAIRS (ITEMS)"
   ]
  },
  {
   "cell_type": "code",
   "execution_count": 119,
   "metadata": {},
   "outputs": [
    {
     "name": "stdout",
     "output_type": "stream",
     "text": [
      "TAHIR's Favorite Language is PYTHON.\n",
      "USAMA's Favorite Language is C++.\n",
      "AQEEL's Favorite Language is JAVA SCRIPT.\n",
      "ASLAM's Favorite Language is PYTHON.\n"
     ]
    }
   ],
   "source": [
    "fav_lang = {\n",
    "    \"Tahir\": \"Python\",\n",
    "    \"Usama\": \"C++\",\n",
    "    \"Aqeel\": \"Java Script\",\n",
    "    \"Aslam\": \"Python\"\n",
    "    }\n",
    "for key, value in fav_lang.items():\n",
    "    print(f\"{key.upper()}'s Favorite Language is {value.upper()}.\")\n"
   ]
  },
  {
   "cell_type": "markdown",
   "metadata": {},
   "source": [
    " # EXERCISE SOLUTION"
   ]
  },
  {
   "cell_type": "code",
   "execution_count": 9,
   "metadata": {},
   "outputs": [
    {
     "name": "stdout",
     "output_type": "stream",
     "text": [
      "{'variable': 'A reserved memory location to store values ', 'list': 'A collection of items in a particular order', 'tuple': 'An immutable list', 'dictionary': 'A collection of key value pair', 'function': 'A block of code that performs a specific task'}\n",
      "\n",
      " Here is the modified dictionarty\n",
      "variable:    A reserved memory location to store values \n",
      "list:    A collection of items in a particular order\n",
      "tuple:    An immutable list\n",
      "dictionary:    A collection of key value pair\n",
      "function:    A block of code that performs a specific task\n",
      "loop:    A way to repeat the block of code multiple times.\n",
      "class:    A blueprint for creating objects.\n",
      "module:    A file containing python code that can be imported into programme.\n",
      "conditional:    An expression used to perform different actions based on different conditions.\n",
      "exception:    An error detected during execution.\n"
     ]
    }
   ],
   "source": [
    "# 6-4\n",
    "\n",
    "glossary = {\n",
    "    \"variable\": \"A reserved memory location to store values \",\n",
    "    \"list\": \"A collection of items in a particular order\",\n",
    "    \"tuple\": \"An immutable list\",\n",
    "    \"dictionary\": \"A collection of key value pair\",\n",
    "    \"function\": \"A block of code that performs a specific task\"\n",
    "}\n",
    "print(glossary)\n",
    "glossary[\"loop\"] = \"A way to repeat the block of code multiple times.\"\n",
    "glossary[\"class\"] = \"A blueprint for creating objects.\"\n",
    "glossary[\"module\"] = \"A file containing python code that can be imported into programme.\"\n",
    "glossary[\"conditional\"] = \"An expression used to perform different actions based on different conditions.\"\n",
    "glossary[\"exception\"] = \"An error detected during execution.\"\n",
    "print(\"\\n Here is the modified dictionarty\")\n",
    "for name, definition in glossary.items():\n",
    "    print(f\"{name}:    {definition}\")\n",
    "    "
   ]
  },
  {
   "cell_type": "code",
   "execution_count": 11,
   "metadata": {},
   "outputs": [
    {
     "name": "stdout",
     "output_type": "stream",
     "text": [
      "{'variable': 'A reserved memory location to store values ', 'list': 'A collection of items in a particular order', 'tuple': 'An immutable list', 'dictionary': 'A collection of key value pair', 'function': 'A block of code that performs a specific task'}\n",
      "\n",
      " Here is the modified dictionary\n",
      "variable\n",
      "\t A reserved memory location to store values \n",
      "list\n",
      "\t A collection of items in a particular order\n",
      "tuple\n",
      "\t An immutable list\n",
      "dictionary\n",
      "\t A collection of key value pair\n",
      "function\n",
      "\t A block of code that performs a specific task\n",
      "loop\n",
      "\t A way to repeat the block of code multiple times.\n",
      "class\n",
      "\t A blueprint for creating objects.\n",
      "module\n",
      "\t A file containing python code that can be imported into programme.\n",
      "conditional\n",
      "\t An expression used to perform different actions based on different conditions.\n",
      "exception\n",
      "\t An error detected during execution.\n"
     ]
    }
   ],
   "source": [
    "glossary = {\n",
    "    \"variable\": \"A reserved memory location to store values \",\n",
    "    \"list\": \"A collection of items in a particular order\",\n",
    "    \"tuple\": \"An immutable list\",\n",
    "    \"dictionary\": \"A collection of key value pair\",\n",
    "    \"function\": \"A block of code that performs a specific task\"\n",
    "}\n",
    "print(glossary)\n",
    "glossary[\"loop\"] = \"A way to repeat the block of code multiple times.\"\n",
    "glossary[\"class\"] = \"A blueprint for creating objects.\"\n",
    "glossary[\"module\"] = \"A file containing python code that can be imported into programme.\"\n",
    "glossary[\"conditional\"] = \"An expression used to perform different actions based on different conditions.\"\n",
    "glossary[\"exception\"] = \"An error detected during execution.\"\n",
    "print(\"\\n Here is the modified dictionary\")\n",
    "for names, definitions in glossary.items():\n",
    "    print(names)\n",
    "    print(\"\\t\",definitions)\n",
    "    # print()"
   ]
  },
  {
   "cell_type": "code",
   "execution_count": 163,
   "metadata": {},
   "outputs": [
    {
     "name": "stdout",
     "output_type": "stream",
     "text": [
      "Punjab runs through the Punjab Province.\n",
      "exception runs through  China \n",
      "Sindh runs through the Punjab Province.\n",
      "exception runs through  China \n",
      "Nile runs through the Punjab Province.\n",
      "exception runs through  China \n"
     ]
    }
   ],
   "source": [
    "# 6-5\n",
    "\n",
    "rivers = {\n",
    "    \"Punjab\": \"Punjab\",\n",
    "    \"Sindh\": \"China\",\n",
    "    \"Nile\": \"Egypt\"\n",
    "    }\n",
    "for keys, values in rivers.items():\n",
    "    print(f\"{keys} runs through the Punjab Province.\")\n",
    "    print(f\"{key} runs through  China \")"
   ]
  },
  {
   "cell_type": "markdown",
   "metadata": {},
   "source": [
    "# NESTING\n",
    "* Sometimes you’ll want to store multiple dictionaries in a list, or a list of items as a value in a dictionary.\n",
    "* This is called nesting.\n",
    "*  You can nest dictionaries inside a list, a list of items inside a dictionary, or even a dictionary inside another dictionary. "
   ]
  },
  {
   "cell_type": "markdown",
   "metadata": {},
   "source": [
    "# A LIST IN A DICTIONARY "
   ]
  },
  {
   "cell_type": "code",
   "execution_count": 13,
   "metadata": {},
   "outputs": [
    {
     "name": "stdout",
     "output_type": "stream",
     "text": [
      "TAHIR's Favorite Languages are Python\n",
      "USAMA's Favorite Languages are ['Python', 'C++']\n",
      "AQEEL's Favorite Languages are ['Python', 'Next Js', 'CSS Tailwind ']\n",
      "ASLAM's Favorite Languages are C++\n"
     ]
    }
   ],
   "source": [
    "fav_languages = {\n",
    "    \"Tahir\": \"Python\",\n",
    "    \"Usama\": [\"Python\", \"C++\"],\n",
    "    \"Aqeel\": [\"Python\", \"Next Js\", \"CSS Tailwind \"],\n",
    "    \"Aslam\": \"C++\"\n",
    "}\n",
    "for name, languages in fav_languages.items():\n",
    "    print(f\"{name.upper()}'s Favorite Languages are {languages}\")"
   ]
  },
  {
   "cell_type": "code",
   "execution_count": 17,
   "metadata": {},
   "outputs": [
    {
     "name": "stdout",
     "output_type": "stream",
     "text": [
      "TAHIR's Favorite Languages are:\n",
      "\t P\n",
      "\t Y\n",
      "\t T\n",
      "\t H\n",
      "\t O\n",
      "\t N\n",
      "USAMA's Favorite Languages are:\n",
      "\t PYTHON\n",
      "\t C++\n",
      "AQEEL's Favorite Languages are:\n",
      "\t PYTHON\n",
      "\t C++\n",
      "\t CSS TAILWIND\n",
      "ASLAM's Favorite Languages are:\n",
      "\t C++\n"
     ]
    }
   ],
   "source": [
    "fav_languages = {\n",
    "    \"Tahir\": \"Python\",\n",
    "    \"Usama\": [\"Python\", \"C++\"],\n",
    "    \"Aqeel\": [\"Python\", \"C++\",\"CSS Tailwind\" ],\n",
    "    \"Aslam\": [\"C++\"]\n",
    "}\n",
    "for name, languages in fav_languages.items():\n",
    "    print(f\"{name.upper()}'s Favorite Languages are:\")\n",
    "    for language in languages:\n",
    "        print(f\"\\t {language.upper()}\")"
   ]
  },
  {
   "cell_type": "markdown",
   "metadata": {},
   "source": [
    "# A DICTIONARY IN A DICTIONARY"
   ]
  },
  {
   "cell_type": "code",
   "execution_count": 37,
   "metadata": {},
   "outputs": [
    {
     "name": "stdout",
     "output_type": "stream",
     "text": [
      "\n",
      " Username: Tahir\n",
      "\t Full Name: Tahir Abbas\n",
      "\t Location: Lahore\n",
      "\n",
      " Username: Usama\n",
      "\t Full Name: Usama Qasim\n",
      "\t Location: Gujranwala\n"
     ]
    }
   ],
   "source": [
    "users = {\n",
    "    \"Tahir\":{\n",
    "        \"first\": \"Tahir\",\n",
    "        \"last\": \"Abbas\",\n",
    "        \"location\": \"Lahore\"\n",
    "    },\n",
    "    \"Usama\":{\n",
    "        \"first\": \"Usama\",\n",
    "        \"last\": \"Qasim\",\n",
    "        \"location\": \"Gujranwala\"\n",
    "    }\n",
    "}\n",
    "for username, user_info in users.items():\n",
    "    print(f\"\\n Username: {username}\")\n",
    "    full_name = f\"{user_info[\"first\"]} {user_info[\"last\"]}\"\n",
    "    location = user_info[\"location\"]\n",
    "    print(f\"\\t Full Name: {full_name.title()}\")\n",
    "    print(f\"\\t Location: {location.title()}\")"
   ]
  },
  {
   "cell_type": "code",
   "execution_count": 45,
   "metadata": {},
   "outputs": [
    {
     "name": "stdout",
     "output_type": "stream",
     "text": [
      "Tahir\n",
      "Usama\n"
     ]
    }
   ],
   "source": [
    "# Looping through all the keys in nested dict.\n",
    "\n",
    "\n",
    "users = {\n",
    "    \"Tahir\":{\n",
    "        \"first\": \"Tahir\",\n",
    "        \"last\": \"Abbas\",\n",
    "        \"location\": \"Lahore\"\n",
    "    },\n",
    "    \"Usama\":{\n",
    "        \"first\": \"Usama\",\n",
    "        \"last\": \"Qasim\",\n",
    "        \"location\": \"Gujranwala\"\n",
    "    }\n",
    "}\n",
    "for keys in users.keys():\n",
    "    print(keys)"
   ]
  },
  {
   "cell_type": "code",
   "execution_count": 46,
   "metadata": {},
   "outputs": [
    {
     "name": "stdout",
     "output_type": "stream",
     "text": [
      "{'first': 'Tahir', 'last': 'Abbas', 'location': 'Lahore'}\n",
      "{'first': 'Usama', 'last': 'Qasim', 'location': 'Gujranwala'}\n"
     ]
    }
   ],
   "source": [
    "# Lopping through all the values in nested dict.\n",
    "\n",
    "\n",
    "users = {\n",
    "    \"Tahir\":{\n",
    "        \"first\": \"Tahir\",\n",
    "        \"last\": \"Abbas\",\n",
    "        \"location\": \"Lahore\"\n",
    "    },\n",
    "    \"Usama\":{\n",
    "        \"first\": \"Usama\",\n",
    "        \"last\": \"Qasim\",\n",
    "        \"location\": \"Gujranwala\"\n",
    "    }\n",
    "}\n",
    "for values in users.values():\n",
    "    print(values)"
   ]
  },
  {
   "cell_type": "code",
   "execution_count": 55,
   "metadata": {},
   "outputs": [
    {
     "name": "stdout",
     "output_type": "stream",
     "text": [
      "Tahir:  {'first': 'Tahir', 'last': 'Abbas', 'location': 'Lahore'}\n",
      "Usama:  {'first': 'Usama', 'last': 'Qasim', 'location': 'Gujranwala'}\n"
     ]
    }
   ],
   "source": [
    "# Looping through all the key-value pairs(items) in the nested dict.\n",
    "\n",
    "\n",
    "users = {\n",
    "    \"Tahir\":{\n",
    "        \"first\": \"Tahir\",\n",
    "        \"last\": \"Abbas\",\n",
    "        \"location\": \"Lahore\"\n",
    "    },\n",
    "    \"Usama\":{\n",
    "        \"first\": \"Usama\",\n",
    "        \"last\": \"Qasim\",\n",
    "        \"location\": \"Gujranwala\"\n",
    "    }\n",
    "}\n",
    "for key, value in users.items():\n",
    "    print(f\"{key}:  {value}\")"
   ]
  },
  {
   "cell_type": "markdown",
   "metadata": {},
   "source": [
    "# THE END"
   ]
  }
 ],
 "metadata": {
  "kernelspec": {
   "display_name": "Python 3",
   "language": "python",
   "name": "python3"
  },
  "language_info": {
   "codemirror_mode": {
    "name": "ipython",
    "version": 3
   },
   "file_extension": ".py",
   "mimetype": "text/x-python",
   "name": "python",
   "nbconvert_exporter": "python",
   "pygments_lexer": "ipython3",
   "version": "3.12.7"
  }
 },
 "nbformat": 4,
 "nbformat_minor": 2
}
