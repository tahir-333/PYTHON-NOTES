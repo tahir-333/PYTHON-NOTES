{
 "cells": [
  {
   "cell_type": "markdown",
   "metadata": {},
   "source": [
    "# INTRO PROJECT "
   ]
  },
  {
   "cell_type": "code",
   "execution_count": 2,
   "metadata": {},
   "outputs": [
    {
     "name": "stdout",
     "output_type": "stream",
     "text": [
      "The sum of 2 and 3 is: 5.\n"
     ]
    }
   ],
   "source": [
    "# Print sum of two numbers using the input...\n",
    "\n",
    "\n",
    "num1 = input(\"Enter Yur 1st number: \")\n",
    "num1 = int(num1)\n",
    "num2 = input(\"Enter Your 2nd number: \")\n",
    "num2 = int(num2)\n",
    "sum = num1 + num2\n",
    "print(f\"The sum of {num1} and {num2} is: {sum}.\")"
   ]
  },
  {
   "cell_type": "code",
   "execution_count": 3,
   "metadata": {},
   "outputs": [
    {
     "name": "stdout",
     "output_type": "stream",
     "text": [
      "My favorite animal is also LION.\n"
     ]
    }
   ],
   "source": [
    "# Write a program to get input from user that what is your favorite animal\n",
    "\n",
    "\n",
    "animal = input(\"What is your favorite animal? \")\n",
    "print(f\"My favorite animal is also {animal}.\")"
   ]
  }
 ],
 "metadata": {
  "kernelspec": {
   "display_name": "Python 3",
   "language": "python",
   "name": "python3"
  },
  "language_info": {
   "codemirror_mode": {
    "name": "ipython",
    "version": 3
   },
   "file_extension": ".py",
   "mimetype": "text/x-python",
   "name": "python",
   "nbconvert_exporter": "python",
   "pygments_lexer": "ipython3",
   "version": "3.12.7"
  }
 },
 "nbformat": 4,
 "nbformat_minor": 2
}
