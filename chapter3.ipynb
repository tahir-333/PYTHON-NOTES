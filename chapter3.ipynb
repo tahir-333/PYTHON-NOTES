{
 "cells": [
  {
   "cell_type": "markdown",
   "metadata": {},
   "source": [
    "# INTRODUCTION OF LIST"
   ]
  },
  {
   "cell_type": "code",
   "execution_count": 2,
   "metadata": {},
   "outputs": [
    {
     "name": "stdout",
     "output_type": "stream",
     "text": [
      "['Suzuki', 'Honda', 'Kawasaki']\n"
     ]
    }
   ],
   "source": [
    "bicycles = [\"Suzuki\",\"Honda\", \"Kawasaki\"]\n",
    "print(bicycles)"
   ]
  },
  {
   "cell_type": "markdown",
   "metadata": {},
   "source": [
    "# ACCESSING ELEMENTS IN THE LIST."
   ]
  },
  {
   "cell_type": "code",
   "execution_count": 7,
   "metadata": {},
   "outputs": [
    {
     "name": "stdout",
     "output_type": "stream",
     "text": [
      "['Honda', 'Kawaski', 'Suzuki']\n",
      "Honda\n",
      "KAWASKI\n",
      "Suzuki\n"
     ]
    }
   ],
   "source": [
    "bicycles = [\"Honda\",\"Kawaski\", \"Suzuki\"]\n",
    "print(bicycles)\n",
    "print(bicycles[0])                       # Accessing element in list at zero index.\n",
    "print(bicycles[1].upper())               # Accessing element in list at 1 index, and use of case along.\n",
    "print(bicycles[2])                       # Accessing element in list at 2 index."
   ]
  },
  {
   "cell_type": "code",
   "execution_count": 10,
   "metadata": {},
   "outputs": [
    {
     "name": "stdout",
     "output_type": "stream",
     "text": [
      "['Honda', 'Kawasaki', 'Sazuki']\n",
      "Honda\n",
      "Sazuki\n"
     ]
    }
   ],
   "source": [
    "bicycles = [\"Honda\",\"Kawasaki\",\"Sazuki\"]\n",
    "print(bicycles)\n",
    "print(bicycles[0])                                  # Accessing element at zero index in a list.\n",
    "print(bicycles[-1])                                 # Accessing the last element in the list using negative indexing."
   ]
  },
  {
   "cell_type": "markdown",
   "metadata": {},
   "source": [
    "# USING INDIVIDUAL VALUES FROM THE LIST."
   ]
  },
  {
   "cell_type": "code",
   "execution_count": 14,
   "metadata": {},
   "outputs": [
    {
     "name": "stdout",
     "output_type": "stream",
     "text": [
      "['Honda', 'Suzuki', 'Kawasaki']\n"
     ]
    },
    {
     "data": {
      "text/plain": [
       "'My first bicycle was HONDA'"
      ]
     },
     "metadata": {},
     "output_type": "display_data"
    }
   ],
   "source": [
    "bicycles = [\"Honda\", \"Suzuki\",\"Kawasaki\"]\n",
    "print(bicycles)\n",
    "display(f\"My first bicycle was {bicycles[0].upper()}\")"
   ]
  },
  {
   "cell_type": "markdown",
   "metadata": {},
   "source": [
    "# EXERCISE"
   ]
  },
  {
   "cell_type": "code",
   "execution_count": 26,
   "metadata": {},
   "outputs": [
    {
     "name": "stdout",
     "output_type": "stream",
     "text": [
      "['Tahir', 'Usama', 'Aqeel']\n"
     ]
    },
    {
     "data": {
      "text/plain": [
       "'TAHIR'"
      ]
     },
     "metadata": {},
     "output_type": "display_data"
    },
    {
     "data": {
      "text/plain": [
       "'usama'"
      ]
     },
     "metadata": {},
     "output_type": "display_data"
    },
    {
     "data": {
      "text/plain": [
       "'Aqeel'"
      ]
     },
     "metadata": {},
     "output_type": "display_data"
    }
   ],
   "source": [
    "names = [\"Tahir\",\"Usama\",\"Aqeel\"]\n",
    "print(names)\n",
    "display(names[0].upper())\n",
    "display(names[1].lower())\n",
    "display(names[2].capitalize())"
   ]
  },
  {
   "cell_type": "code",
   "execution_count": 35,
   "metadata": {},
   "outputs": [
    {
     "name": "stdout",
     "output_type": "stream",
     "text": [
      "['Tahir', 'Aqeel', 'Usama']\n"
     ]
    },
    {
     "data": {
      "text/plain": [
       "'Hello, Tahir! What are you doing these days?'"
      ]
     },
     "metadata": {},
     "output_type": "display_data"
    },
    {
     "data": {
      "text/plain": [
       "'Hello,Aqeel! What are you doing these days?'"
      ]
     },
     "metadata": {},
     "output_type": "display_data"
    },
    {
     "data": {
      "text/plain": [
       "'Hello,Usama! What are you  doing these days?'"
      ]
     },
     "metadata": {},
     "output_type": "display_data"
    }
   ],
   "source": [
    "names = [\"Tahir\", \"Aqeel\",\"Usama\"]\n",
    "print(names)\n",
    "display(f\"Hello, {names[0]}! What are you doing these days?\")\n",
    "display(f\"Hello,{names[1]}! What are you doing these days?\")\n",
    "display(f\"Hello,{names[2]}! What are you  doing these days?\")"
   ]
  },
  {
   "cell_type": "code",
   "execution_count": 43,
   "metadata": {},
   "outputs": [
    {
     "name": "stdout",
     "output_type": "stream",
     "text": [
      "['Bike', 'Aeroplane', 'Helicopter']\n"
     ]
    },
    {
     "data": {
      "text/plain": [
       "'I would like to own Bike'"
      ]
     },
     "metadata": {},
     "output_type": "display_data"
    },
    {
     "data": {
      "text/plain": [
       "'I would like to own Aeroplane, as it is the most convenient way of transportation. '"
      ]
     },
     "metadata": {},
     "output_type": "display_data"
    },
    {
     "data": {
      "text/plain": [
       "'I would like to own Helicopter, as i like Helicopter the most.'"
      ]
     },
     "metadata": {},
     "output_type": "display_data"
    }
   ],
   "source": [
    "transportations = [\"Bike\", \"Aeroplane\",\"Helicopter\"]\n",
    "print(transportations)\n",
    "display(f\"I would like to own {transportations[0]}\")\n",
    "display(f\"I would like to own {transportations[1]}, as it is the most convenient way of transportation. \")\n",
    "display(f\"I would like to own {transportations[2]}, as i like Helicopter the most.\")"
   ]
  },
  {
   "cell_type": "markdown",
   "metadata": {},
   "source": [
    "# MODIFYING, ADDING AND REMOVING ELEMENTS."
   ]
  },
  {
   "cell_type": "code",
   "execution_count": 5,
   "metadata": {},
   "outputs": [
    {
     "name": "stdout",
     "output_type": "stream",
     "text": [
      "['Tahir', 'Usama', 'Aqeel']\n",
      "['Aslam', 'Usama', 'Aqeel']\n"
     ]
    }
   ],
   "source": [
    "# MODIFYING ELEMENTS IN THE LIST.\n",
    "\n",
    "names = [\"Tahir\", \"Usama\",\"Aqeel\"]\n",
    "print(names)\n",
    "names[0] = \"Aslam\"\n",
    "print(names)\n",
    "\n"
   ]
  },
  {
   "cell_type": "markdown",
   "metadata": {},
   "source": [
    " # ADDING ELEMENTS IN THE LIST."
   ]
  },
  {
   "cell_type": "code",
   "execution_count": 8,
   "metadata": {},
   "outputs": [
    {
     "name": "stdout",
     "output_type": "stream",
     "text": [
      "['Tahir', 'Usama', 'Aqeel']\n",
      "['Tahir', 'Usama', 'Aqeel', 'Aslam']\n"
     ]
    }
   ],
   "source": [
    "names = [\"Tahir\", \"Usama\", \"Aqeel\"]\n",
    "print(names)\n",
    "names.append(\"Aslam\")               # Append function is used to add an element in the list at last index.\n",
    "print(names)"
   ]
  },
  {
   "cell_type": "code",
   "execution_count": 12,
   "metadata": {},
   "outputs": [
    {
     "name": "stdout",
     "output_type": "stream",
     "text": [
      "['Tahir', 'Usama', 'Aqeel']\n",
      "['Tahir', 'Akbar', 'Usama', 'Aqeel']\n"
     ]
    }
   ],
   "source": [
    "names = [\"Tahir\",\"Usama\",\"Aqeel\"]\n",
    "print(names)\n",
    "names.insert(1, \"Akbar\")             # Insert function is used to add new element in the list at any position by specifying the index.\n",
    "print(names)"
   ]
  },
  {
   "cell_type": "code",
   "execution_count": 20,
   "metadata": {},
   "outputs": [
    {
     "name": "stdout",
     "output_type": "stream",
     "text": [
      "['Tahir', 'Usama', 'Aqeel']\n",
      "['Tahir', 'Usama']\n"
     ]
    }
   ],
   "source": [
    "names = [\"Tahir\", \"Usama\",\"Aqeel\"]\n",
    "print(names)\n",
    "names.remove(\"Aqeel\")           # Remove function is used to remove any element from the list.\n",
    "print(names)"
   ]
  },
  {
   "cell_type": "code",
   "execution_count": 23,
   "metadata": {},
   "outputs": [
    {
     "name": "stdout",
     "output_type": "stream",
     "text": [
      "['Tahir', 'Aqeel', 'Usama']\n",
      "['Tahir', 'Aqeel']\n"
     ]
    }
   ],
   "source": [
    "names = [\"Tahir\", \"Aqeel\",\"Usama\"]\n",
    "print(names)\n",
    "del names[2]                     # Del function is used to delete an element from the list by specifying the index of the element. \n",
    "print(names)"
   ]
  },
  {
   "cell_type": "code",
   "execution_count": 32,
   "metadata": {},
   "outputs": [
    {
     "name": "stdout",
     "output_type": "stream",
     "text": [
      "['Tahir', 'Usama', 'Aqeel']\n",
      "Aqeel\n",
      "['Tahir', 'Usama']\n",
      "The last name in my list is Aqeel.\n"
     ]
    }
   ],
   "source": [
    "names = [\"Tahir\", \"Usama\",\"Aqeel\"]\n",
    "print(names)\n",
    "popped_names = names.pop()                       # Pop function is used to remove the last element from the list.\n",
    "print(popped_names)\n",
    "print(names)\n",
    "print(f\"The last name in my list is {popped_names}.\")"
   ]
  },
  {
   "cell_type": "code",
   "execution_count": 38,
   "metadata": {},
   "outputs": [
    {
     "name": "stdout",
     "output_type": "stream",
     "text": [
      "['Tahir', 'Aqeel', 'Usama']\n"
     ]
    },
    {
     "data": {
      "text/plain": [
       "'The first name in the list is Aqeel.'"
      ]
     },
     "metadata": {},
     "output_type": "display_data"
    }
   ],
   "source": [
    "names = [\"Tahir\",\"Aqeel\",\"Usama\"]\n",
    "print(names)\n",
    "popped_names = names.pop(1)                    # Removing an element from the list at any position.\n",
    "display(f\"The first name in the list is {popped_names}.\")\n"
   ]
  },
  {
   "cell_type": "markdown",
   "metadata": {},
   "source": [
    "# REMOVING AN ITEM BY VALUE"
   ]
  },
  {
   "cell_type": "code",
   "execution_count": 41,
   "metadata": {},
   "outputs": [
    {
     "name": "stdout",
     "output_type": "stream",
     "text": [
      "['Tahir', 'Usama', 'Aqeel']\n",
      "['Tahir', 'Aqeel']\n"
     ]
    }
   ],
   "source": [
    "names = [\"Tahir\", \"Usama\", \"Aqeel\"]\n",
    "print(names)\n",
    "names.remove(\"Usama\")\n",
    "print(names)"
   ]
  },
  {
   "cell_type": "markdown",
   "metadata": {},
   "source": [
    "# EXERCISE SOLUTION "
   ]
  },
  {
   "cell_type": "code",
   "execution_count": 57,
   "metadata": {},
   "outputs": [
    {
     "name": "stdout",
     "output_type": "stream",
     "text": [
      "['Aslam', 'Aqeel', 'Anwar']\n",
      "Hello, Aslam! I am going to invite you at dinner at my home. \n",
      "Hello, Aqeel! I am going to invite you for dinner at my home tonight.\n",
      "Hello, Anwar! I am going going to invite you for dinner at my home.\n",
      "Oops Anwar is not comming at dinner due to some domestic issues.\n",
      "['Aslam', 'Aqeel', 'Akram']\n",
      "Hello, Aslam! I am going to invite you for dinner tonight at my home.\n",
      "Hello, Aqeel! i am  going to invite you at dinner at my home tonight\n",
      "Hello, Akram! I am going to invite you  for dinner at my home tonight\n",
      "\n",
      " Hello everyone i have got a new table for dinner at hotel having space of 6 friends, so i am going to invite\n",
      "      three more friends\n",
      "['Aslam', 'Aqeel', 'Akram']\n",
      "['Amir', 'Amaar', 'Atif', 'Aslam', 'Aqeel', 'Akram']\n",
      "\n",
      " Hello, Amir! I am going to invite you for dinner at my home tonight.\n",
      "Hello Amaar! I am going to invite you for dinner at my home tonight.\n",
      "Hello, Atif! I am going to invite you for dinner at my home tonight.\n",
      "Hello, Aslam! I am going to invite you for dinner at my home tonight.\n",
      "Hello, Aqeel! I am going to invite you for dinner at my home tonight.\n",
      "Hello, Akram! I am going to invite you for dinner at my home tonight.\n",
      "\n",
      "I can invite only two friends due to some issues.\n",
      "['Amir', 'Amaar', 'Atif', 'Aslam', 'Aqeel', 'Akram']\n",
      "I am sorry Akram! I cannot invite you for dinner due to some domestic problems.\n",
      "I am sorry Aqeel! I cannot invite you for dinner due to some issues.\n",
      "I am sorry Aslam! I cannot invite you for dinner tonight due to some domestic issues.\n",
      "I am sorry Atif! I cannot invite you for dinner any more as i have to go Murree in an emergency.\n",
      "['Amir', 'Amaar']\n",
      "Hello Amir! You are still invited for diner, so make sure to come for dinner at time.\n",
      "Hello Amaar! You are still invited for dinner, so please make sure your presence at time.\n",
      "['Amir', 'Amaar']\n",
      "['Amaar']\n",
      "[]\n"
     ]
    }
   ],
   "source": [
    "friends = [\"Aslam\",\"Aqeel\",\"Anwar\"]\n",
    "print(friends)\n",
    "print(f\"Hello, {friends[0]}! I am going to invite you at dinner at my home. \")\n",
    "print(f\"Hello, {friends[1]}! I am going to invite you for dinner at my home tonight.\")\n",
    "print(f\"Hello, {friends[2]}! I am going going to invite you for dinner at my home.\")\n",
    "\n",
    "print(\"Oops Anwar is not comming at dinner due to some domestic issues.\")\n",
    "\n",
    "friends[2] = \"Akram\"\n",
    "\n",
    "print(friends)\n",
    "\n",
    "print(f\"Hello, {friends[0]}! I am going to invite you for dinner tonight at my home.\")\n",
    "print(f\"Hello, {friends[1]}! i am  going to invite you at dinner at my home tonight\")\n",
    "print(f\"Hello, {friends[2]}! I am going to invite you  for dinner at my home tonight\")\n",
    "\n",
    "print(\"\"\"\\n Hello everyone i have got a new table for dinner at hotel having space of 6 friends, so i am going to invite\n",
    "      three more friends\"\"\")\n",
    "\n",
    "print(friends)\n",
    "friends.insert( 0,\"Amir\")\n",
    "friends.insert(1, \"Amaar\")\n",
    "friends.insert(2, \"Atif\")\n",
    "print(friends)\n",
    "\n",
    "print(f\"\\n Hello, {friends[0]}! I am going to invite you for dinner at my home tonight.\")\n",
    "print(f\"Hello {friends[1]}! I am going to invite you for dinner at my home tonight.\")\n",
    "print(f\"Hello, {friends[2]}! I am going to invite you for dinner at my home tonight.\")\n",
    "print(f\"Hello, {friends[3]}! I am going to invite you for dinner at my home tonight.\")\n",
    "print(f\"Hello, {friends[4]}! I am going to invite you for dinner at my home tonight.\")\n",
    "print(f\"Hello, {friends[5]}! I am going to invite you for dinner at my home tonight.\")\n",
    "\n",
    "message = f\"\\nI can invite only two friends due to some issues.\"\n",
    "print(message)\n",
    "print(friends)\n",
    "popped1 = friends.pop()\n",
    "print(f\"I am sorry {popped1}! I cannot invite you for dinner due to some domestic problems.\")\n",
    "popped2 = friends.pop()\n",
    "print(f\"I am sorry {popped2}! I cannot invite you for dinner due to some issues.\")\n",
    "popped3 = friends.pop()\n",
    "print(f\"I am sorry {popped3}! I cannot invite you for dinner tonight due to some domestic issues.\")\n",
    "popped4 = friends.pop()\n",
    "print(f\"I am sorry {popped4}! I cannot invite you for dinner any more as i have to go Murree in an emergency.\")\n",
    "print(friends)\n",
    "\n",
    "print(f\"Hello {friends[0]}! You are still invited for diner, so make sure to come for dinner at time.\")\n",
    "print(f\"Hello {friends[1]}! You are still invited for dinner, so please make sure your presence at time.\")\n",
    "print(friends)\n",
    "del friends[0]\n",
    "print(friends)\n",
    "del friends[0]\n",
    "print(friends)"
   ]
  },
  {
   "cell_type": "markdown",
   "metadata": {},
   "source": [
    "# ORGANIZING THE LIST \n",
    "* Some time we have to arrange the list in any specific order, in list we are getting unordered  data, \n",
    "to convert the unordered data of list into an ordered data we use following method (i,e sort)"
   ]
  },
  {
   "cell_type": "markdown",
   "metadata": {},
   "source": [
    "# SORTING THE LIST PERMANENTLY WITH SORT() METHOD"
   ]
  },
  {
   "cell_type": "code",
   "execution_count": 61,
   "metadata": {},
   "outputs": [
    {
     "name": "stdout",
     "output_type": "stream",
     "text": [
      "[1, 9, 0, 3, 5, 8, 7, 2, 3, 4]\n",
      "[0, 1, 2, 3, 3, 4, 5, 7, 8, 9]\n"
     ]
    }
   ],
   "source": [
    "numbers = [1,9,0,3,5,8,7,2,3,4]\n",
    "print(numbers)                                  # Printing to unordered list.\n",
    "numbers.sort()                                  # Use of sort function to print an ordered data.\n",
    "print(numbers)       "
   ]
  },
  {
   "cell_type": "code",
   "execution_count": 64,
   "metadata": {},
   "outputs": [
    {
     "name": "stdout",
     "output_type": "stream",
     "text": [
      "[0, 6, 7, 8, 4, 3, 5, 2, 1]\n",
      "[8, 7, 6, 5, 4, 3, 2, 1, 0]\n"
     ]
    }
   ],
   "source": [
    "numbers = [0,6,7,8,4,3,5,2,1]\n",
    "print(numbers)\n",
    "numbers.sort(reverse=True)                    # Reverse=True function is used to reverse the order of an ordered list.\n",
    "print(numbers)"
   ]
  },
  {
   "cell_type": "markdown",
   "metadata": {},
   "source": [
    "# SORTING THE LIST TEMPORARILY USING THE SORTED() FUNCTION."
   ]
  },
  {
   "cell_type": "code",
   "execution_count": 77,
   "metadata": {},
   "outputs": [
    {
     "name": "stdout",
     "output_type": "stream",
     "text": [
      "\n",
      "Here is the original list.\n",
      "['Honda', 'Suzuki', 'Carolla']\n",
      "\n",
      "Here is the sorted list.\n",
      "['Carolla', 'Honda', 'Suzuki']\n",
      "\n",
      " Here is the original list again\n",
      "['Honda', 'Suzuki', 'Carolla']\n"
     ]
    }
   ],
   "source": [
    "cars = [\"Honda\",\"Suzuki\",\"Carolla\"]\n",
    "print(\"\\nHere is the original list.\")\n",
    "print(cars)\n",
    "print(\"\\nHere is the sorted list.\")\n",
    "print(sorted(cars))                              # Sorted function is used to print the order of the list.\n",
    "print(\"\\n Here is the original list again\")\n",
    "print(cars)"
   ]
  },
  {
   "cell_type": "markdown",
   "metadata": {},
   "source": [
    "# PRINTING THE LIST IN REVERSE ORDER."
   ]
  },
  {
   "cell_type": "code",
   "execution_count": 84,
   "metadata": {},
   "outputs": [
    {
     "name": "stdout",
     "output_type": "stream",
     "text": [
      "['Rolls Roys', 'Mercedes', 'Bugatti']\n",
      "\n",
      " Here is the reversed list.\n",
      "['Bugatti', 'Mercedes', 'Rolls Roys']\n"
     ]
    }
   ],
   "source": [
    "cars = [\"Rolls Roys\", \"Mercedes\", \"Bugatti\"]\n",
    "print(cars)\n",
    "print(\"\\n Here is the reversed list.\")\n",
    "cars.reverse()                                 # Reverse function is used to print the reverse order of the list.\n",
    "print(cars)"
   ]
  },
  {
   "cell_type": "markdown",
   "metadata": {},
   "source": [
    "# FINDING THE LENGTH OF THE LIST."
   ]
  },
  {
   "cell_type": "code",
   "execution_count": 86,
   "metadata": {},
   "outputs": [
    {
     "name": "stdout",
     "output_type": "stream",
     "text": [
      "['Rolls Roys', 'Mercedes', 'Bogatti']\n",
      "\n",
      " Here is the len of the list.\n"
     ]
    },
    {
     "data": {
      "text/plain": [
       "3"
      ]
     },
     "execution_count": 86,
     "metadata": {},
     "output_type": "execute_result"
    }
   ],
   "source": [
    "cars = [\"Rolls Roys\",\"Mercedes\",\"Bogatti\"]\n",
    "print(cars)\n",
    "print(\"\\n Here is the len of the list.\")        # len() function is used to give the length of the list (i,e the total number of elements in the list.) \n",
    "len(cars)\n"
   ]
  },
  {
   "cell_type": "markdown",
   "metadata": {},
   "source": [
    "# EXERCISE SOLUTION."
   ]
  },
  {
   "cell_type": "code",
   "execution_count": 105,
   "metadata": {},
   "outputs": [
    {
     "name": "stdout",
     "output_type": "stream",
     "text": [
      "['Madina', 'Switzerland', 'Kashmir', 'London', 'America']\n",
      "\n",
      " Here is the ordered list.\n",
      "['America', 'Kashmir', 'London', 'Madina', 'Switzerland']\n",
      "['America', 'Kashmir', 'London', 'Madina', 'Switzerland']\n",
      "\n",
      " Here is the original list again.\n",
      "['America', 'Kashmir', 'London', 'Madina', 'Switzerland']\n",
      "['Switzerland', 'Madina', 'London', 'Kashmir', 'America']\n",
      "\n",
      " Here is the original list again.\n",
      "['Switzerland', 'Madina', 'London', 'Kashmir', 'America']\n"
     ]
    }
   ],
   "source": [
    "places = [\"Madina\", \"Switzerland\",\"Kashmir\",\"London\",\"America\"]\n",
    "print(places)\n",
    "print(\"\\n Here is the ordered list.\")\n",
    "places.sort()\n",
    "print(places)\n",
    "# print(\"/n Here is the sorted list.\")\n",
    "print(sorted(places))\n",
    "print(\"\\n Here is the original list again.\")\n",
    "print(places)\n",
    "places.reverse()\n",
    "print(places)\n",
    "print(\"\\n Here is the original list again.\")\n",
    "\n",
    "print(places)"
   ]
  },
  {
   "cell_type": "code",
   "execution_count": 113,
   "metadata": {},
   "outputs": [
    {
     "name": "stdout",
     "output_type": "stream",
     "text": [
      "['Switzerland', 'Madina', 'London', 'Kashmir', 'America']\n",
      "\n",
      " Here is the sorted list.\n",
      "['America', 'Kashmir', 'London', 'Madina', 'Switzerland']\n",
      "\n",
      " Here is the reverse order of the list.\n",
      "['Switzerland', 'Madina', 'London', 'Kashmir', 'America']\n",
      "\n",
      " Here is the original list again.\n",
      "['Switzerland', 'Madina', 'London', 'Kashmir', 'America']\n"
     ]
    }
   ],
   "source": [
    "print(places)\n",
    "places.sort()\n",
    "print(\"\\n Here is the sorted list.\")\n",
    "print(places)\n",
    "print(\"\\n Here is the reverse order of the list.\")\n",
    "places.reverse()\n",
    "print(places)\n",
    "print(\"\\n Here is the original list again.\")\n",
    "print(places)                                                         # The original list have been changed."
   ]
  },
  {
   "cell_type": "code",
   "execution_count": 115,
   "metadata": {},
   "outputs": [
    {
     "name": "stdout",
     "output_type": "stream",
     "text": [
      "['Amir', 'Aslam', 'Amaar', 'Aqeel']\n",
      "4\n"
     ]
    }
   ],
   "source": [
    "friends = [\"Amir\",\"Aslam\",\"Amaar\",\"Aqeel\"]\n",
    "print(friends)\n",
    "print(len(friends))                              # len() function is used to get the total number of elements in the list."
   ]
  },
  {
   "cell_type": "markdown",
   "metadata": {},
   "source": [
    "# METHODS OF LIST\n",
    "* Insert( )\n",
    "* Append( )\n",
    "* Count( )\n",
    "* Pop( )\n",
    "* Index( )\n",
    "* Sort( )\n",
    "* Len( )\n",
    "* Reverse( )\n",
    "* Remove( )\n",
    "* Extend( )\n",
    "* Clear( )"
   ]
  },
  {
   "cell_type": "code",
   "execution_count": 2,
   "metadata": {},
   "outputs": [
    {
     "name": "stdout",
     "output_type": "stream",
     "text": [
      "['Lahore', 'Karachi', 'Islamabad', 'Lahore']\n",
      "['Lahore', 'Karachi', 'Multan', 'Islamabad', 'Lahore']\n",
      "['Lahore', 'Karachi', 'Multan', 'Islamabad', 'Lahore', 'Gujranwala']\n",
      "['Karachi', 'Multan', 'Islamabad', 'Lahore', 'Gujranwala']\n",
      "['Gujranwala', 'Islamabad', 'Karachi', 'Lahore', 'Multan']\n",
      "5\n",
      "['Multan', 'Lahore', 'Karachi', 'Islamabad', 'Gujranwala']\n",
      "['Lahore', 'Karachi', 'Islamabad', 'Gujranwala']\n",
      "['Lahore', 'Karachi', 'Islamabad', 'Gujranwala', 'Rolls Roys', 'Mercedes', 'Bogatti']\n",
      "[]\n"
     ]
    }
   ],
   "source": [
    "cities = [\"Lahore\",\"Karachi\",\"Islamabad\",\"Lahore\"]\n",
    "print(cities)\n",
    "cities.insert(2, \"Multan\")                   # Insert function is used to add new element in the list at any position by specifying the index number and new element.\n",
    "print(cities)\n",
    "cities.append(\"Gujranwala\")                  # Append function is used to add an element at the end of the list.\n",
    "print(cities)\n",
    "cities.count(\"Lahore\")                       # Count function is used to get the number of times of any element in the list.\n",
    "cities.pop(0)                                # Pop function is used to remove an element from the end of the list, if it is used without ant argument, if it is used with an argument, then in that case it removes the element at the index.\n",
    "# cities.pop()       \n",
    "print(cities)\n",
    "cities.index(\"Karachi\")                      # Index function is used to get the idex of any element in the list. \n",
    "cities.sort()                                # Sort function is used to get output in the standard form.\n",
    "print(cities)                                #  Reverse function is used to turn the original order of the list in to opposite order.\n",
    "print(len(cities))                           # Len function is used to get total number of elements in the list.\n",
    "cities.reverse()\n",
    "print(cities)\n",
    "cities.remove(\"Multan\")                      # Remove function is used to remove any element from the list by specifying that element.\n",
    "print(cities)\n",
    "cars = [\"Rolls Roys\", \"Mercedes\",\"Bogatti\"]\n",
    "cities.extend(cars)                          # Extend function is used to extend the original list.\n",
    "print(cities)\n",
    "# cities.copy()\n",
    "# # print(cities)\n",
    "cities.clear()                              # Clear function is used to remove all the elements from the list and returns an empty list.\n",
    "print(cities)"
   ]
  }
 ],
 "metadata": {
  "kernelspec": {
   "display_name": "Python 3",
   "language": "python",
   "name": "python3"
  },
  "language_info": {
   "codemirror_mode": {
    "name": "ipython",
    "version": 3
   },
   "file_extension": ".py",
   "mimetype": "text/x-python",
   "name": "python",
   "nbconvert_exporter": "python",
   "pygments_lexer": "ipython3",
   "version": "3.12.6"
  }
 },
 "nbformat": 4,
 "nbformat_minor": 2
}
