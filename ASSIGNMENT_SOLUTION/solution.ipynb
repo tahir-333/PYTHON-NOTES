{
 "cells": [
  {
   "cell_type": "code",
   "execution_count": 19,
   "metadata": {},
   "outputs": [
    {
     "name": "stdout",
     "output_type": "stream",
     "text": [
      "Tahir Abbas\n",
      "Hello! Tahir Abbas,Your Favorite Number are: [1, 3, 8]\n",
      "\n",
      "Lets Explore Your Favorite Numbers, whether numbers are even or odd:  \n",
      "The Number 1 is Odd Number.\n",
      "The Number 3 is Odd Number.\n",
      "The Number 8 is Even Number.\n",
      "\n",
      "The Number 1 and its square is: (1, 1)\n",
      "\n",
      "The Number 3 and its square is: (3, 9)\n",
      "\n",
      "The Number 8 and its square is: (8, 64)\n",
      "\n",
      "The sum of Your Three Favorite Numbers is: 12.\n",
      "The number 12 is not a prime number.\n"
     ]
    }
   ],
   "source": [
    "def is_prime(number):\n",
    "    if number <= 1:\n",
    "        return False\n",
    "    for i in range(2, int(number ** 0.5) +1):\n",
    "        if number % i == 0:\n",
    "            return False\n",
    "    return True \n",
    "\n",
    "name = input(\"Enter Your Name: \")\n",
    "print(name)\n",
    "outputs = [ ]\n",
    "num1 = input(\"Enter Your 1st Favorite Number: \")\n",
    "num1 = int(num1)\n",
    "outputs.append(num1)\n",
    "num2 = input(\"Enter Your 2nd Favorite Number: \")\n",
    "num2 = int(num2)\n",
    "outputs.append(num2)\n",
    "num3 = input(\"Enter Your 3rd Favorite Number: \")\n",
    "num3 = int(num3)\n",
    "outputs.append(num3)\n",
    "print(f\"Hello! {name},Your Favorite Number are: {outputs}\")\n",
    "print(\"\\nLets Explore Your Favorite Numbers, whether numbers are even or odd:  \")\n",
    "\n",
    "for output in outputs:\n",
    "    if output %2 == 0:\n",
    "        print(f\"The Number {output} is Even Number.\")\n",
    "    else:\n",
    "        print(f\"The Number {output} is Odd Number.\")\n",
    "\n",
    "squares = [ ]\n",
    "for output in outputs:\n",
    "    square = output * output\n",
    "    pairs = (output, square)\n",
    "    squares.append(pairs)\n",
    "    print(f\"\\nThe Number {output} and its square is: {pairs}\")\n",
    "    \n",
    "sum = num1+num2+num3\n",
    "print(f\"\\nThe sum of Your Three Favorite Numbers is: {sum}.\")\n",
    "\n",
    "if is_prime(sum):\n",
    "    print(f\"The number {sum} is a prime number.\")\n",
    "else:\n",
    "    print(f\"The number {sum} is not a prime number.\")\n",
    "    "
   ]
  },
  {
   "cell_type": "code",
   "execution_count": null,
   "metadata": {},
   "outputs": [],
   "source": []
  }
 ],
 "metadata": {
  "kernelspec": {
   "display_name": "Python 3",
   "language": "python",
   "name": "python3"
  },
  "language_info": {
   "codemirror_mode": {
    "name": "ipython",
    "version": 3
   },
   "file_extension": ".py",
   "mimetype": "text/x-python",
   "name": "python",
   "nbconvert_exporter": "python",
   "pygments_lexer": "ipython3",
   "version": "3.12.7"
  }
 },
 "nbformat": 4,
 "nbformat_minor": 2
}
