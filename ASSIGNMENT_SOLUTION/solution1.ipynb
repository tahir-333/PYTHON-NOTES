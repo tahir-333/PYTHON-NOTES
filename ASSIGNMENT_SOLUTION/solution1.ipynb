{
 "cells": [
  {
   "cell_type": "markdown",
   "metadata": {},
   "source": [
    "# PYTHON PRINT FUNCTION PRACTICE QUESTIONS"
   ]
  },
  {
   "cell_type": "markdown",
   "metadata": {},
   "source": [
    "# 1. BASIC PRINTING:"
   ]
  },
  {
   "cell_type": "code",
   "execution_count": 2,
   "metadata": {},
   "outputs": [
    {
     "name": "stdout",
     "output_type": "stream",
     "text": [
      "Hello World\n",
      "Tahir\n"
     ]
    }
   ],
   "source": [
    "# - Write a Python script to print the phrase 'Hello, World!'.\n",
    "# - Print your first name.\n",
    "\n",
    "print(\"Hello World\")\n",
    "print(\"Tahir\")"
   ]
  },
  {
   "cell_type": "markdown",
   "metadata": {},
   "source": [
    "# 2. PRINTING MULTIPLE ITEMS:"
   ]
  },
  {
   "cell_type": "code",
   "execution_count": 3,
   "metadata": {},
   "outputs": [
    {
     "name": "stdout",
     "output_type": "stream",
     "text": [
      "Tahir Abbas\n",
      "1 2 3\n"
     ]
    }
   ],
   "source": [
    "# - Print your first name and last name in a single print statement.\n",
    "# - Print the numbers 1, 2, and 3 in a single print statement.\n",
    "\n",
    "print(\"Tahir Abbas\")\n",
    "print(1,2,3)"
   ]
  },
  {
   "cell_type": "markdown",
   "metadata": {},
   "source": [
    "# 3. PRINTING SPECIAL CHARACTERS:"
   ]
  },
  {
   "cell_type": "code",
   "execution_count": 4,
   "metadata": {},
   "outputs": [
    {
     "name": "stdout",
     "output_type": "stream",
     "text": [
      "Hello \n",
      " Wolrd\n",
      "\t Hello World\n"
     ]
    }
   ],
   "source": [
    "# - Print a string that includes a newline character to display text on two lines. For example:\n",
    "# Hello\n",
    "# World\n",
    "# - Print a string that includes a tab character. For example:\n",
    "# Hello World\n",
    "\n",
    "print(\"Hello \\n Wolrd\")\n",
    "print(\"\\t Hello World\")"
   ]
  },
  {
   "cell_type": "markdown",
   "metadata": {},
   "source": [
    "# 4. USING THE SEP PARAMETER:"
   ]
  },
  {
   "cell_type": "code",
   "execution_count": 6,
   "metadata": {},
   "outputs": [
    {
     "name": "stdout",
     "output_type": "stream",
     "text": [
      "Apple Banana Cherry\n",
      "1-2-3\n"
     ]
    }
   ],
   "source": [
    "# - Print three different words separated by commas. For example: 'apple, banana, cherry'.\n",
    "# - Print three different numbers separated by hyphens. For example: '1-2-3'.\n",
    "\n",
    "print(\"Apple\", \"Banana\", \"Cherry\")\n",
    "print(\"1-2-3\")"
   ]
  },
  {
   "cell_type": "markdown",
   "metadata": {},
   "source": [
    "# 5. USING THE END PARAMETER:"
   ]
  },
  {
   "cell_type": "code",
   "execution_count": 7,
   "metadata": {},
   "outputs": [
    {
     "name": "stdout",
     "output_type": "stream",
     "text": [
      "Hello World\n",
      "12\n"
     ]
    }
   ],
   "source": [
    "# - Print two words on the same line with a space in between. For example: 'Hello World'.\n",
    "# - Print the numbers 1 and 2 on the same line without a space in between. For example: '12'.\n",
    "\n",
    "\n",
    "print(\"Hello World\")\n",
    "print(\"12\")"
   ]
  },
  {
   "cell_type": "markdown",
   "metadata": {},
   "source": [
    "# 6. ESCAPE CHARACTERS:"
   ]
  },
  {
   "cell_type": "code",
   "execution_count": 11,
   "metadata": {},
   "outputs": [
    {
     "name": "stdout",
     "output_type": "stream",
     "text": [
      "He said, \"Hello!\"\n",
      "This is a backslash '\\'\n"
     ]
    }
   ],
   "source": [
    "# - Print a string that includes double quotes. For example: He said, \"Hello!\".\n",
    "# - Print a backslash character. For example: This is a backslash: \\.\n",
    "\n",
    "\n",
    "print('He said, \"Hello!\"')\n",
    "print(\"This is a backslash '\\\\'\")"
   ]
  },
  {
   "cell_type": "markdown",
   "metadata": {},
   "source": [
    "# 7. COMBINING TEXT AND NUMBERS:"
   ]
  },
  {
   "cell_type": "code",
   "execution_count": 12,
   "metadata": {},
   "outputs": [
    {
     "name": "stdout",
     "output_type": "stream",
     "text": [
      "I am 20 years old\n",
      "The number is 10.\n"
     ]
    }
   ],
   "source": [
    "# - Print your age alongside a descriptive message. For example: 'I am 20 years old'.\n",
    "# - Print a number and a string together. For example: 'The number is 5'.\n",
    "\n",
    "\n",
    "print(\"I am 20 years old\")\n",
    "print(\"The number is 10.\")"
   ]
  },
  {
   "cell_type": "markdown",
   "metadata": {},
   "source": [
    "# 8. BASIC LOOP FOR PRINTING:"
   ]
  },
  {
   "cell_type": "code",
   "execution_count": 14,
   "metadata": {},
   "outputs": [
    {
     "name": "stdout",
     "output_type": "stream",
     "text": [
      "1\n",
      "2\n",
      "3\n",
      "4\n",
      "5\n"
     ]
    }
   ],
   "source": [
    "# - Print the numbers 1 to 5, each on a new line using separate print statements.\n",
    "\n",
    "\n",
    "print(1)\n",
    "print(2)\n",
    "print(3)\n",
    "print(4)\n",
    "print(5)"
   ]
  }
 ],
 "metadata": {
  "kernelspec": {
   "display_name": "Python 3",
   "language": "python",
   "name": "python3"
  },
  "language_info": {
   "codemirror_mode": {
    "name": "ipython",
    "version": 3
   },
   "file_extension": ".py",
   "mimetype": "text/x-python",
   "name": "python",
   "nbconvert_exporter": "python",
   "pygments_lexer": "ipython3",
   "version": "3.12.7"
  }
 },
 "nbformat": 4,
 "nbformat_minor": 2
}
